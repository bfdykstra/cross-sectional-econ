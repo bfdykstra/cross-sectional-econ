{
 "cells": [
  {
   "cell_type": "code",
   "execution_count": 1,
   "metadata": {
    "collapsed": true
   },
   "outputs": [],
   "source": [
    "import pandas as pd\n",
    "import numpy as np\n",
    "import statsmodels.api as sm\n",
    "from statsmodels.discrete.discrete_model import Logit, Probit\n",
    "from __future__ import division\n",
    "import seaborn as sns\n",
    "\n",
    "%matplotlib inline\n",
    "import matplotlib.pylab as plt\n",
    "from matplotlib.pylab import rcParams\n",
    "rcParams['figure.figsize'] = 18.5, 10.5\n",
    "\n",
    "def print_resids(preds, resids):\n",
    "    ax = sns.regplot(preds, resids);\n",
    "    ax.set(xlabel = 'Predicted values', ylabel = 'errors', title = 'Predicted values vs. Errors')\n",
    "    plt.show();"
   ]
  },
  {
   "cell_type": "markdown",
   "metadata": {},
   "source": [
    "## Problem 2\n",
    "\n",
    "data on districts from on the 105th Congress (1997-8)"
   ]
  },
  {
   "cell_type": "code",
   "execution_count": 2,
   "metadata": {
    "collapsed": false
   },
   "outputs": [],
   "source": [
    "congress = pd.read_stata(\"http://rlhick.people.wm.edu/econ407/data/congressional_105.dta\" )"
   ]
  },
  {
   "cell_type": "code",
   "execution_count": 3,
   "metadata": {
    "collapsed": false
   },
   "outputs": [
    {
     "data": {
      "text/html": [
       "<div>\n",
       "<table border=\"1\" class=\"dataframe\">\n",
       "  <thead>\n",
       "    <tr style=\"text-align: right;\">\n",
       "      <th></th>\n",
       "      <th>state</th>\n",
       "      <th>fipstate</th>\n",
       "      <th>sc</th>\n",
       "      <th>cd</th>\n",
       "      <th>repub</th>\n",
       "      <th>age65</th>\n",
       "      <th>black</th>\n",
       "      <th>blucllr</th>\n",
       "      <th>city</th>\n",
       "      <th>coast</th>\n",
       "      <th>...</th>\n",
       "      <th>miltpop</th>\n",
       "      <th>nucplant</th>\n",
       "      <th>popsqmi</th>\n",
       "      <th>populatn</th>\n",
       "      <th>rurlfarm</th>\n",
       "      <th>transprt</th>\n",
       "      <th>unemplyd</th>\n",
       "      <th>union</th>\n",
       "      <th>urban</th>\n",
       "      <th>whlretl</th>\n",
       "    </tr>\n",
       "  </thead>\n",
       "  <tbody>\n",
       "    <tr>\n",
       "      <th>0</th>\n",
       "      <td>AK</td>\n",
       "      <td>2</td>\n",
       "      <td>81</td>\n",
       "      <td>1</td>\n",
       "      <td>1.0</td>\n",
       "      <td>25898</td>\n",
       "      <td>22566</td>\n",
       "      <td>31560</td>\n",
       "      <td>0</td>\n",
       "      <td>1</td>\n",
       "      <td>...</td>\n",
       "      <td>24991</td>\n",
       "      <td>0</td>\n",
       "      <td>0.964357</td>\n",
       "      <td>629099</td>\n",
       "      <td>1292</td>\n",
       "      <td>20903</td>\n",
       "      <td>26234</td>\n",
       "      <td>30.400000</td>\n",
       "      <td>222119</td>\n",
       "      <td>50986</td>\n",
       "    </tr>\n",
       "    <tr>\n",
       "      <th>1</th>\n",
       "      <td>AL</td>\n",
       "      <td>1</td>\n",
       "      <td>41</td>\n",
       "      <td>1</td>\n",
       "      <td>1.0</td>\n",
       "      <td>72534</td>\n",
       "      <td>164556</td>\n",
       "      <td>43449</td>\n",
       "      <td>0</td>\n",
       "      <td>1</td>\n",
       "      <td>...</td>\n",
       "      <td>1524</td>\n",
       "      <td>0</td>\n",
       "      <td>85.095802</td>\n",
       "      <td>577630</td>\n",
       "      <td>5475</td>\n",
       "      <td>10925</td>\n",
       "      <td>19799</td>\n",
       "      <td>18.200001</td>\n",
       "      <td>301197</td>\n",
       "      <td>52983</td>\n",
       "    </tr>\n",
       "    <tr>\n",
       "      <th>2</th>\n",
       "      <td>AL</td>\n",
       "      <td>1</td>\n",
       "      <td>41</td>\n",
       "      <td>2</td>\n",
       "      <td>1.0</td>\n",
       "      <td>75396</td>\n",
       "      <td>139311</td>\n",
       "      <td>49886</td>\n",
       "      <td>0</td>\n",
       "      <td>0</td>\n",
       "      <td>...</td>\n",
       "      <td>11250</td>\n",
       "      <td>1</td>\n",
       "      <td>56.973942</td>\n",
       "      <td>577203</td>\n",
       "      <td>12491</td>\n",
       "      <td>11820</td>\n",
       "      <td>14127</td>\n",
       "      <td>18.200001</td>\n",
       "      <td>202022</td>\n",
       "      <td>52623</td>\n",
       "    </tr>\n",
       "    <tr>\n",
       "      <th>3</th>\n",
       "      <td>AL</td>\n",
       "      <td>1</td>\n",
       "      <td>41</td>\n",
       "      <td>3</td>\n",
       "      <td>1.0</td>\n",
       "      <td>74506</td>\n",
       "      <td>150175</td>\n",
       "      <td>65849</td>\n",
       "      <td>0</td>\n",
       "      <td>0</td>\n",
       "      <td>...</td>\n",
       "      <td>5804</td>\n",
       "      <td>0</td>\n",
       "      <td>66.190620</td>\n",
       "      <td>577116</td>\n",
       "      <td>8863</td>\n",
       "      <td>7891</td>\n",
       "      <td>17303</td>\n",
       "      <td>18.200001</td>\n",
       "      <td>157275</td>\n",
       "      <td>45284</td>\n",
       "    </tr>\n",
       "    <tr>\n",
       "      <th>4</th>\n",
       "      <td>AL</td>\n",
       "      <td>1</td>\n",
       "      <td>41</td>\n",
       "      <td>4</td>\n",
       "      <td>1.0</td>\n",
       "      <td>84691</td>\n",
       "      <td>38087</td>\n",
       "      <td>74068</td>\n",
       "      <td>0</td>\n",
       "      <td>0</td>\n",
       "      <td>...</td>\n",
       "      <td>463</td>\n",
       "      <td>0</td>\n",
       "      <td>63.142357</td>\n",
       "      <td>577058</td>\n",
       "      <td>16664</td>\n",
       "      <td>9711</td>\n",
       "      <td>16724</td>\n",
       "      <td>18.200001</td>\n",
       "      <td>71451</td>\n",
       "      <td>48266</td>\n",
       "    </tr>\n",
       "  </tbody>\n",
       "</table>\n",
       "<p>5 rows × 32 columns</p>\n",
       "</div>"
      ],
      "text/plain": [
       "  state  fipstate  sc  cd  repub  age65   black  blucllr  city  coast  \\\n",
       "0    AK         2  81   1    1.0  25898   22566    31560     0      1   \n",
       "1    AL         1  41   1    1.0  72534  164556    43449     0      1   \n",
       "2    AL         1  41   2    1.0  75396  139311    49886     0      0   \n",
       "3    AL         1  41   3    1.0  74506  150175    65849     0      0   \n",
       "4    AL         1  41   4    1.0  84691   38087    74068     0      0   \n",
       "\n",
       "    ...     miltpop  nucplant    popsqmi  populatn  rurlfarm  transprt  \\\n",
       "0   ...       24991         0   0.964357    629099      1292     20903   \n",
       "1   ...        1524         0  85.095802    577630      5475     10925   \n",
       "2   ...       11250         1  56.973942    577203     12491     11820   \n",
       "3   ...        5804         0  66.190620    577116      8863      7891   \n",
       "4   ...         463         0  63.142357    577058     16664      9711   \n",
       "\n",
       "   unemplyd      union   urban  whlretl  \n",
       "0     26234  30.400000  222119    50986  \n",
       "1     19799  18.200001  301197    52983  \n",
       "2     14127  18.200001  202022    52623  \n",
       "3     17303  18.200001  157275    45284  \n",
       "4     16724  18.200001   71451    48266  \n",
       "\n",
       "[5 rows x 32 columns]"
      ]
     },
     "execution_count": 3,
     "metadata": {},
     "output_type": "execute_result"
    }
   ],
   "source": [
    "congress.head()"
   ]
  },
  {
   "cell_type": "markdown",
   "metadata": {},
   "source": [
    "### (a)\n",
    "\n",
    "For the logit, probit and OLS (linear probability) models, I will estimate\n",
    "\n",
    "$$ repub = \\beta_0 + \\beta_1 per\\_age65 + \\beta_2 per\\_black + \\beta_3 per\\_bluecllr + \\beta_4 city + \\beta_5 mdnincm + \\beta_6 per\\_unemployed + \\beta_7 union $$\n",
    "\n",
    "\n",
    "where per_unemployed is the percentage of the district that is unemployed."
   ]
  },
  {
   "cell_type": "code",
   "execution_count": 4,
   "metadata": {
    "collapsed": true
   },
   "outputs": [],
   "source": [
    "#making percentages\n",
    "variables = ['unemplyd', 'age65', 'black', 'blucllr']\n",
    "\n",
    "for v in variables:\n",
    "    congress['per_' + v] = congress[[v, 'populatn']].apply(lambda row: (row[0] / row[1])*100, axis = 1)"
   ]
  },
  {
   "cell_type": "code",
   "execution_count": 5,
   "metadata": {
    "collapsed": false
   },
   "outputs": [
    {
     "data": {
      "text/html": [
       "<div>\n",
       "<table border=\"1\" class=\"dataframe\">\n",
       "  <thead>\n",
       "    <tr style=\"text-align: right;\">\n",
       "      <th></th>\n",
       "      <th>state</th>\n",
       "      <th>fipstate</th>\n",
       "      <th>sc</th>\n",
       "      <th>cd</th>\n",
       "      <th>repub</th>\n",
       "      <th>age65</th>\n",
       "      <th>black</th>\n",
       "      <th>blucllr</th>\n",
       "      <th>city</th>\n",
       "      <th>coast</th>\n",
       "      <th>...</th>\n",
       "      <th>rurlfarm</th>\n",
       "      <th>transprt</th>\n",
       "      <th>unemplyd</th>\n",
       "      <th>union</th>\n",
       "      <th>urban</th>\n",
       "      <th>whlretl</th>\n",
       "      <th>per_unemplyd</th>\n",
       "      <th>per_age65</th>\n",
       "      <th>per_black</th>\n",
       "      <th>per_blucllr</th>\n",
       "    </tr>\n",
       "  </thead>\n",
       "  <tbody>\n",
       "    <tr>\n",
       "      <th>0</th>\n",
       "      <td>AK</td>\n",
       "      <td>2</td>\n",
       "      <td>81</td>\n",
       "      <td>1</td>\n",
       "      <td>1.0</td>\n",
       "      <td>25898</td>\n",
       "      <td>22566</td>\n",
       "      <td>31560</td>\n",
       "      <td>0</td>\n",
       "      <td>1</td>\n",
       "      <td>...</td>\n",
       "      <td>1292</td>\n",
       "      <td>20903</td>\n",
       "      <td>26234</td>\n",
       "      <td>30.400000</td>\n",
       "      <td>222119</td>\n",
       "      <td>50986</td>\n",
       "      <td>4.170091</td>\n",
       "      <td>4.116681</td>\n",
       "      <td>3.587035</td>\n",
       "      <td>5.016698</td>\n",
       "    </tr>\n",
       "    <tr>\n",
       "      <th>1</th>\n",
       "      <td>AL</td>\n",
       "      <td>1</td>\n",
       "      <td>41</td>\n",
       "      <td>1</td>\n",
       "      <td>1.0</td>\n",
       "      <td>72534</td>\n",
       "      <td>164556</td>\n",
       "      <td>43449</td>\n",
       "      <td>0</td>\n",
       "      <td>1</td>\n",
       "      <td>...</td>\n",
       "      <td>5475</td>\n",
       "      <td>10925</td>\n",
       "      <td>19799</td>\n",
       "      <td>18.200001</td>\n",
       "      <td>301197</td>\n",
       "      <td>52983</td>\n",
       "      <td>3.427627</td>\n",
       "      <td>12.557173</td>\n",
       "      <td>28.488133</td>\n",
       "      <td>7.521943</td>\n",
       "    </tr>\n",
       "    <tr>\n",
       "      <th>2</th>\n",
       "      <td>AL</td>\n",
       "      <td>1</td>\n",
       "      <td>41</td>\n",
       "      <td>2</td>\n",
       "      <td>1.0</td>\n",
       "      <td>75396</td>\n",
       "      <td>139311</td>\n",
       "      <td>49886</td>\n",
       "      <td>0</td>\n",
       "      <td>0</td>\n",
       "      <td>...</td>\n",
       "      <td>12491</td>\n",
       "      <td>11820</td>\n",
       "      <td>14127</td>\n",
       "      <td>18.200001</td>\n",
       "      <td>202022</td>\n",
       "      <td>52623</td>\n",
       "      <td>2.447492</td>\n",
       "      <td>13.062302</td>\n",
       "      <td>24.135529</td>\n",
       "      <td>8.642713</td>\n",
       "    </tr>\n",
       "    <tr>\n",
       "      <th>3</th>\n",
       "      <td>AL</td>\n",
       "      <td>1</td>\n",
       "      <td>41</td>\n",
       "      <td>3</td>\n",
       "      <td>1.0</td>\n",
       "      <td>74506</td>\n",
       "      <td>150175</td>\n",
       "      <td>65849</td>\n",
       "      <td>0</td>\n",
       "      <td>0</td>\n",
       "      <td>...</td>\n",
       "      <td>8863</td>\n",
       "      <td>7891</td>\n",
       "      <td>17303</td>\n",
       "      <td>18.200001</td>\n",
       "      <td>157275</td>\n",
       "      <td>45284</td>\n",
       "      <td>2.998184</td>\n",
       "      <td>12.910056</td>\n",
       "      <td>26.021632</td>\n",
       "      <td>11.410011</td>\n",
       "    </tr>\n",
       "    <tr>\n",
       "      <th>4</th>\n",
       "      <td>AL</td>\n",
       "      <td>1</td>\n",
       "      <td>41</td>\n",
       "      <td>4</td>\n",
       "      <td>1.0</td>\n",
       "      <td>84691</td>\n",
       "      <td>38087</td>\n",
       "      <td>74068</td>\n",
       "      <td>0</td>\n",
       "      <td>0</td>\n",
       "      <td>...</td>\n",
       "      <td>16664</td>\n",
       "      <td>9711</td>\n",
       "      <td>16724</td>\n",
       "      <td>18.200001</td>\n",
       "      <td>71451</td>\n",
       "      <td>48266</td>\n",
       "      <td>2.898149</td>\n",
       "      <td>14.676341</td>\n",
       "      <td>6.600203</td>\n",
       "      <td>12.835452</td>\n",
       "    </tr>\n",
       "  </tbody>\n",
       "</table>\n",
       "<p>5 rows × 36 columns</p>\n",
       "</div>"
      ],
      "text/plain": [
       "  state  fipstate  sc  cd  repub  age65   black  blucllr  city  coast  \\\n",
       "0    AK         2  81   1    1.0  25898   22566    31560     0      1   \n",
       "1    AL         1  41   1    1.0  72534  164556    43449     0      1   \n",
       "2    AL         1  41   2    1.0  75396  139311    49886     0      0   \n",
       "3    AL         1  41   3    1.0  74506  150175    65849     0      0   \n",
       "4    AL         1  41   4    1.0  84691   38087    74068     0      0   \n",
       "\n",
       "      ...       rurlfarm  transprt  unemplyd      union   urban  whlretl  \\\n",
       "0     ...           1292     20903     26234  30.400000  222119    50986   \n",
       "1     ...           5475     10925     19799  18.200001  301197    52983   \n",
       "2     ...          12491     11820     14127  18.200001  202022    52623   \n",
       "3     ...           8863      7891     17303  18.200001  157275    45284   \n",
       "4     ...          16664      9711     16724  18.200001   71451    48266   \n",
       "\n",
       "   per_unemplyd  per_age65  per_black  per_blucllr  \n",
       "0      4.170091   4.116681   3.587035     5.016698  \n",
       "1      3.427627  12.557173  28.488133     7.521943  \n",
       "2      2.447492  13.062302  24.135529     8.642713  \n",
       "3      2.998184  12.910056  26.021632    11.410011  \n",
       "4      2.898149  14.676341   6.600203    12.835452  \n",
       "\n",
       "[5 rows x 36 columns]"
      ]
     },
     "execution_count": 5,
     "metadata": {},
     "output_type": "execute_result"
    }
   ],
   "source": [
    "congress.head()"
   ]
  },
  {
   "cell_type": "code",
   "execution_count": 6,
   "metadata": {
    "collapsed": false
   },
   "outputs": [
    {
     "data": {
      "text/plain": [
       "array(['state', 'fipstate', 'sc', 'cd', 'repub', 'age65', 'black',\n",
       "       'blucllr', 'city', 'coast', 'construc', 'cvllbrfr', 'enroll',\n",
       "       'farmer', 'finance', 'forborn', 'gvtwrkr', 'intrland', 'landsqmi',\n",
       "       'mdnincm', 'miltinst', 'miltmajr', 'miltpop', 'nucplant', 'popsqmi',\n",
       "       'populatn', 'rurlfarm', 'transprt', 'unemplyd', 'union', 'urban',\n",
       "       'whlretl', 'per_unemplyd', 'per_age65', 'per_black', 'per_blucllr'], dtype=object)"
      ]
     },
     "execution_count": 6,
     "metadata": {},
     "output_type": "execute_result"
    }
   ],
   "source": [
    "congress.columns.values"
   ]
  },
  {
   "cell_type": "code",
   "execution_count": 7,
   "metadata": {
    "collapsed": false
   },
   "outputs": [
    {
     "data": {
      "text/html": [
       "<div>\n",
       "<table border=\"1\" class=\"dataframe\">\n",
       "  <thead>\n",
       "    <tr style=\"text-align: right;\">\n",
       "      <th></th>\n",
       "      <th>state</th>\n",
       "      <th>fipstate</th>\n",
       "      <th>sc</th>\n",
       "      <th>cd</th>\n",
       "      <th>repub</th>\n",
       "      <th>age65</th>\n",
       "      <th>black</th>\n",
       "      <th>blucllr</th>\n",
       "      <th>city</th>\n",
       "      <th>coast</th>\n",
       "      <th>...</th>\n",
       "      <th>rurlfarm</th>\n",
       "      <th>transprt</th>\n",
       "      <th>unemplyd</th>\n",
       "      <th>union</th>\n",
       "      <th>urban</th>\n",
       "      <th>whlretl</th>\n",
       "      <th>per_unemplyd</th>\n",
       "      <th>per_age65</th>\n",
       "      <th>per_black</th>\n",
       "      <th>per_blucllr</th>\n",
       "    </tr>\n",
       "  </thead>\n",
       "  <tbody>\n",
       "    <tr>\n",
       "      <th>318</th>\n",
       "      <td>OK</td>\n",
       "      <td>40</td>\n",
       "      <td>53</td>\n",
       "      <td>1</td>\n",
       "      <td>NaN</td>\n",
       "      <td>119200</td>\n",
       "      <td>99968</td>\n",
       "      <td>57876</td>\n",
       "      <td>1</td>\n",
       "      <td>0</td>\n",
       "      <td>...</td>\n",
       "      <td>1750</td>\n",
       "      <td>32948</td>\n",
       "      <td>27258</td>\n",
       "      <td>12.9</td>\n",
       "      <td>924952</td>\n",
       "      <td>117114</td>\n",
       "      <td>2.600284</td>\n",
       "      <td>11.371116</td>\n",
       "      <td>9.536474</td>\n",
       "      <td>5.521097</td>\n",
       "    </tr>\n",
       "  </tbody>\n",
       "</table>\n",
       "<p>1 rows × 36 columns</p>\n",
       "</div>"
      ],
      "text/plain": [
       "    state  fipstate  sc  cd  repub   age65  black  blucllr  city  coast  \\\n",
       "318    OK        40  53   1    NaN  119200  99968    57876     1      0   \n",
       "\n",
       "        ...       rurlfarm  transprt  unemplyd  union   urban  whlretl  \\\n",
       "318     ...           1750     32948     27258   12.9  924952   117114   \n",
       "\n",
       "     per_unemplyd  per_age65  per_black  per_blucllr  \n",
       "318      2.600284  11.371116   9.536474     5.521097  \n",
       "\n",
       "[1 rows x 36 columns]"
      ]
     },
     "execution_count": 7,
     "metadata": {},
     "output_type": "execute_result"
    }
   ],
   "source": [
    "#check for null values\n",
    "congress[congress.repub.isnull()]"
   ]
  },
  {
   "cell_type": "markdown",
   "metadata": {},
   "source": [
    "After doing some research on Oklahoma's first congressional district, they had republican congressman Steve Largent from 1994 to 2002. I will code that row as republican."
   ]
  },
  {
   "cell_type": "code",
   "execution_count": 8,
   "metadata": {
    "collapsed": true
   },
   "outputs": [],
   "source": [
    "congress.repub.fillna(value = 1, inplace = True)"
   ]
  },
  {
   "cell_type": "code",
   "execution_count": 9,
   "metadata": {
    "collapsed": false
   },
   "outputs": [
    {
     "name": "stdout",
     "output_type": "stream",
     "text": [
      "Optimization terminated successfully.\n",
      "         Current function value: 0.542084\n",
      "         Iterations 7\n",
      "Optimization terminated successfully.\n",
      "         Current function value: 0.541259\n",
      "         Iterations 7\n"
     ]
    }
   ],
   "source": [
    "ind_vars = [ 'per_age65', 'per_black', 'per_blucllr', 'city','mdnincm', 'per_unemplyd', 'union']\n",
    "dep_var = 'repub'\n",
    "\n",
    "x_const = sm.add_constant(congress[ind_vars])\n",
    "y = congress[dep_var]\n",
    "\n",
    "#Logit and probit models\n",
    "\n",
    "logit_results = Logit(y, x_const).fit()\n",
    "\n",
    "probit_results = Probit(y, x_const).fit()"
   ]
  },
  {
   "cell_type": "markdown",
   "metadata": {},
   "source": [
    "Lets take a look at the summaries."
   ]
  },
  {
   "cell_type": "code",
   "execution_count": 10,
   "metadata": {
    "collapsed": false
   },
   "outputs": [
    {
     "data": {
      "text/html": [
       "<table class=\"simpletable\">\n",
       "<caption>Logit Regression Results</caption>\n",
       "<tr>\n",
       "  <th>Dep. Variable:</th>       <td>repub</td>      <th>  No. Observations:  </th>  <td>   435</td>  \n",
       "</tr>\n",
       "<tr>\n",
       "  <th>Model:</th>               <td>Logit</td>      <th>  Df Residuals:      </th>  <td>   427</td>  \n",
       "</tr>\n",
       "<tr>\n",
       "  <th>Method:</th>               <td>MLE</td>       <th>  Df Model:          </th>  <td>     7</td>  \n",
       "</tr>\n",
       "<tr>\n",
       "  <th>Date:</th>          <td>Mon, 21 Nov 2016</td> <th>  Pseudo R-squ.:     </th>  <td>0.2166</td>  \n",
       "</tr>\n",
       "<tr>\n",
       "  <th>Time:</th>              <td>13:50:41</td>     <th>  Log-Likelihood:    </th> <td> -235.81</td> \n",
       "</tr>\n",
       "<tr>\n",
       "  <th>converged:</th>           <td>True</td>       <th>  LL-Null:           </th> <td> -301.01</td> \n",
       "</tr>\n",
       "<tr>\n",
       "  <th> </th>                      <td> </td>        <th>  LLR p-value:       </th> <td>5.158e-25</td>\n",
       "</tr>\n",
       "</table>\n",
       "<table class=\"simpletable\">\n",
       "<tr>\n",
       "        <td></td>          <th>coef</th>     <th>std err</th>      <th>z</th>      <th>P>|z|</th> <th>[95.0% Conf. Int.]</th> \n",
       "</tr>\n",
       "<tr>\n",
       "  <th>const</th>        <td>    9.5500</td> <td>    1.618</td> <td>    5.902</td> <td> 0.000</td> <td>    6.378    12.722</td>\n",
       "</tr>\n",
       "<tr>\n",
       "  <th>per_age65</th>    <td>   -0.1199</td> <td>    0.037</td> <td>   -3.217</td> <td> 0.001</td> <td>   -0.193    -0.047</td>\n",
       "</tr>\n",
       "<tr>\n",
       "  <th>per_black</th>    <td>   -0.0504</td> <td>    0.013</td> <td>   -3.956</td> <td> 0.000</td> <td>   -0.075    -0.025</td>\n",
       "</tr>\n",
       "<tr>\n",
       "  <th>per_blucllr</th>  <td>   -0.0712</td> <td>    0.063</td> <td>   -1.135</td> <td> 0.256</td> <td>   -0.194     0.052</td>\n",
       "</tr>\n",
       "<tr>\n",
       "  <th>city</th>         <td>   -0.6513</td> <td>    0.259</td> <td>   -2.519</td> <td> 0.012</td> <td>   -1.158    -0.145</td>\n",
       "</tr>\n",
       "<tr>\n",
       "  <th>mdnincm</th>      <td>-5.843e-05</td> <td> 1.92e-05</td> <td>   -3.037</td> <td> 0.002</td> <td>-9.61e-05 -2.07e-05</td>\n",
       "</tr>\n",
       "<tr>\n",
       "  <th>per_unemplyd</th> <td>   -1.4488</td> <td>    0.233</td> <td>   -6.210</td> <td> 0.000</td> <td>   -1.906    -0.992</td>\n",
       "</tr>\n",
       "<tr>\n",
       "  <th>union</th>        <td>   -0.0280</td> <td>    0.016</td> <td>   -1.705</td> <td> 0.088</td> <td>   -0.060     0.004</td>\n",
       "</tr>\n",
       "</table>"
      ],
      "text/plain": [
       "<class 'statsmodels.iolib.summary.Summary'>\n",
       "\"\"\"\n",
       "                           Logit Regression Results                           \n",
       "==============================================================================\n",
       "Dep. Variable:                  repub   No. Observations:                  435\n",
       "Model:                          Logit   Df Residuals:                      427\n",
       "Method:                           MLE   Df Model:                            7\n",
       "Date:                Mon, 21 Nov 2016   Pseudo R-squ.:                  0.2166\n",
       "Time:                        13:50:41   Log-Likelihood:                -235.81\n",
       "converged:                       True   LL-Null:                       -301.01\n",
       "                                        LLR p-value:                 5.158e-25\n",
       "================================================================================\n",
       "                   coef    std err          z      P>|z|      [95.0% Conf. Int.]\n",
       "--------------------------------------------------------------------------------\n",
       "const            9.5500      1.618      5.902      0.000         6.378    12.722\n",
       "per_age65       -0.1199      0.037     -3.217      0.001        -0.193    -0.047\n",
       "per_black       -0.0504      0.013     -3.956      0.000        -0.075    -0.025\n",
       "per_blucllr     -0.0712      0.063     -1.135      0.256        -0.194     0.052\n",
       "city            -0.6513      0.259     -2.519      0.012        -1.158    -0.145\n",
       "mdnincm      -5.843e-05   1.92e-05     -3.037      0.002     -9.61e-05 -2.07e-05\n",
       "per_unemplyd    -1.4488      0.233     -6.210      0.000        -1.906    -0.992\n",
       "union           -0.0280      0.016     -1.705      0.088        -0.060     0.004\n",
       "================================================================================\n",
       "\"\"\""
      ]
     },
     "execution_count": 10,
     "metadata": {},
     "output_type": "execute_result"
    }
   ],
   "source": [
    "logit_results.summary()"
   ]
  },
  {
   "cell_type": "code",
   "execution_count": 11,
   "metadata": {
    "collapsed": false
   },
   "outputs": [
    {
     "data": {
      "text/html": [
       "<table class=\"simpletable\">\n",
       "<caption>Logit Marginal Effects</caption>\n",
       "<tr>\n",
       "  <th>Dep. Variable:</th>  <td>repub</td> \n",
       "</tr>\n",
       "<tr>\n",
       "  <th>Method:</th>         <td>dydx</td>  \n",
       "</tr>\n",
       "<tr>\n",
       "  <th>At:</th>            <td>overall</td>\n",
       "</tr>\n",
       "</table>\n",
       "<table class=\"simpletable\">\n",
       "<tr>\n",
       "        <th></th>          <th>dy/dx</th>    <th>std err</th>      <th>z</th>      <th>P>|z|</th> <th>[95.0% Conf. Int.]</th> \n",
       "</tr>\n",
       "<tr>\n",
       "  <th>per_age65</th>    <td>   -0.0221</td> <td>    0.007</td> <td>   -3.363</td> <td> 0.001</td> <td>   -0.035    -0.009</td>\n",
       "</tr>\n",
       "<tr>\n",
       "  <th>per_black</th>    <td>   -0.0093</td> <td>    0.002</td> <td>   -4.215</td> <td> 0.000</td> <td>   -0.014    -0.005</td>\n",
       "</tr>\n",
       "<tr>\n",
       "  <th>per_blucllr</th>  <td>   -0.0122</td> <td>    0.010</td> <td>   -1.269</td> <td> 0.205</td> <td>   -0.031     0.007</td>\n",
       "</tr>\n",
       "<tr>\n",
       "  <th>city</th>         <td>   -0.1201</td> <td>    0.046</td> <td>   -2.586</td> <td> 0.010</td> <td>   -0.211    -0.029</td>\n",
       "</tr>\n",
       "<tr>\n",
       "  <th>mdnincm</th>      <td>-1.077e-05</td> <td>  3.4e-06</td> <td>   -3.163</td> <td> 0.002</td> <td>-1.74e-05  -4.1e-06</td>\n",
       "</tr>\n",
       "<tr>\n",
       "  <th>per_unemplyd</th> <td>   -0.2670</td> <td>    0.035</td> <td>   -7.538</td> <td> 0.000</td> <td>   -0.336    -0.198</td>\n",
       "</tr>\n",
       "<tr>\n",
       "  <th>union</th>        <td>   -0.0052</td> <td>    0.003</td> <td>   -1.725</td> <td> 0.085</td> <td>   -0.011     0.001</td>\n",
       "</tr>\n",
       "</table>"
      ],
      "text/plain": [
       "<class 'statsmodels.iolib.summary.Summary'>\n",
       "\"\"\"\n",
       "        Logit Marginal Effects       \n",
       "=====================================\n",
       "Dep. Variable:                  repub\n",
       "Method:                          dydx\n",
       "At:                           overall\n",
       "================================================================================\n",
       "                  dy/dx    std err          z      P>|z|      [95.0% Conf. Int.]\n",
       "--------------------------------------------------------------------------------\n",
       "per_age65       -0.0221      0.007     -3.363      0.001        -0.035    -0.009\n",
       "per_black       -0.0093      0.002     -4.215      0.000        -0.014    -0.005\n",
       "per_blucllr     -0.0122      0.010     -1.269      0.205        -0.031     0.007\n",
       "city            -0.1201      0.046     -2.586      0.010        -0.211    -0.029\n",
       "mdnincm      -1.077e-05    3.4e-06     -3.163      0.002     -1.74e-05  -4.1e-06\n",
       "per_unemplyd    -0.2670      0.035     -7.538      0.000        -0.336    -0.198\n",
       "union           -0.0052      0.003     -1.725      0.085        -0.011     0.001\n",
       "================================================================================\n",
       "\"\"\""
      ]
     },
     "execution_count": 11,
     "metadata": {},
     "output_type": "execute_result"
    }
   ],
   "source": [
    "logit_marg = logit_results.get_margeff(dummy = True)\n",
    "logit_marg.summary()"
   ]
  },
  {
   "cell_type": "markdown",
   "metadata": {},
   "source": [
    "Most notably, every 1 percent increase in unemployment decreases the probability of a republican congressman by 26.7%. Second to this, is the proportion of senior citizens: a 1 percent increase in the population of senior citizens correlates to a 2.2 % decrease in the probability of having a republican congressman.\n",
    "\n",
    "Interestingly, the percentage of black population tracks at almost a -1:1 ratio with probability.\n",
    "\n",
    "A 10,000 \\$ increase in median income results in a (-1.0769172934225099e-05 * 10000) = -0.10769 % decrease in probability that that district elects a republican congressman\n",
    "\n",
    "Now we look at probit summary and marginal effects"
   ]
  },
  {
   "cell_type": "code",
   "execution_count": 12,
   "metadata": {
    "collapsed": false
   },
   "outputs": [
    {
     "data": {
      "text/html": [
       "<table class=\"simpletable\">\n",
       "<caption>Probit Regression Results</caption>\n",
       "<tr>\n",
       "  <th>Dep. Variable:</th>       <td>repub</td>      <th>  No. Observations:  </th>  <td>   435</td>  \n",
       "</tr>\n",
       "<tr>\n",
       "  <th>Model:</th>              <td>Probit</td>      <th>  Df Residuals:      </th>  <td>   427</td>  \n",
       "</tr>\n",
       "<tr>\n",
       "  <th>Method:</th>               <td>MLE</td>       <th>  Df Model:          </th>  <td>     7</td>  \n",
       "</tr>\n",
       "<tr>\n",
       "  <th>Date:</th>          <td>Mon, 21 Nov 2016</td> <th>  Pseudo R-squ.:     </th>  <td>0.2178</td>  \n",
       "</tr>\n",
       "<tr>\n",
       "  <th>Time:</th>              <td>13:50:41</td>     <th>  Log-Likelihood:    </th> <td> -235.45</td> \n",
       "</tr>\n",
       "<tr>\n",
       "  <th>converged:</th>           <td>True</td>       <th>  LL-Null:           </th> <td> -301.01</td> \n",
       "</tr>\n",
       "<tr>\n",
       "  <th> </th>                      <td> </td>        <th>  LLR p-value:       </th> <td>3.652e-25</td>\n",
       "</tr>\n",
       "</table>\n",
       "<table class=\"simpletable\">\n",
       "<tr>\n",
       "        <td></td>          <th>coef</th>     <th>std err</th>      <th>z</th>      <th>P>|z|</th> <th>[95.0% Conf. Int.]</th> \n",
       "</tr>\n",
       "<tr>\n",
       "  <th>const</th>        <td>    5.7115</td> <td>    0.939</td> <td>    6.085</td> <td> 0.000</td> <td>    3.872     7.551</td>\n",
       "</tr>\n",
       "<tr>\n",
       "  <th>per_age65</th>    <td>   -0.0711</td> <td>    0.022</td> <td>   -3.253</td> <td> 0.001</td> <td>   -0.114    -0.028</td>\n",
       "</tr>\n",
       "<tr>\n",
       "  <th>per_black</th>    <td>   -0.0301</td> <td>    0.007</td> <td>   -4.038</td> <td> 0.000</td> <td>   -0.045    -0.015</td>\n",
       "</tr>\n",
       "<tr>\n",
       "  <th>per_blucllr</th>  <td>   -0.0425</td> <td>    0.037</td> <td>   -1.135</td> <td> 0.256</td> <td>   -0.116     0.031</td>\n",
       "</tr>\n",
       "<tr>\n",
       "  <th>city</th>         <td>   -0.3945</td> <td>    0.155</td> <td>   -2.541</td> <td> 0.011</td> <td>   -0.699    -0.090</td>\n",
       "</tr>\n",
       "<tr>\n",
       "  <th>mdnincm</th>      <td>-3.476e-05</td> <td> 1.15e-05</td> <td>   -3.024</td> <td> 0.002</td> <td>-5.73e-05 -1.22e-05</td>\n",
       "</tr>\n",
       "<tr>\n",
       "  <th>per_unemplyd</th> <td>   -0.8684</td> <td>    0.135</td> <td>   -6.421</td> <td> 0.000</td> <td>   -1.133    -0.603</td>\n",
       "</tr>\n",
       "<tr>\n",
       "  <th>union</th>        <td>   -0.0171</td> <td>    0.010</td> <td>   -1.745</td> <td> 0.081</td> <td>   -0.036     0.002</td>\n",
       "</tr>\n",
       "</table>"
      ],
      "text/plain": [
       "<class 'statsmodels.iolib.summary.Summary'>\n",
       "\"\"\"\n",
       "                          Probit Regression Results                           \n",
       "==============================================================================\n",
       "Dep. Variable:                  repub   No. Observations:                  435\n",
       "Model:                         Probit   Df Residuals:                      427\n",
       "Method:                           MLE   Df Model:                            7\n",
       "Date:                Mon, 21 Nov 2016   Pseudo R-squ.:                  0.2178\n",
       "Time:                        13:50:41   Log-Likelihood:                -235.45\n",
       "converged:                       True   LL-Null:                       -301.01\n",
       "                                        LLR p-value:                 3.652e-25\n",
       "================================================================================\n",
       "                   coef    std err          z      P>|z|      [95.0% Conf. Int.]\n",
       "--------------------------------------------------------------------------------\n",
       "const            5.7115      0.939      6.085      0.000         3.872     7.551\n",
       "per_age65       -0.0711      0.022     -3.253      0.001        -0.114    -0.028\n",
       "per_black       -0.0301      0.007     -4.038      0.000        -0.045    -0.015\n",
       "per_blucllr     -0.0425      0.037     -1.135      0.256        -0.116     0.031\n",
       "city            -0.3945      0.155     -2.541      0.011        -0.699    -0.090\n",
       "mdnincm      -3.476e-05   1.15e-05     -3.024      0.002     -5.73e-05 -1.22e-05\n",
       "per_unemplyd    -0.8684      0.135     -6.421      0.000        -1.133    -0.603\n",
       "union           -0.0171      0.010     -1.745      0.081        -0.036     0.002\n",
       "================================================================================\n",
       "\"\"\""
      ]
     },
     "execution_count": 12,
     "metadata": {},
     "output_type": "execute_result"
    }
   ],
   "source": [
    "probit_results.summary()"
   ]
  },
  {
   "cell_type": "code",
   "execution_count": 13,
   "metadata": {
    "collapsed": false
   },
   "outputs": [
    {
     "data": {
      "text/html": [
       "<table class=\"simpletable\">\n",
       "<caption>Probit Marginal Effects</caption>\n",
       "<tr>\n",
       "  <th>Dep. Variable:</th>  <td>repub</td> \n",
       "</tr>\n",
       "<tr>\n",
       "  <th>Method:</th>         <td>dydx</td>  \n",
       "</tr>\n",
       "<tr>\n",
       "  <th>At:</th>            <td>overall</td>\n",
       "</tr>\n",
       "</table>\n",
       "<table class=\"simpletable\">\n",
       "<tr>\n",
       "        <th></th>          <th>dy/dx</th>    <th>std err</th>      <th>z</th>      <th>P>|z|</th> <th>[95.0% Conf. Int.]</th> \n",
       "</tr>\n",
       "<tr>\n",
       "  <th>per_age65</th>    <td>   -0.0218</td> <td>    0.006</td> <td>   -3.373</td> <td> 0.001</td> <td>   -0.034    -0.009</td>\n",
       "</tr>\n",
       "<tr>\n",
       "  <th>per_black</th>    <td>   -0.0092</td> <td>    0.002</td> <td>   -4.273</td> <td> 0.000</td> <td>   -0.013    -0.005</td>\n",
       "</tr>\n",
       "<tr>\n",
       "  <th>per_blucllr</th>  <td>   -0.0130</td> <td>    0.011</td> <td>   -1.140</td> <td> 0.254</td> <td>   -0.035     0.009</td>\n",
       "</tr>\n",
       "<tr>\n",
       "  <th>city</th>         <td>   -0.1210</td> <td>    0.047</td> <td>   -2.599</td> <td> 0.009</td> <td>   -0.212    -0.030</td>\n",
       "</tr>\n",
       "<tr>\n",
       "  <th>mdnincm</th>      <td>-1.066e-05</td> <td> 3.42e-06</td> <td>   -3.121</td> <td> 0.002</td> <td>-1.74e-05 -3.96e-06</td>\n",
       "</tr>\n",
       "<tr>\n",
       "  <th>per_unemplyd</th> <td>   -0.2663</td> <td>    0.035</td> <td>   -7.563</td> <td> 0.000</td> <td>   -0.335    -0.197</td>\n",
       "</tr>\n",
       "<tr>\n",
       "  <th>union</th>        <td>   -0.0052</td> <td>    0.003</td> <td>   -1.763</td> <td> 0.078</td> <td>   -0.011     0.001</td>\n",
       "</tr>\n",
       "</table>"
      ],
      "text/plain": [
       "<class 'statsmodels.iolib.summary.Summary'>\n",
       "\"\"\"\n",
       "       Probit Marginal Effects       \n",
       "=====================================\n",
       "Dep. Variable:                  repub\n",
       "Method:                          dydx\n",
       "At:                           overall\n",
       "================================================================================\n",
       "                  dy/dx    std err          z      P>|z|      [95.0% Conf. Int.]\n",
       "--------------------------------------------------------------------------------\n",
       "per_age65       -0.0218      0.006     -3.373      0.001        -0.034    -0.009\n",
       "per_black       -0.0092      0.002     -4.273      0.000        -0.013    -0.005\n",
       "per_blucllr     -0.0130      0.011     -1.140      0.254        -0.035     0.009\n",
       "city            -0.1210      0.047     -2.599      0.009        -0.212    -0.030\n",
       "mdnincm      -1.066e-05   3.42e-06     -3.121      0.002     -1.74e-05 -3.96e-06\n",
       "per_unemplyd    -0.2663      0.035     -7.563      0.000        -0.335    -0.197\n",
       "union           -0.0052      0.003     -1.763      0.078        -0.011     0.001\n",
       "================================================================================\n",
       "\"\"\""
      ]
     },
     "execution_count": 13,
     "metadata": {},
     "output_type": "execute_result"
    }
   ],
   "source": [
    "probit_marg = probit_results.get_margeff()\n",
    "probit_marg.summary()"
   ]
  },
  {
   "cell_type": "code",
   "execution_count": 14,
   "metadata": {
    "collapsed": false
   },
   "outputs": [
    {
     "data": {
      "text/plain": [
       "array([ -3.08426013e-04,  -6.42455778e-05,   8.71612231e-04,\n",
       "         9.23354580e-04,  -1.10433743e-07,  -7.71184393e-04,\n",
       "         8.50164399e-05])"
      ]
     },
     "execution_count": 14,
     "metadata": {},
     "output_type": "execute_result"
    }
   ],
   "source": [
    "np.abs(probit_marg.margeff) - np.abs(logit_marg.margeff)"
   ]
  },
  {
   "cell_type": "markdown",
   "metadata": {},
   "source": [
    "As you can see, the marginal effects of both probit and logit are almost identical, with small decimal differences between them.\n",
    "\n",
    "\n",
    "Now, I show the OLS model:"
   ]
  },
  {
   "cell_type": "code",
   "execution_count": 15,
   "metadata": {
    "collapsed": false
   },
   "outputs": [
    {
     "data": {
      "text/html": [
       "<table class=\"simpletable\">\n",
       "<caption>OLS Regression Results</caption>\n",
       "<tr>\n",
       "  <th>Dep. Variable:</th>          <td>repub</td>      <th>  R-squared:         </th> <td>   0.224</td>\n",
       "</tr>\n",
       "<tr>\n",
       "  <th>Model:</th>                   <td>OLS</td>       <th>  Adj. R-squared:    </th> <td>   0.211</td>\n",
       "</tr>\n",
       "<tr>\n",
       "  <th>Method:</th>             <td>Least Squares</td>  <th>  F-statistic:       </th> <td>   17.59</td>\n",
       "</tr>\n",
       "<tr>\n",
       "  <th>Date:</th>             <td>Mon, 21 Nov 2016</td> <th>  Prob (F-statistic):</th> <td>1.63e-20</td>\n",
       "</tr>\n",
       "<tr>\n",
       "  <th>Time:</th>                 <td>13:50:41</td>     <th>  Log-Likelihood:    </th> <td> -260.11</td>\n",
       "</tr>\n",
       "<tr>\n",
       "  <th>No. Observations:</th>      <td>   435</td>      <th>  AIC:               </th> <td>   536.2</td>\n",
       "</tr>\n",
       "<tr>\n",
       "  <th>Df Residuals:</th>          <td>   427</td>      <th>  BIC:               </th> <td>   568.8</td>\n",
       "</tr>\n",
       "<tr>\n",
       "  <th>Df Model:</th>              <td>     7</td>      <th>                     </th>     <td> </td>   \n",
       "</tr>\n",
       "<tr>\n",
       "  <th>Covariance Type:</th>      <td>nonrobust</td>    <th>                     </th>     <td> </td>   \n",
       "</tr>\n",
       "</table>\n",
       "<table class=\"simpletable\">\n",
       "<tr>\n",
       "        <td></td>          <th>coef</th>     <th>std err</th>      <th>t</th>      <th>P>|t|</th> <th>[95.0% Conf. Int.]</th> \n",
       "</tr>\n",
       "<tr>\n",
       "  <th>const</th>        <td>    2.0296</td> <td>    0.272</td> <td>    7.450</td> <td> 0.000</td> <td>    1.494     2.565</td>\n",
       "</tr>\n",
       "<tr>\n",
       "  <th>per_age65</th>    <td>   -0.0196</td> <td>    0.007</td> <td>   -2.845</td> <td> 0.005</td> <td>   -0.033    -0.006</td>\n",
       "</tr>\n",
       "<tr>\n",
       "  <th>per_black</th>    <td>   -0.0047</td> <td>    0.002</td> <td>   -2.741</td> <td> 0.006</td> <td>   -0.008    -0.001</td>\n",
       "</tr>\n",
       "<tr>\n",
       "  <th>per_blucllr</th>  <td>   -0.0165</td> <td>    0.012</td> <td>   -1.418</td> <td> 0.157</td> <td>   -0.039     0.006</td>\n",
       "</tr>\n",
       "<tr>\n",
       "  <th>city</th>         <td>   -0.1149</td> <td>    0.050</td> <td>   -2.307</td> <td> 0.022</td> <td>   -0.213    -0.017</td>\n",
       "</tr>\n",
       "<tr>\n",
       "  <th>mdnincm</th>      <td>-9.758e-06</td> <td> 3.58e-06</td> <td>   -2.728</td> <td> 0.007</td> <td>-1.68e-05 -2.73e-06</td>\n",
       "</tr>\n",
       "<tr>\n",
       "  <th>per_unemplyd</th> <td>   -0.2259</td> <td>    0.038</td> <td>   -5.929</td> <td> 0.000</td> <td>   -0.301    -0.151</td>\n",
       "</tr>\n",
       "<tr>\n",
       "  <th>union</th>        <td>   -0.0027</td> <td>    0.003</td> <td>   -0.902</td> <td> 0.368</td> <td>   -0.009     0.003</td>\n",
       "</tr>\n",
       "</table>\n",
       "<table class=\"simpletable\">\n",
       "<tr>\n",
       "  <th>Omnibus:</th>       <td> 5.824</td> <th>  Durbin-Watson:     </th> <td>   1.820</td>\n",
       "</tr>\n",
       "<tr>\n",
       "  <th>Prob(Omnibus):</th> <td> 0.054</td> <th>  Jarque-Bera (JB):  </th> <td>  43.811</td>\n",
       "</tr>\n",
       "<tr>\n",
       "  <th>Skew:</th>          <td>-0.284</td> <th>  Prob(JB):          </th> <td>3.07e-10</td>\n",
       "</tr>\n",
       "<tr>\n",
       "  <th>Kurtosis:</th>      <td> 1.553</td> <th>  Cond. No.          </th> <td>4.78e+05</td>\n",
       "</tr>\n",
       "</table>"
      ],
      "text/plain": [
       "<class 'statsmodels.iolib.summary.Summary'>\n",
       "\"\"\"\n",
       "                            OLS Regression Results                            \n",
       "==============================================================================\n",
       "Dep. Variable:                  repub   R-squared:                       0.224\n",
       "Model:                            OLS   Adj. R-squared:                  0.211\n",
       "Method:                 Least Squares   F-statistic:                     17.59\n",
       "Date:                Mon, 21 Nov 2016   Prob (F-statistic):           1.63e-20\n",
       "Time:                        13:50:41   Log-Likelihood:                -260.11\n",
       "No. Observations:                 435   AIC:                             536.2\n",
       "Df Residuals:                     427   BIC:                             568.8\n",
       "Df Model:                           7                                         \n",
       "Covariance Type:            nonrobust                                         \n",
       "================================================================================\n",
       "                   coef    std err          t      P>|t|      [95.0% Conf. Int.]\n",
       "--------------------------------------------------------------------------------\n",
       "const            2.0296      0.272      7.450      0.000         1.494     2.565\n",
       "per_age65       -0.0196      0.007     -2.845      0.005        -0.033    -0.006\n",
       "per_black       -0.0047      0.002     -2.741      0.006        -0.008    -0.001\n",
       "per_blucllr     -0.0165      0.012     -1.418      0.157        -0.039     0.006\n",
       "city            -0.1149      0.050     -2.307      0.022        -0.213    -0.017\n",
       "mdnincm      -9.758e-06   3.58e-06     -2.728      0.007     -1.68e-05 -2.73e-06\n",
       "per_unemplyd    -0.2259      0.038     -5.929      0.000        -0.301    -0.151\n",
       "union           -0.0027      0.003     -0.902      0.368        -0.009     0.003\n",
       "==============================================================================\n",
       "Omnibus:                        5.824   Durbin-Watson:                   1.820\n",
       "Prob(Omnibus):                  0.054   Jarque-Bera (JB):               43.811\n",
       "Skew:                          -0.284   Prob(JB):                     3.07e-10\n",
       "Kurtosis:                       1.553   Cond. No.                     4.78e+05\n",
       "==============================================================================\n",
       "\n",
       "Warnings:\n",
       "[1] Standard Errors assume that the covariance matrix of the errors is correctly specified.\n",
       "[2] The condition number is large, 4.78e+05. This might indicate that there are\n",
       "strong multicollinearity or other numerical problems.\n",
       "\"\"\""
      ]
     },
     "execution_count": 15,
     "metadata": {},
     "output_type": "execute_result"
    }
   ],
   "source": [
    "ols_results = sm.OLS(y, x_const).fit()\n",
    "ols_results.summary()"
   ]
  },
  {
   "cell_type": "markdown",
   "metadata": {},
   "source": [
    "Just like the logit and probit models, the percentage of unemployed people has the biggest effect on the chances of a republican congressman. For every percentage point of unemployment, the chances of a republican go down by 22.6 %. The feature with the second biggest effect is the percentage of the population that is over age 65. For every percent increase in senior citizens, the chances of a republican decrease by 2 %.\n",
    "\n",
    "\n",
    "### (b)\n",
    "\n",
    "For the first 15 observations calculate $p(x_i,\\beta)$ and whether the model predicts whether a district is republican or not "
   ]
  },
  {
   "cell_type": "code",
   "execution_count": 16,
   "metadata": {
    "collapsed": false
   },
   "outputs": [],
   "source": [
    "from scipy.stats import norm"
   ]
  },
  {
   "cell_type": "code",
   "execution_count": 17,
   "metadata": {
    "collapsed": false
   },
   "outputs": [],
   "source": [
    "beta_matrix = np.matrix(probit_results.params.values )\n",
    "beta_matrix = np.reshape(beta_matrix, (-1, 1))\n",
    "x_matrix = np.matrix(x_const[:15])"
   ]
  },
  {
   "cell_type": "code",
   "execution_count": 18,
   "metadata": {
    "collapsed": false
   },
   "outputs": [],
   "source": [
    "xi_b = x_matrix * beta_matrix\n",
    "p_xi_b = norm.cdf(xi_b)"
   ]
  },
  {
   "cell_type": "code",
   "execution_count": 19,
   "metadata": {
    "collapsed": false
   },
   "outputs": [
    {
     "name": "stderr",
     "output_type": "stream",
     "text": [
      "/Users/benjamindykstra/anaconda/lib/python2.7/site-packages/ipykernel/__main__.py:2: SettingWithCopyWarning: \n",
      "A value is trying to be set on a copy of a slice from a DataFrame.\n",
      "Try using .loc[row_indexer,col_indexer] = value instead\n",
      "\n",
      "See the caveats in the documentation: http://pandas.pydata.org/pandas-docs/stable/indexing.html#indexing-view-versus-copy\n",
      "  from ipykernel import kernelapp as app\n"
     ]
    }
   ],
   "source": [
    "by_hand = x_const.ix[:14, :]\n",
    "by_hand['P(x_i, B)'] = pd.DataFrame(p_xi_b)"
   ]
  },
  {
   "cell_type": "code",
   "execution_count": 20,
   "metadata": {
    "collapsed": false
   },
   "outputs": [],
   "source": [
    "by_hand.to_csv(\"calc_by_hand.csv\")"
   ]
  },
  {
   "cell_type": "code",
   "execution_count": 21,
   "metadata": {
    "collapsed": false
   },
   "outputs": [
    {
     "name": "stderr",
     "output_type": "stream",
     "text": [
      "/Users/benjamindykstra/anaconda/lib/python2.7/site-packages/ipykernel/__main__.py:1: SettingWithCopyWarning: \n",
      "A value is trying to be set on a copy of a slice from a DataFrame.\n",
      "Try using .loc[row_indexer,col_indexer] = value instead\n",
      "\n",
      "See the caveats in the documentation: http://pandas.pydata.org/pandas-docs/stable/indexing.html#indexing-view-versus-copy\n",
      "  if __name__ == '__main__':\n"
     ]
    }
   ],
   "source": [
    "by_hand['predict_repub'] = by_hand['P(x_i, B)'].apply(lambda x: 1 if x >= 0.5 else 0)"
   ]
  },
  {
   "cell_type": "code",
   "execution_count": 22,
   "metadata": {
    "collapsed": false
   },
   "outputs": [
    {
     "name": "stderr",
     "output_type": "stream",
     "text": [
      "/Users/benjamindykstra/anaconda/lib/python2.7/site-packages/ipykernel/__main__.py:1: SettingWithCopyWarning: \n",
      "A value is trying to be set on a copy of a slice from a DataFrame.\n",
      "Try using .loc[row_indexer,col_indexer] = value instead\n",
      "\n",
      "See the caveats in the documentation: http://pandas.pydata.org/pandas-docs/stable/indexing.html#indexing-view-versus-copy\n",
      "  if __name__ == '__main__':\n"
     ]
    }
   ],
   "source": [
    "by_hand['repub'] = y[:15]"
   ]
  },
  {
   "cell_type": "markdown",
   "metadata": {},
   "source": [
    "Contrast predicted vote with the actual vote given by each of the first 15 individuals. The column 'predict_repub' are the predictions, and the 'repub' column are the actual results. The predictions are done at a 0.5 threshold: If the model predicts more than a 50% chance of republican, then the prediction is 1, else 0."
   ]
  },
  {
   "cell_type": "code",
   "execution_count": 23,
   "metadata": {
    "collapsed": false
   },
   "outputs": [
    {
     "data": {
      "text/html": [
       "<div>\n",
       "<table border=\"1\" class=\"dataframe\">\n",
       "  <thead>\n",
       "    <tr style=\"text-align: right;\">\n",
       "      <th></th>\n",
       "      <th>predict_repub</th>\n",
       "      <th>repub</th>\n",
       "    </tr>\n",
       "  </thead>\n",
       "  <tbody>\n",
       "    <tr>\n",
       "      <th>0</th>\n",
       "      <td>0</td>\n",
       "      <td>1.0</td>\n",
       "    </tr>\n",
       "    <tr>\n",
       "      <th>1</th>\n",
       "      <td>0</td>\n",
       "      <td>1.0</td>\n",
       "    </tr>\n",
       "    <tr>\n",
       "      <th>2</th>\n",
       "      <td>1</td>\n",
       "      <td>1.0</td>\n",
       "    </tr>\n",
       "    <tr>\n",
       "      <th>3</th>\n",
       "      <td>0</td>\n",
       "      <td>1.0</td>\n",
       "    </tr>\n",
       "    <tr>\n",
       "      <th>4</th>\n",
       "      <td>1</td>\n",
       "      <td>1.0</td>\n",
       "    </tr>\n",
       "    <tr>\n",
       "      <th>5</th>\n",
       "      <td>1</td>\n",
       "      <td>0.0</td>\n",
       "    </tr>\n",
       "    <tr>\n",
       "      <th>6</th>\n",
       "      <td>1</td>\n",
       "      <td>1.0</td>\n",
       "    </tr>\n",
       "    <tr>\n",
       "      <th>7</th>\n",
       "      <td>0</td>\n",
       "      <td>0.0</td>\n",
       "    </tr>\n",
       "    <tr>\n",
       "      <th>8</th>\n",
       "      <td>0</td>\n",
       "      <td>0.0</td>\n",
       "    </tr>\n",
       "    <tr>\n",
       "      <th>9</th>\n",
       "      <td>1</td>\n",
       "      <td>0.0</td>\n",
       "    </tr>\n",
       "    <tr>\n",
       "      <th>10</th>\n",
       "      <td>1</td>\n",
       "      <td>1.0</td>\n",
       "    </tr>\n",
       "    <tr>\n",
       "      <th>11</th>\n",
       "      <td>0</td>\n",
       "      <td>1.0</td>\n",
       "    </tr>\n",
       "    <tr>\n",
       "      <th>12</th>\n",
       "      <td>1</td>\n",
       "      <td>1.0</td>\n",
       "    </tr>\n",
       "    <tr>\n",
       "      <th>13</th>\n",
       "      <td>0</td>\n",
       "      <td>0.0</td>\n",
       "    </tr>\n",
       "    <tr>\n",
       "      <th>14</th>\n",
       "      <td>1</td>\n",
       "      <td>1.0</td>\n",
       "    </tr>\n",
       "  </tbody>\n",
       "</table>\n",
       "</div>"
      ],
      "text/plain": [
       "    predict_repub  repub\n",
       "0               0    1.0\n",
       "1               0    1.0\n",
       "2               1    1.0\n",
       "3               0    1.0\n",
       "4               1    1.0\n",
       "5               1    0.0\n",
       "6               1    1.0\n",
       "7               0    0.0\n",
       "8               0    0.0\n",
       "9               1    0.0\n",
       "10              1    1.0\n",
       "11              0    1.0\n",
       "12              1    1.0\n",
       "13              0    0.0\n",
       "14              1    1.0"
      ]
     },
     "execution_count": 23,
     "metadata": {},
     "output_type": "execute_result"
    }
   ],
   "source": [
    "by_hand[['predict_repub', 'repub']]"
   ]
  },
  {
   "cell_type": "markdown",
   "metadata": {},
   "source": [
    "The confusion matrix has the the form\n",
    "\n",
    "|      | Actual        |                | Total |\n",
    "|-------------- | ------------- | -------------- | ----- |\n",
    "|   Predicted   | 0             | 1              |       |\n",
    "| 0             | true negative | false negative |row sum |\n",
    "| 1             | false positive| true positive  |row sum |\n",
    "| Total         | column sum    | column sum     |total sum |"
   ]
  },
  {
   "cell_type": "code",
   "execution_count": 24,
   "metadata": {
    "collapsed": true
   },
   "outputs": [],
   "source": [
    "from sklearn.metrics import confusion_matrix, classification_report"
   ]
  },
  {
   "cell_type": "code",
   "execution_count": 25,
   "metadata": {
    "collapsed": false
   },
   "outputs": [
    {
     "data": {
      "text/plain": [
       "array([[3, 2],\n",
       "       [4, 6]])"
      ]
     },
     "execution_count": 25,
     "metadata": {},
     "output_type": "execute_result"
    }
   ],
   "source": [
    "confusion_matrix(by_hand['repub'], by_hand['predict_repub'])"
   ]
  },
  {
   "cell_type": "code",
   "execution_count": 26,
   "metadata": {
    "collapsed": false
   },
   "outputs": [
    {
     "name": "stdout",
     "output_type": "stream",
     "text": [
      "             precision    recall  f1-score   support\n",
      "\n",
      "        0.0       0.43      0.60      0.50         5\n",
      "        1.0       0.75      0.60      0.67        10\n",
      "\n",
      "avg / total       0.64      0.60      0.61        15\n",
      "\n"
     ]
    }
   ],
   "source": [
    "print classification_report(by_hand['repub'], by_hand['predict_repub'])"
   ]
  },
  {
   "cell_type": "markdown",
   "metadata": {},
   "source": [
    "So our model only classified democrats correctly in 3 / 7 times. It classified republicans correctly 6 / 8 times. What this tells me is that the model is pretty heavy handed in classifying republicans. I suspect that some factors have a greater influence on the probability than others, namely unemployment and the black population. \n",
    "\n",
    "### (c)\n",
    "\n",
    "Now, I use the model to find where the Democrats should focus their resources. My criteria for this are districts where the probability of going republican is lower than 0.55 - 'swing districts' if you will. "
   ]
  },
  {
   "cell_type": "code",
   "execution_count": 27,
   "metadata": {
    "collapsed": false
   },
   "outputs": [
    {
     "data": {
      "text/html": [
       "<div>\n",
       "<table border=\"1\" class=\"dataframe\">\n",
       "  <thead>\n",
       "    <tr style=\"text-align: right;\">\n",
       "      <th></th>\n",
       "      <th>state</th>\n",
       "      <th>fipstate</th>\n",
       "      <th>sc</th>\n",
       "      <th>cd</th>\n",
       "      <th>repub</th>\n",
       "      <th>age65</th>\n",
       "      <th>black</th>\n",
       "      <th>blucllr</th>\n",
       "      <th>city</th>\n",
       "      <th>coast</th>\n",
       "      <th>...</th>\n",
       "      <th>transprt</th>\n",
       "      <th>unemplyd</th>\n",
       "      <th>union</th>\n",
       "      <th>urban</th>\n",
       "      <th>whlretl</th>\n",
       "      <th>per_unemplyd</th>\n",
       "      <th>per_age65</th>\n",
       "      <th>per_black</th>\n",
       "      <th>per_blucllr</th>\n",
       "      <th>probability</th>\n",
       "    </tr>\n",
       "  </thead>\n",
       "  <tbody>\n",
       "    <tr>\n",
       "      <th>19</th>\n",
       "      <td>CA</td>\n",
       "      <td>6</td>\n",
       "      <td>71</td>\n",
       "      <td>2</td>\n",
       "      <td>1.0</td>\n",
       "      <td>89325</td>\n",
       "      <td>8410</td>\n",
       "      <td>29098</td>\n",
       "      <td>0</td>\n",
       "      <td>0</td>\n",
       "      <td>...</td>\n",
       "      <td>8040</td>\n",
       "      <td>18987</td>\n",
       "      <td>25.400000</td>\n",
       "      <td>185449</td>\n",
       "      <td>48240</td>\n",
       "      <td>3.304719</td>\n",
       "      <td>15.547166</td>\n",
       "      <td>1.463775</td>\n",
       "      <td>5.064556</td>\n",
       "      <td>0.504886</td>\n",
       "    </tr>\n",
       "    <tr>\n",
       "      <th>34</th>\n",
       "      <td>CA</td>\n",
       "      <td>6</td>\n",
       "      <td>71</td>\n",
       "      <td>17</td>\n",
       "      <td>0.0</td>\n",
       "      <td>59816</td>\n",
       "      <td>24991</td>\n",
       "      <td>30290</td>\n",
       "      <td>0</td>\n",
       "      <td>1</td>\n",
       "      <td>...</td>\n",
       "      <td>7374</td>\n",
       "      <td>18759</td>\n",
       "      <td>25.400000</td>\n",
       "      <td>424528</td>\n",
       "      <td>54779</td>\n",
       "      <td>3.284846</td>\n",
       "      <td>10.474244</td>\n",
       "      <td>4.376117</td>\n",
       "      <td>5.304013</td>\n",
       "      <td>0.509042</td>\n",
       "    </tr>\n",
       "    <tr>\n",
       "      <th>42</th>\n",
       "      <td>CA</td>\n",
       "      <td>6</td>\n",
       "      <td>71</td>\n",
       "      <td>25</td>\n",
       "      <td>1.0</td>\n",
       "      <td>43152</td>\n",
       "      <td>25864</td>\n",
       "      <td>26610</td>\n",
       "      <td>1</td>\n",
       "      <td>0</td>\n",
       "      <td>...</td>\n",
       "      <td>9213</td>\n",
       "      <td>14237</td>\n",
       "      <td>25.400000</td>\n",
       "      <td>506718</td>\n",
       "      <td>57774</td>\n",
       "      <td>2.483823</td>\n",
       "      <td>7.528407</td>\n",
       "      <td>4.512299</td>\n",
       "      <td>4.642448</td>\n",
       "      <td>0.530764</td>\n",
       "    </tr>\n",
       "    <tr>\n",
       "      <th>51</th>\n",
       "      <td>CA</td>\n",
       "      <td>6</td>\n",
       "      <td>71</td>\n",
       "      <td>34</td>\n",
       "      <td>0.0</td>\n",
       "      <td>50565</td>\n",
       "      <td>11212</td>\n",
       "      <td>55415</td>\n",
       "      <td>0</td>\n",
       "      <td>0</td>\n",
       "      <td>...</td>\n",
       "      <td>13773</td>\n",
       "      <td>18726</td>\n",
       "      <td>25.400000</td>\n",
       "      <td>573456</td>\n",
       "      <td>58985</td>\n",
       "      <td>3.265464</td>\n",
       "      <td>8.817590</td>\n",
       "      <td>1.955163</td>\n",
       "      <td>9.663339</td>\n",
       "      <td>0.504020</td>\n",
       "    </tr>\n",
       "    <tr>\n",
       "      <th>66</th>\n",
       "      <td>CA</td>\n",
       "      <td>6</td>\n",
       "      <td>71</td>\n",
       "      <td>49</td>\n",
       "      <td>1.0</td>\n",
       "      <td>71244</td>\n",
       "      <td>30024</td>\n",
       "      <td>19415</td>\n",
       "      <td>1</td>\n",
       "      <td>0</td>\n",
       "      <td>...</td>\n",
       "      <td>9186</td>\n",
       "      <td>14314</td>\n",
       "      <td>25.400000</td>\n",
       "      <td>573437</td>\n",
       "      <td>62206</td>\n",
       "      <td>2.496177</td>\n",
       "      <td>12.424033</td>\n",
       "      <td>5.235797</td>\n",
       "      <td>3.385725</td>\n",
       "      <td>0.549205</td>\n",
       "    </tr>\n",
       "    <tr>\n",
       "      <th>68</th>\n",
       "      <td>CA</td>\n",
       "      <td>6</td>\n",
       "      <td>71</td>\n",
       "      <td>51</td>\n",
       "      <td>1.0</td>\n",
       "      <td>65052</td>\n",
       "      <td>9333</td>\n",
       "      <td>24025</td>\n",
       "      <td>1</td>\n",
       "      <td>0</td>\n",
       "      <td>...</td>\n",
       "      <td>8320</td>\n",
       "      <td>13278</td>\n",
       "      <td>25.400000</td>\n",
       "      <td>553964</td>\n",
       "      <td>61953</td>\n",
       "      <td>2.317884</td>\n",
       "      <td>11.355852</td>\n",
       "      <td>1.629222</td>\n",
       "      <td>4.193943</td>\n",
       "      <td>0.533052</td>\n",
       "    </tr>\n",
       "    <tr>\n",
       "      <th>103</th>\n",
       "      <td>FL</td>\n",
       "      <td>12</td>\n",
       "      <td>43</td>\n",
       "      <td>21</td>\n",
       "      <td>1.0</td>\n",
       "      <td>55885</td>\n",
       "      <td>23431</td>\n",
       "      <td>40625</td>\n",
       "      <td>1</td>\n",
       "      <td>0</td>\n",
       "      <td>...</td>\n",
       "      <td>24786</td>\n",
       "      <td>18107</td>\n",
       "      <td>9.600000</td>\n",
       "      <td>557737</td>\n",
       "      <td>72140</td>\n",
       "      <td>3.219583</td>\n",
       "      <td>9.936842</td>\n",
       "      <td>4.166237</td>\n",
       "      <td>7.223481</td>\n",
       "      <td>0.507156</td>\n",
       "    </tr>\n",
       "    <tr>\n",
       "      <th>147</th>\n",
       "      <td>IN</td>\n",
       "      <td>18</td>\n",
       "      <td>22</td>\n",
       "      <td>2</td>\n",
       "      <td>1.0</td>\n",
       "      <td>75839</td>\n",
       "      <td>22634</td>\n",
       "      <td>56329</td>\n",
       "      <td>0</td>\n",
       "      <td>0</td>\n",
       "      <td>...</td>\n",
       "      <td>8074</td>\n",
       "      <td>16693</td>\n",
       "      <td>25.100000</td>\n",
       "      <td>161951</td>\n",
       "      <td>55377</td>\n",
       "      <td>3.011432</td>\n",
       "      <td>13.681423</td>\n",
       "      <td>4.083194</td>\n",
       "      <td>10.161802</td>\n",
       "      <td>0.517377</td>\n",
       "    </tr>\n",
       "    <tr>\n",
       "      <th>164</th>\n",
       "      <td>KY</td>\n",
       "      <td>21</td>\n",
       "      <td>51</td>\n",
       "      <td>5</td>\n",
       "      <td>1.0</td>\n",
       "      <td>74683</td>\n",
       "      <td>5728</td>\n",
       "      <td>45791</td>\n",
       "      <td>0</td>\n",
       "      <td>0</td>\n",
       "      <td>...</td>\n",
       "      <td>10253</td>\n",
       "      <td>25431</td>\n",
       "      <td>20.400000</td>\n",
       "      <td>0</td>\n",
       "      <td>41204</td>\n",
       "      <td>4.070021</td>\n",
       "      <td>11.952397</td>\n",
       "      <td>0.916719</td>\n",
       "      <td>7.328471</td>\n",
       "      <td>0.508003</td>\n",
       "    </tr>\n",
       "    <tr>\n",
       "      <th>168</th>\n",
       "      <td>LA</td>\n",
       "      <td>22</td>\n",
       "      <td>45</td>\n",
       "      <td>3</td>\n",
       "      <td>1.0</td>\n",
       "      <td>89478</td>\n",
       "      <td>203766</td>\n",
       "      <td>73010</td>\n",
       "      <td>0</td>\n",
       "      <td>1</td>\n",
       "      <td>...</td>\n",
       "      <td>24195</td>\n",
       "      <td>33656</td>\n",
       "      <td>13.800000</td>\n",
       "      <td>350552</td>\n",
       "      <td>83487</td>\n",
       "      <td>3.416360</td>\n",
       "      <td>9.082752</td>\n",
       "      <td>20.683922</td>\n",
       "      <td>7.411114</td>\n",
       "      <td>0.505411</td>\n",
       "    </tr>\n",
       "    <tr>\n",
       "      <th>185</th>\n",
       "      <td>MD</td>\n",
       "      <td>24</td>\n",
       "      <td>52</td>\n",
       "      <td>3</td>\n",
       "      <td>0.0</td>\n",
       "      <td>79329</td>\n",
       "      <td>103564</td>\n",
       "      <td>30591</td>\n",
       "      <td>1</td>\n",
       "      <td>1</td>\n",
       "      <td>...</td>\n",
       "      <td>12600</td>\n",
       "      <td>12348</td>\n",
       "      <td>18.600000</td>\n",
       "      <td>586569</td>\n",
       "      <td>61733</td>\n",
       "      <td>2.065878</td>\n",
       "      <td>13.272111</td>\n",
       "      <td>17.326739</td>\n",
       "      <td>5.118017</td>\n",
       "      <td>0.527819</td>\n",
       "    </tr>\n",
       "    <tr>\n",
       "      <th>200</th>\n",
       "      <td>MI</td>\n",
       "      <td>26</td>\n",
       "      <td>23</td>\n",
       "      <td>8</td>\n",
       "      <td>0.0</td>\n",
       "      <td>52360</td>\n",
       "      <td>33396</td>\n",
       "      <td>40515</td>\n",
       "      <td>0</td>\n",
       "      <td>0</td>\n",
       "      <td>...</td>\n",
       "      <td>8017</td>\n",
       "      <td>16717</td>\n",
       "      <td>33.700001</td>\n",
       "      <td>291041</td>\n",
       "      <td>60577</td>\n",
       "      <td>2.876924</td>\n",
       "      <td>9.010932</td>\n",
       "      <td>5.747308</td>\n",
       "      <td>6.972458</td>\n",
       "      <td>0.515268</td>\n",
       "    </tr>\n",
       "    <tr>\n",
       "      <th>203</th>\n",
       "      <td>MI</td>\n",
       "      <td>26</td>\n",
       "      <td>23</td>\n",
       "      <td>11</td>\n",
       "      <td>1.0</td>\n",
       "      <td>71694</td>\n",
       "      <td>23734</td>\n",
       "      <td>25715</td>\n",
       "      <td>0</td>\n",
       "      <td>0</td>\n",
       "      <td>...</td>\n",
       "      <td>7995</td>\n",
       "      <td>12518</td>\n",
       "      <td>33.700001</td>\n",
       "      <td>540673</td>\n",
       "      <td>69532</td>\n",
       "      <td>2.154806</td>\n",
       "      <td>12.341161</td>\n",
       "      <td>4.085490</td>\n",
       "      <td>4.426493</td>\n",
       "      <td>0.548033</td>\n",
       "    </tr>\n",
       "    <tr>\n",
       "      <th>224</th>\n",
       "      <td>MO</td>\n",
       "      <td>29</td>\n",
       "      <td>34</td>\n",
       "      <td>8</td>\n",
       "      <td>1.0</td>\n",
       "      <td>92032</td>\n",
       "      <td>24940</td>\n",
       "      <td>54853</td>\n",
       "      <td>0</td>\n",
       "      <td>0</td>\n",
       "      <td>...</td>\n",
       "      <td>11581</td>\n",
       "      <td>18166</td>\n",
       "      <td>26.600000</td>\n",
       "      <td>0</td>\n",
       "      <td>46882</td>\n",
       "      <td>3.196073</td>\n",
       "      <td>16.191842</td>\n",
       "      <td>4.387871</td>\n",
       "      <td>9.650677</td>\n",
       "      <td>0.503597</td>\n",
       "    </tr>\n",
       "    <tr>\n",
       "      <th>226</th>\n",
       "      <td>MS</td>\n",
       "      <td>28</td>\n",
       "      <td>46</td>\n",
       "      <td>1</td>\n",
       "      <td>1.0</td>\n",
       "      <td>67906</td>\n",
       "      <td>117486</td>\n",
       "      <td>67369</td>\n",
       "      <td>0</td>\n",
       "      <td>0</td>\n",
       "      <td>...</td>\n",
       "      <td>11347</td>\n",
       "      <td>14750</td>\n",
       "      <td>9.300000</td>\n",
       "      <td>29324</td>\n",
       "      <td>41371</td>\n",
       "      <td>2.862988</td>\n",
       "      <td>13.180615</td>\n",
       "      <td>22.804137</td>\n",
       "      <td>13.076383</td>\n",
       "      <td>0.501800</td>\n",
       "    </tr>\n",
       "    <tr>\n",
       "      <th>270</th>\n",
       "      <td>NY</td>\n",
       "      <td>36</td>\n",
       "      <td>13</td>\n",
       "      <td>3</td>\n",
       "      <td>1.0</td>\n",
       "      <td>78042</td>\n",
       "      <td>11417</td>\n",
       "      <td>22396</td>\n",
       "      <td>0</td>\n",
       "      <td>1</td>\n",
       "      <td>...</td>\n",
       "      <td>16944</td>\n",
       "      <td>11630</td>\n",
       "      <td>35.799999</td>\n",
       "      <td>578040</td>\n",
       "      <td>65314</td>\n",
       "      <td>2.003556</td>\n",
       "      <td>13.444669</td>\n",
       "      <td>1.966861</td>\n",
       "      <td>3.858266</td>\n",
       "      <td>0.515407</td>\n",
       "    </tr>\n",
       "    <tr>\n",
       "      <th>303</th>\n",
       "      <td>OH</td>\n",
       "      <td>39</td>\n",
       "      <td>24</td>\n",
       "      <td>5</td>\n",
       "      <td>1.0</td>\n",
       "      <td>73877</td>\n",
       "      <td>12059</td>\n",
       "      <td>67381</td>\n",
       "      <td>0</td>\n",
       "      <td>1</td>\n",
       "      <td>...</td>\n",
       "      <td>9944</td>\n",
       "      <td>16374</td>\n",
       "      <td>27.400000</td>\n",
       "      <td>31507</td>\n",
       "      <td>49877</td>\n",
       "      <td>2.867872</td>\n",
       "      <td>12.939402</td>\n",
       "      <td>2.112109</td>\n",
       "      <td>11.801641</td>\n",
       "      <td>0.522191</td>\n",
       "    </tr>\n",
       "    <tr>\n",
       "      <th>346</th>\n",
       "      <td>PA</td>\n",
       "      <td>42</td>\n",
       "      <td>14</td>\n",
       "      <td>18</td>\n",
       "      <td>0.0</td>\n",
       "      <td>104784</td>\n",
       "      <td>43784</td>\n",
       "      <td>27590</td>\n",
       "      <td>0</td>\n",
       "      <td>0</td>\n",
       "      <td>...</td>\n",
       "      <td>12211</td>\n",
       "      <td>14576</td>\n",
       "      <td>27.000000</td>\n",
       "      <td>554352</td>\n",
       "      <td>62534</td>\n",
       "      <td>2.576307</td>\n",
       "      <td>18.520568</td>\n",
       "      <td>7.738820</td>\n",
       "      <td>4.876531</td>\n",
       "      <td>0.510955</td>\n",
       "    </tr>\n",
       "    <tr>\n",
       "      <th>349</th>\n",
       "      <td>PA</td>\n",
       "      <td>42</td>\n",
       "      <td>14</td>\n",
       "      <td>21</td>\n",
       "      <td>1.0</td>\n",
       "      <td>83625</td>\n",
       "      <td>21737</td>\n",
       "      <td>49211</td>\n",
       "      <td>0</td>\n",
       "      <td>0</td>\n",
       "      <td>...</td>\n",
       "      <td>9783</td>\n",
       "      <td>16587</td>\n",
       "      <td>27.000000</td>\n",
       "      <td>224308</td>\n",
       "      <td>54220</td>\n",
       "      <td>2.931570</td>\n",
       "      <td>14.779801</td>\n",
       "      <td>3.841776</td>\n",
       "      <td>8.697504</td>\n",
       "      <td>0.534030</td>\n",
       "    </tr>\n",
       "    <tr>\n",
       "      <th>368</th>\n",
       "      <td>TX</td>\n",
       "      <td>48</td>\n",
       "      <td>49</td>\n",
       "      <td>1</td>\n",
       "      <td>0.0</td>\n",
       "      <td>90383</td>\n",
       "      <td>102299</td>\n",
       "      <td>44899</td>\n",
       "      <td>0</td>\n",
       "      <td>0</td>\n",
       "      <td>...</td>\n",
       "      <td>8758</td>\n",
       "      <td>16462</td>\n",
       "      <td>12.500000</td>\n",
       "      <td>74553</td>\n",
       "      <td>48569</td>\n",
       "      <td>2.910568</td>\n",
       "      <td>15.980191</td>\n",
       "      <td>18.087002</td>\n",
       "      <td>7.938380</td>\n",
       "      <td>0.510959</td>\n",
       "    </tr>\n",
       "    <tr>\n",
       "      <th>381</th>\n",
       "      <td>TX</td>\n",
       "      <td>48</td>\n",
       "      <td>49</td>\n",
       "      <td>14</td>\n",
       "      <td>1.0</td>\n",
       "      <td>76103</td>\n",
       "      <td>60270</td>\n",
       "      <td>38531</td>\n",
       "      <td>1</td>\n",
       "      <td>1</td>\n",
       "      <td>...</td>\n",
       "      <td>7750</td>\n",
       "      <td>15887</td>\n",
       "      <td>12.500000</td>\n",
       "      <td>55833</td>\n",
       "      <td>50022</td>\n",
       "      <td>2.806851</td>\n",
       "      <td>13.445570</td>\n",
       "      <td>10.648259</td>\n",
       "      <td>6.807501</td>\n",
       "      <td>0.534420</td>\n",
       "    </tr>\n",
       "    <tr>\n",
       "      <th>394</th>\n",
       "      <td>TX</td>\n",
       "      <td>48</td>\n",
       "      <td>49</td>\n",
       "      <td>27</td>\n",
       "      <td>0.0</td>\n",
       "      <td>57683</td>\n",
       "      <td>13771</td>\n",
       "      <td>28929</td>\n",
       "      <td>0</td>\n",
       "      <td>1</td>\n",
       "      <td>...</td>\n",
       "      <td>8046</td>\n",
       "      <td>23087</td>\n",
       "      <td>12.500000</td>\n",
       "      <td>454818</td>\n",
       "      <td>50889</td>\n",
       "      <td>4.079033</td>\n",
       "      <td>10.191487</td>\n",
       "      <td>2.433073</td>\n",
       "      <td>5.111203</td>\n",
       "      <td>0.542102</td>\n",
       "    </tr>\n",
       "  </tbody>\n",
       "</table>\n",
       "<p>22 rows × 37 columns</p>\n",
       "</div>"
      ],
      "text/plain": [
       "    state  fipstate  sc  cd  repub   age65   black  blucllr  city  coast  \\\n",
       "19     CA         6  71   2    1.0   89325    8410    29098     0      0   \n",
       "34     CA         6  71  17    0.0   59816   24991    30290     0      1   \n",
       "42     CA         6  71  25    1.0   43152   25864    26610     1      0   \n",
       "51     CA         6  71  34    0.0   50565   11212    55415     0      0   \n",
       "66     CA         6  71  49    1.0   71244   30024    19415     1      0   \n",
       "68     CA         6  71  51    1.0   65052    9333    24025     1      0   \n",
       "103    FL        12  43  21    1.0   55885   23431    40625     1      0   \n",
       "147    IN        18  22   2    1.0   75839   22634    56329     0      0   \n",
       "164    KY        21  51   5    1.0   74683    5728    45791     0      0   \n",
       "168    LA        22  45   3    1.0   89478  203766    73010     0      1   \n",
       "185    MD        24  52   3    0.0   79329  103564    30591     1      1   \n",
       "200    MI        26  23   8    0.0   52360   33396    40515     0      0   \n",
       "203    MI        26  23  11    1.0   71694   23734    25715     0      0   \n",
       "224    MO        29  34   8    1.0   92032   24940    54853     0      0   \n",
       "226    MS        28  46   1    1.0   67906  117486    67369     0      0   \n",
       "270    NY        36  13   3    1.0   78042   11417    22396     0      1   \n",
       "303    OH        39  24   5    1.0   73877   12059    67381     0      1   \n",
       "346    PA        42  14  18    0.0  104784   43784    27590     0      0   \n",
       "349    PA        42  14  21    1.0   83625   21737    49211     0      0   \n",
       "368    TX        48  49   1    0.0   90383  102299    44899     0      0   \n",
       "381    TX        48  49  14    1.0   76103   60270    38531     1      1   \n",
       "394    TX        48  49  27    0.0   57683   13771    28929     0      1   \n",
       "\n",
       "        ...       transprt  unemplyd      union   urban  whlretl  \\\n",
       "19      ...           8040     18987  25.400000  185449    48240   \n",
       "34      ...           7374     18759  25.400000  424528    54779   \n",
       "42      ...           9213     14237  25.400000  506718    57774   \n",
       "51      ...          13773     18726  25.400000  573456    58985   \n",
       "66      ...           9186     14314  25.400000  573437    62206   \n",
       "68      ...           8320     13278  25.400000  553964    61953   \n",
       "103     ...          24786     18107   9.600000  557737    72140   \n",
       "147     ...           8074     16693  25.100000  161951    55377   \n",
       "164     ...          10253     25431  20.400000       0    41204   \n",
       "168     ...          24195     33656  13.800000  350552    83487   \n",
       "185     ...          12600     12348  18.600000  586569    61733   \n",
       "200     ...           8017     16717  33.700001  291041    60577   \n",
       "203     ...           7995     12518  33.700001  540673    69532   \n",
       "224     ...          11581     18166  26.600000       0    46882   \n",
       "226     ...          11347     14750   9.300000   29324    41371   \n",
       "270     ...          16944     11630  35.799999  578040    65314   \n",
       "303     ...           9944     16374  27.400000   31507    49877   \n",
       "346     ...          12211     14576  27.000000  554352    62534   \n",
       "349     ...           9783     16587  27.000000  224308    54220   \n",
       "368     ...           8758     16462  12.500000   74553    48569   \n",
       "381     ...           7750     15887  12.500000   55833    50022   \n",
       "394     ...           8046     23087  12.500000  454818    50889   \n",
       "\n",
       "     per_unemplyd  per_age65  per_black  per_blucllr  probability  \n",
       "19       3.304719  15.547166   1.463775     5.064556     0.504886  \n",
       "34       3.284846  10.474244   4.376117     5.304013     0.509042  \n",
       "42       2.483823   7.528407   4.512299     4.642448     0.530764  \n",
       "51       3.265464   8.817590   1.955163     9.663339     0.504020  \n",
       "66       2.496177  12.424033   5.235797     3.385725     0.549205  \n",
       "68       2.317884  11.355852   1.629222     4.193943     0.533052  \n",
       "103      3.219583   9.936842   4.166237     7.223481     0.507156  \n",
       "147      3.011432  13.681423   4.083194    10.161802     0.517377  \n",
       "164      4.070021  11.952397   0.916719     7.328471     0.508003  \n",
       "168      3.416360   9.082752  20.683922     7.411114     0.505411  \n",
       "185      2.065878  13.272111  17.326739     5.118017     0.527819  \n",
       "200      2.876924   9.010932   5.747308     6.972458     0.515268  \n",
       "203      2.154806  12.341161   4.085490     4.426493     0.548033  \n",
       "224      3.196073  16.191842   4.387871     9.650677     0.503597  \n",
       "226      2.862988  13.180615  22.804137    13.076383     0.501800  \n",
       "270      2.003556  13.444669   1.966861     3.858266     0.515407  \n",
       "303      2.867872  12.939402   2.112109    11.801641     0.522191  \n",
       "346      2.576307  18.520568   7.738820     4.876531     0.510955  \n",
       "349      2.931570  14.779801   3.841776     8.697504     0.534030  \n",
       "368      2.910568  15.980191  18.087002     7.938380     0.510959  \n",
       "381      2.806851  13.445570  10.648259     6.807501     0.534420  \n",
       "394      4.079033  10.191487   2.433073     5.111203     0.542102  \n",
       "\n",
       "[22 rows x 37 columns]"
      ]
     },
     "execution_count": 27,
     "metadata": {},
     "output_type": "execute_result"
    }
   ],
   "source": [
    "congress['probability'] = probit_results.predict()\n",
    "\n",
    "congress[congress.probability.apply(lambda prob: True if (prob >= 0.5 and prob <= 0.55) else False)]"
   ]
  },
  {
   "cell_type": "markdown",
   "metadata": {},
   "source": [
    "### (d) \n",
    "For both probit and logit, discuss the predictive accuracy of the model by comparing the predicted outcomes with actual chosen outcomes."
   ]
  },
  {
   "cell_type": "code",
   "execution_count": 28,
   "metadata": {
    "collapsed": false
   },
   "outputs": [],
   "source": [
    "# countR2 = # correctly predicted / total #\n",
    "\n",
    "preds_probit = [1 if x >= 0.5 else 0 for x in probit_results.predict()]\n",
    "preds_logit = [1 if x >= 0.5 else 0 for x in logit_results.predict()]"
   ]
  },
  {
   "cell_type": "code",
   "execution_count": 29,
   "metadata": {
    "collapsed": false
   },
   "outputs": [
    {
     "data": {
      "text/plain": [
       "array([[139,  68],\n",
       "       [ 49, 179]])"
      ]
     },
     "execution_count": 29,
     "metadata": {},
     "output_type": "execute_result"
    }
   ],
   "source": [
    "confusion_matrix(congress['repub'], preds_probit)"
   ]
  },
  {
   "cell_type": "code",
   "execution_count": 30,
   "metadata": {
    "collapsed": false
   },
   "outputs": [
    {
     "data": {
      "text/plain": [
       "array([[139,  68],\n",
       "       [ 50, 178]])"
      ]
     },
     "execution_count": 30,
     "metadata": {},
     "output_type": "execute_result"
    }
   ],
   "source": [
    "confusion_matrix(congress['repub'], preds_logit)"
   ]
  },
  {
   "cell_type": "code",
   "execution_count": 31,
   "metadata": {
    "collapsed": false
   },
   "outputs": [
    {
     "name": "stdout",
     "output_type": "stream",
     "text": [
      "the count R^2 for the probit model:  0.731034482759\n"
     ]
    }
   ],
   "source": [
    "countR2_probit =  (confusion_matrix(congress['repub'], preds_probit)[0,0] + \n",
    "confusion_matrix(congress['repub'], preds_probit)[1,1]) / np.sum(confusion_matrix(congress['repub'], preds_probit))\n",
    "\n",
    "print \"the count R^2 for the probit model: \", countR2_probit"
   ]
  },
  {
   "cell_type": "code",
   "execution_count": 32,
   "metadata": {
    "collapsed": false
   },
   "outputs": [
    {
     "name": "stdout",
     "output_type": "stream",
     "text": [
      "the count R^2 for the logit model:  0.728735632184\n"
     ]
    }
   ],
   "source": [
    "countR2_logit =  (confusion_matrix(congress['repub'], preds_logit)[0,0] + \n",
    "confusion_matrix(congress['repub'], preds_logit)[1,1]) / np.sum(confusion_matrix(congress['repub'], preds_logit))\n",
    "\n",
    "print \"the count R^2 for the logit model: \", countR2_logit"
   ]
  },
  {
   "cell_type": "markdown",
   "metadata": {},
   "source": [
    "So far, probit and logit are neck and neck. Their classification accuracy is almost exactly the same for both models, with probit doing one prediction better. Lets take a look at McFadden's R2 (aka the pseudo R2):"
   ]
  },
  {
   "cell_type": "code",
   "execution_count": 33,
   "metadata": {
    "collapsed": false
   },
   "outputs": [
    {
     "data": {
      "text/plain": [
       "(0.21781295278040247, 0.21662053801812553)"
      ]
     },
     "execution_count": 33,
     "metadata": {},
     "output_type": "execute_result"
    }
   ],
   "source": [
    "probit_results.prsquared, logit_results.prsquared"
   ]
  },
  {
   "cell_type": "markdown",
   "metadata": {},
   "source": [
    "Again, probit does slightly better than the logit. \n",
    "\n",
    "Lets dive in to what each measure of fit is capturing.\n",
    "\n",
    "**Count R2** captures how well the model is classifying overall . It is not like other classic types of R2. It does not measure any kind of information gain from a null model to a fully specified model.\n",
    "\n",
    "**McFadden's R2** = (1 - (log likelihood full model / log likelihood only intercept)). The log likelihood of the intercept model is treated as a total sum of squares, and the log likelihood of the full model is treated as the sum of squared errors (like in approach 1). The ratio of the likelihoods suggests the level of improvement over the intercept model offered by the full model. \n",
    "\n",
    "\n",
    "### (e) \n",
    "Which model do I recommend?\n",
    "\n",
    "I recommend the probit model. In reality, both models are almost exactly the same, with the same predictive power. Probit edges out the logit with its higher pseudo R2, and slightly better count R2. Both model's marginal effects are of the same size and almost identical magnitude.\n",
    "\n",
    "\n",
    "### (f)\n",
    "\n",
    "Suppose we uniformly increase the number of african americans in every district by 5000. Describe how the model parameters and probabilities can be used to interpret this scenario. Being as specific as you can, investigate\n",
    "the predicted probabilities for the first 15 observations from part (b). What is your estimate of the % of ‘Republican’ districts?\n",
    "\n",
    "\n",
    "My model parameter for the black population is the percentage of that districts population that is black. So the increase in percentage will depend on how large that district is. My probit model predicts that for every percentage increase in the black population, the chances of having a republican representative goes down by 0.9 %."
   ]
  },
  {
   "cell_type": "code",
   "execution_count": 34,
   "metadata": {
    "collapsed": false
   },
   "outputs": [],
   "source": [
    "congress_incr = congress.copy()\n",
    "congress_incr['black'] = congress_incr.black + 5000\n",
    "congress_incr['populatn'] = congress_incr.populatn + 5000"
   ]
  },
  {
   "cell_type": "code",
   "execution_count": 35,
   "metadata": {
    "collapsed": true
   },
   "outputs": [],
   "source": [
    "#get the increased percentages of populations\n",
    "congress_incr.per_black = congress_incr[['black', 'populatn']].apply(lambda row: (row[0] / row[1])*100, axis = 1)"
   ]
  },
  {
   "cell_type": "code",
   "execution_count": 36,
   "metadata": {
    "collapsed": false
   },
   "outputs": [],
   "source": [
    "x_incr = sm.add_constant(congress_incr[ind_vars])\n",
    "y_incr = congress_incr[dep_var]"
   ]
  },
  {
   "cell_type": "markdown",
   "metadata": {},
   "source": [
    "Get the probability predictions for the increased black population. After that, we'll look at the change in probability from the actual population, to the increased population."
   ]
  },
  {
   "cell_type": "code",
   "execution_count": 37,
   "metadata": {
    "collapsed": false
   },
   "outputs": [],
   "source": [
    "congress_incr['incr_probability'] = probit_results.predict(exog = x_incr)"
   ]
  },
  {
   "cell_type": "code",
   "execution_count": 38,
   "metadata": {
    "collapsed": false
   },
   "outputs": [
    {
     "data": {
      "text/plain": [
       "-0.007245320944302414"
      ]
     },
     "execution_count": 38,
     "metadata": {},
     "output_type": "execute_result"
    }
   ],
   "source": [
    "congress_incr.incr_probability.mean()- congress_incr.probability.mean()"
   ]
  },
  {
   "cell_type": "markdown",
   "metadata": {},
   "source": [
    "With the increase in 5000 black people in every district, the mean probability of a republican congressman goes down from 52.3 % to 51.6 %, a .00724 difference."
   ]
  },
  {
   "cell_type": "code",
   "execution_count": 39,
   "metadata": {
    "collapsed": false
   },
   "outputs": [],
   "source": [
    "congress_incr['change_in_black'] = (congress_incr.per_black - congress.per_black)"
   ]
  },
  {
   "cell_type": "markdown",
   "metadata": {},
   "source": [
    "look at the change in percentage of black population multiplied by its marginal effect to get the predicted drop in probability."
   ]
  },
  {
   "cell_type": "code",
   "execution_count": 40,
   "metadata": {
    "collapsed": false
   },
   "outputs": [
    {
     "data": {
      "text/plain": [
       "-0.0069820518279979371"
      ]
     },
     "execution_count": 40,
     "metadata": {},
     "output_type": "execute_result"
    }
   ],
   "source": [
    "congress_incr.change_in_black.mean() * probit_marg.margeff[1]"
   ]
  },
  {
   "cell_type": "markdown",
   "metadata": {},
   "source": [
    "Thats actually really close to the difference in mean probabilities, only a 3% difference between the two.\n",
    "\n",
    "\n",
    "Now, I investigate the predicted probabilities for the first 15 observations. Then, get the percentage of predicted republican districts."
   ]
  },
  {
   "cell_type": "code",
   "execution_count": 41,
   "metadata": {
    "collapsed": false
   },
   "outputs": [],
   "source": [
    "x_matrix = np.matrix(x_incr[:15])\n",
    "\n",
    "xi_b = x_matrix * beta_matrix\n",
    "p_xi_b = norm.cdf(xi_b)"
   ]
  },
  {
   "cell_type": "code",
   "execution_count": 42,
   "metadata": {
    "collapsed": true
   },
   "outputs": [],
   "source": [
    "increase = x_incr.ix[:14, :].copy()\n",
    "increase['P(x_i, B)'] = pd.DataFrame(p_xi_b)"
   ]
  },
  {
   "cell_type": "code",
   "execution_count": 43,
   "metadata": {
    "collapsed": false
   },
   "outputs": [
    {
     "data": {
      "text/html": [
       "<div>\n",
       "<table border=\"1\" class=\"dataframe\">\n",
       "  <thead>\n",
       "    <tr style=\"text-align: right;\">\n",
       "      <th></th>\n",
       "      <th>per_black</th>\n",
       "      <th>P(x_i, B)</th>\n",
       "    </tr>\n",
       "  </thead>\n",
       "  <tbody>\n",
       "    <tr>\n",
       "      <th>0</th>\n",
       "      <td>4.347271</td>\n",
       "      <td>0.246377</td>\n",
       "    </tr>\n",
       "    <tr>\n",
       "      <th>1</th>\n",
       "      <td>29.101831</td>\n",
       "      <td>0.269378</td>\n",
       "    </tr>\n",
       "    <tr>\n",
       "      <th>2</th>\n",
       "      <td>24.787059</td>\n",
       "      <td>0.582589</td>\n",
       "    </tr>\n",
       "    <tr>\n",
       "      <th>3</th>\n",
       "      <td>26.657058</td>\n",
       "      <td>0.367230</td>\n",
       "    </tr>\n",
       "    <tr>\n",
       "      <th>4</th>\n",
       "      <td>7.402527</td>\n",
       "      <td>0.574961</td>\n",
       "    </tr>\n",
       "    <tr>\n",
       "      <th>5</th>\n",
       "      <td>15.561929</td>\n",
       "      <td>0.640645</td>\n",
       "    </tr>\n",
       "    <tr>\n",
       "      <th>6</th>\n",
       "      <td>9.886288</td>\n",
       "      <td>0.852235</td>\n",
       "    </tr>\n",
       "    <tr>\n",
       "      <th>7</th>\n",
       "      <td>67.725220</td>\n",
       "      <td>0.011157</td>\n",
       "    </tr>\n",
       "    <tr>\n",
       "      <th>8</th>\n",
       "      <td>18.573657</td>\n",
       "      <td>0.435503</td>\n",
       "    </tr>\n",
       "    <tr>\n",
       "      <th>9</th>\n",
       "      <td>18.307529</td>\n",
       "      <td>0.685013</td>\n",
       "    </tr>\n",
       "    <tr>\n",
       "      <th>10</th>\n",
       "      <td>2.401421</td>\n",
       "      <td>0.863780</td>\n",
       "    </tr>\n",
       "    <tr>\n",
       "      <th>11</th>\n",
       "      <td>27.188996</td>\n",
       "      <td>0.375514</td>\n",
       "    </tr>\n",
       "    <tr>\n",
       "      <th>12</th>\n",
       "      <td>3.952148</td>\n",
       "      <td>0.664408</td>\n",
       "    </tr>\n",
       "    <tr>\n",
       "      <th>13</th>\n",
       "      <td>7.389212</td>\n",
       "      <td>0.213952</td>\n",
       "    </tr>\n",
       "    <tr>\n",
       "      <th>14</th>\n",
       "      <td>2.598666</td>\n",
       "      <td>0.555836</td>\n",
       "    </tr>\n",
       "  </tbody>\n",
       "</table>\n",
       "</div>"
      ],
      "text/plain": [
       "    per_black  P(x_i, B)\n",
       "0    4.347271   0.246377\n",
       "1   29.101831   0.269378\n",
       "2   24.787059   0.582589\n",
       "3   26.657058   0.367230\n",
       "4    7.402527   0.574961\n",
       "5   15.561929   0.640645\n",
       "6    9.886288   0.852235\n",
       "7   67.725220   0.011157\n",
       "8   18.573657   0.435503\n",
       "9   18.307529   0.685013\n",
       "10   2.401421   0.863780\n",
       "11  27.188996   0.375514\n",
       "12   3.952148   0.664408\n",
       "13   7.389212   0.213952\n",
       "14   2.598666   0.555836"
      ]
     },
     "execution_count": 43,
     "metadata": {},
     "output_type": "execute_result"
    }
   ],
   "source": [
    "increase[['per_black', 'P(x_i, B)']]"
   ]
  },
  {
   "cell_type": "code",
   "execution_count": 44,
   "metadata": {
    "collapsed": false
   },
   "outputs": [
    {
     "data": {
      "text/html": [
       "<div>\n",
       "<table border=\"1\" class=\"dataframe\">\n",
       "  <thead>\n",
       "    <tr style=\"text-align: right;\">\n",
       "      <th></th>\n",
       "      <th>per_black</th>\n",
       "      <th>P(x_i, B)</th>\n",
       "      <th>predict_repub</th>\n",
       "      <th>repub</th>\n",
       "    </tr>\n",
       "  </thead>\n",
       "  <tbody>\n",
       "    <tr>\n",
       "      <th>0</th>\n",
       "      <td>4.347271</td>\n",
       "      <td>0.246377</td>\n",
       "      <td>0</td>\n",
       "      <td>1.0</td>\n",
       "    </tr>\n",
       "    <tr>\n",
       "      <th>1</th>\n",
       "      <td>29.101831</td>\n",
       "      <td>0.269378</td>\n",
       "      <td>0</td>\n",
       "      <td>1.0</td>\n",
       "    </tr>\n",
       "    <tr>\n",
       "      <th>2</th>\n",
       "      <td>24.787059</td>\n",
       "      <td>0.582589</td>\n",
       "      <td>1</td>\n",
       "      <td>1.0</td>\n",
       "    </tr>\n",
       "    <tr>\n",
       "      <th>3</th>\n",
       "      <td>26.657058</td>\n",
       "      <td>0.367230</td>\n",
       "      <td>0</td>\n",
       "      <td>1.0</td>\n",
       "    </tr>\n",
       "    <tr>\n",
       "      <th>4</th>\n",
       "      <td>7.402527</td>\n",
       "      <td>0.574961</td>\n",
       "      <td>1</td>\n",
       "      <td>1.0</td>\n",
       "    </tr>\n",
       "    <tr>\n",
       "      <th>5</th>\n",
       "      <td>15.561929</td>\n",
       "      <td>0.640645</td>\n",
       "      <td>1</td>\n",
       "      <td>0.0</td>\n",
       "    </tr>\n",
       "    <tr>\n",
       "      <th>6</th>\n",
       "      <td>9.886288</td>\n",
       "      <td>0.852235</td>\n",
       "      <td>1</td>\n",
       "      <td>1.0</td>\n",
       "    </tr>\n",
       "    <tr>\n",
       "      <th>7</th>\n",
       "      <td>67.725220</td>\n",
       "      <td>0.011157</td>\n",
       "      <td>0</td>\n",
       "      <td>0.0</td>\n",
       "    </tr>\n",
       "    <tr>\n",
       "      <th>8</th>\n",
       "      <td>18.573657</td>\n",
       "      <td>0.435503</td>\n",
       "      <td>0</td>\n",
       "      <td>0.0</td>\n",
       "    </tr>\n",
       "    <tr>\n",
       "      <th>9</th>\n",
       "      <td>18.307529</td>\n",
       "      <td>0.685013</td>\n",
       "      <td>1</td>\n",
       "      <td>0.0</td>\n",
       "    </tr>\n",
       "    <tr>\n",
       "      <th>10</th>\n",
       "      <td>2.401421</td>\n",
       "      <td>0.863780</td>\n",
       "      <td>1</td>\n",
       "      <td>1.0</td>\n",
       "    </tr>\n",
       "    <tr>\n",
       "      <th>11</th>\n",
       "      <td>27.188996</td>\n",
       "      <td>0.375514</td>\n",
       "      <td>0</td>\n",
       "      <td>1.0</td>\n",
       "    </tr>\n",
       "    <tr>\n",
       "      <th>12</th>\n",
       "      <td>3.952148</td>\n",
       "      <td>0.664408</td>\n",
       "      <td>1</td>\n",
       "      <td>1.0</td>\n",
       "    </tr>\n",
       "    <tr>\n",
       "      <th>13</th>\n",
       "      <td>7.389212</td>\n",
       "      <td>0.213952</td>\n",
       "      <td>0</td>\n",
       "      <td>0.0</td>\n",
       "    </tr>\n",
       "    <tr>\n",
       "      <th>14</th>\n",
       "      <td>2.598666</td>\n",
       "      <td>0.555836</td>\n",
       "      <td>1</td>\n",
       "      <td>1.0</td>\n",
       "    </tr>\n",
       "  </tbody>\n",
       "</table>\n",
       "</div>"
      ],
      "text/plain": [
       "    per_black  P(x_i, B)  predict_repub  repub\n",
       "0    4.347271   0.246377              0    1.0\n",
       "1   29.101831   0.269378              0    1.0\n",
       "2   24.787059   0.582589              1    1.0\n",
       "3   26.657058   0.367230              0    1.0\n",
       "4    7.402527   0.574961              1    1.0\n",
       "5   15.561929   0.640645              1    0.0\n",
       "6    9.886288   0.852235              1    1.0\n",
       "7   67.725220   0.011157              0    0.0\n",
       "8   18.573657   0.435503              0    0.0\n",
       "9   18.307529   0.685013              1    0.0\n",
       "10   2.401421   0.863780              1    1.0\n",
       "11  27.188996   0.375514              0    1.0\n",
       "12   3.952148   0.664408              1    1.0\n",
       "13   7.389212   0.213952              0    0.0\n",
       "14   2.598666   0.555836              1    1.0"
      ]
     },
     "execution_count": 44,
     "metadata": {},
     "output_type": "execute_result"
    }
   ],
   "source": [
    "increase['predict_repub'] = increase['P(x_i, B)'].apply(lambda x: 1 if x >= 0.5 else 0)\n",
    "increase['repub'] = y_incr[:15]\n",
    "\n",
    "increase[['per_black', 'P(x_i, B)', 'predict_repub', 'repub']]"
   ]
  },
  {
   "cell_type": "code",
   "execution_count": 45,
   "metadata": {
    "collapsed": false
   },
   "outputs": [
    {
     "data": {
      "text/html": [
       "<div>\n",
       "<table border=\"1\" class=\"dataframe\">\n",
       "  <thead>\n",
       "    <tr style=\"text-align: right;\">\n",
       "      <th></th>\n",
       "      <th>per_black</th>\n",
       "      <th>P(x_i, B)</th>\n",
       "      <th>predict_repub</th>\n",
       "      <th>repub</th>\n",
       "    </tr>\n",
       "  </thead>\n",
       "  <tbody>\n",
       "    <tr>\n",
       "      <th>0</th>\n",
       "      <td>3.587035</td>\n",
       "      <td>0.253639</td>\n",
       "      <td>0</td>\n",
       "      <td>1.0</td>\n",
       "    </tr>\n",
       "    <tr>\n",
       "      <th>1</th>\n",
       "      <td>28.488133</td>\n",
       "      <td>0.275506</td>\n",
       "      <td>0</td>\n",
       "      <td>1.0</td>\n",
       "    </tr>\n",
       "    <tr>\n",
       "      <th>2</th>\n",
       "      <td>24.135529</td>\n",
       "      <td>0.590219</td>\n",
       "      <td>1</td>\n",
       "      <td>1.0</td>\n",
       "    </tr>\n",
       "    <tr>\n",
       "      <th>3</th>\n",
       "      <td>26.021632</td>\n",
       "      <td>0.374448</td>\n",
       "      <td>0</td>\n",
       "      <td>1.0</td>\n",
       "    </tr>\n",
       "    <tr>\n",
       "      <th>4</th>\n",
       "      <td>6.600203</td>\n",
       "      <td>0.584390</td>\n",
       "      <td>1</td>\n",
       "      <td>1.0</td>\n",
       "    </tr>\n",
       "    <tr>\n",
       "      <th>5</th>\n",
       "      <td>14.830528</td>\n",
       "      <td>0.648832</td>\n",
       "      <td>1</td>\n",
       "      <td>0.0</td>\n",
       "    </tr>\n",
       "    <tr>\n",
       "      <th>6</th>\n",
       "      <td>9.105636</td>\n",
       "      <td>0.857586</td>\n",
       "      <td>1</td>\n",
       "      <td>1.0</td>\n",
       "    </tr>\n",
       "    <tr>\n",
       "      <th>7</th>\n",
       "      <td>67.445751</td>\n",
       "      <td>0.011405</td>\n",
       "      <td>0</td>\n",
       "      <td>0.0</td>\n",
       "    </tr>\n",
       "    <tr>\n",
       "      <th>8</th>\n",
       "      <td>17.881948</td>\n",
       "      <td>0.443703</td>\n",
       "      <td>0</td>\n",
       "      <td>0.0</td>\n",
       "    </tr>\n",
       "    <tr>\n",
       "      <th>9</th>\n",
       "      <td>17.612170</td>\n",
       "      <td>0.692401</td>\n",
       "      <td>1</td>\n",
       "      <td>0.0</td>\n",
       "    </tr>\n",
       "    <tr>\n",
       "      <th>10</th>\n",
       "      <td>1.573645</td>\n",
       "      <td>0.869142</td>\n",
       "      <td>1</td>\n",
       "      <td>1.0</td>\n",
       "    </tr>\n",
       "    <tr>\n",
       "      <th>11</th>\n",
       "      <td>26.566895</td>\n",
       "      <td>0.382629</td>\n",
       "      <td>0</td>\n",
       "      <td>1.0</td>\n",
       "    </tr>\n",
       "    <tr>\n",
       "      <th>12</th>\n",
       "      <td>3.165924</td>\n",
       "      <td>0.672981</td>\n",
       "      <td>1</td>\n",
       "      <td>1.0</td>\n",
       "    </tr>\n",
       "    <tr>\n",
       "      <th>13</th>\n",
       "      <td>6.645895</td>\n",
       "      <td>0.220520</td>\n",
       "      <td>0</td>\n",
       "      <td>0.0</td>\n",
       "    </tr>\n",
       "    <tr>\n",
       "      <th>14</th>\n",
       "      <td>1.822104</td>\n",
       "      <td>0.565042</td>\n",
       "      <td>1</td>\n",
       "      <td>1.0</td>\n",
       "    </tr>\n",
       "  </tbody>\n",
       "</table>\n",
       "</div>"
      ],
      "text/plain": [
       "    per_black  P(x_i, B)  predict_repub  repub\n",
       "0    3.587035   0.253639              0    1.0\n",
       "1   28.488133   0.275506              0    1.0\n",
       "2   24.135529   0.590219              1    1.0\n",
       "3   26.021632   0.374448              0    1.0\n",
       "4    6.600203   0.584390              1    1.0\n",
       "5   14.830528   0.648832              1    0.0\n",
       "6    9.105636   0.857586              1    1.0\n",
       "7   67.445751   0.011405              0    0.0\n",
       "8   17.881948   0.443703              0    0.0\n",
       "9   17.612170   0.692401              1    0.0\n",
       "10   1.573645   0.869142              1    1.0\n",
       "11  26.566895   0.382629              0    1.0\n",
       "12   3.165924   0.672981              1    1.0\n",
       "13   6.645895   0.220520              0    0.0\n",
       "14   1.822104   0.565042              1    1.0"
      ]
     },
     "execution_count": 45,
     "metadata": {},
     "output_type": "execute_result"
    }
   ],
   "source": [
    "by_hand[['per_black', 'P(x_i, B)', 'predict_repub', 'repub']]"
   ]
  },
  {
   "cell_type": "code",
   "execution_count": 46,
   "metadata": {
    "collapsed": false
   },
   "outputs": [
    {
     "data": {
      "text/plain": [
       "array([[3, 2],\n",
       "       [4, 6]])"
      ]
     },
     "execution_count": 46,
     "metadata": {},
     "output_type": "execute_result"
    }
   ],
   "source": [
    "confusion_matrix(increase['repub'], increase['predict_repub'])"
   ]
  },
  {
   "cell_type": "code",
   "execution_count": 47,
   "metadata": {
    "collapsed": false
   },
   "outputs": [
    {
     "data": {
      "text/plain": [
       "0.6931856684885246"
      ]
     },
     "execution_count": 47,
     "metadata": {},
     "output_type": "execute_result"
    }
   ],
   "source": [
    "(increase.per_black - by_hand.per_black).mean()"
   ]
  },
  {
   "cell_type": "markdown",
   "metadata": {},
   "source": [
    "My model predicts that 75% of the districts will be republican. This is the same estimate as before the increase. Although the percentage of the black population increased by a mean of 0.69%, this was not enough to significantly tip the scales for any districts.\n",
    "\n",
    "### (g)\n",
    "\n",
    "Describe how the matrix of second derivatives (also known as the information matrix) of\n",
    "the Likelihood Function is useful for calculating standard errors.\n",
    "\n",
    "The information matrix is the negative (k + 1) x (k + 1) matrix of second derivatives. The inverse of this matrix is our estimated variance/covariance matrix for the parameters. The standard errors for parameter i is $\\sqrt{I(\\hat \\theta_{ii})^{-1}}$. The reason we use the second derivative is that it tells us how fast our likelihood changes the farther we get away from the true parameter $\\theta$"
   ]
  },
  {
   "cell_type": "code",
   "execution_count": 48,
   "metadata": {
    "collapsed": false
   },
   "outputs": [
    {
     "data": {
      "text/plain": [
       "-3634.5059999999994"
      ]
     },
     "execution_count": 48,
     "metadata": {},
     "output_type": "execute_result"
    }
   ],
   "source": [
    "-2*(-927.514 + 2744.767)"
   ]
  },
  {
   "cell_type": "code",
   "execution_count": 49,
   "metadata": {
    "collapsed": true
   },
   "outputs": [],
   "source": [
    "from scipy.stats import chi2\n"
   ]
  },
  {
   "cell_type": "code",
   "execution_count": 50,
   "metadata": {
    "collapsed": false
   },
   "outputs": [
    {
     "data": {
      "text/plain": [
       "1.0"
      ]
     },
     "execution_count": 50,
     "metadata": {},
     "output_type": "execute_result"
    }
   ],
   "source": [
    "chi2.cdf(3634.5059, 1)"
   ]
  }
 ],
 "metadata": {
  "anaconda-cloud": {},
  "kernelspec": {
   "display_name": "Python [conda root]",
   "language": "python",
   "name": "conda-root-py"
  },
  "language_info": {
   "codemirror_mode": {
    "name": "ipython",
    "version": 2
   },
   "file_extension": ".py",
   "mimetype": "text/x-python",
   "name": "python",
   "nbconvert_exporter": "python",
   "pygments_lexer": "ipython2",
   "version": "2.7.12"
  }
 },
 "nbformat": 4,
 "nbformat_minor": 1
}
