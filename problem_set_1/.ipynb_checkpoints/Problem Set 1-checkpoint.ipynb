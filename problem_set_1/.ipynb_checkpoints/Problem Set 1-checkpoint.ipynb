{
 "cells": [
  {
   "cell_type": "markdown",
   "metadata": {},
   "source": [
    "# Reproducible Research and ECON 407 Problem Sets\n",
    "\n",
    "From [Wikipedia](https://en.wikipedia.org/wiki/Reproducibility#\n",
    "Reproducible_research), reproducible research is defined as:\n",
    "\n",
    "\n",
    ">The term reproducible research refers to the idea that the ultimate product of\n",
    "academic research is the paper **along with** the full computational\n",
    "environment used to produce the results in the paper such as the code, data,\n",
    "etc. that can be used to reproduce the results and create new work based on the\n",
    "research.\n",
    "\n",
    "The reproducible research movement (especially for the statistical sciences)\n",
    "takes this a step further by advocating for dynamic documents. The idea is\n",
    "that a researcher should provide a file (the dynamic document) that can execute\n",
    "the statistical analysis, generate figures, and contains accompanying text\n",
    "narrative.  This file can be executed to produce the **academic paper**.  The\n",
    "researcher shares this file with other researchers rather than the only the\n",
    "paper.  It is my view that within 20 years nearly every scientific journal in\n",
    "applied statistics will require this approach.\n",
    "\n",
    "This document shows how to use `RMarkdown`\n",
    "and markdown syntax.  The idea behind `RMarkdown` is that you share your research\n",
    "by sharing your program file.  This file performs the full suite of statistical\n",
    "analysis and can produce the pdf or MS Word document describing your analysis.\n",
    "You will use this workflow for producing pdf or word documents for class\n",
    "assignments.\n",
    "\n",
    "For every problem set, you will turn in\n",
    "\n",
    "* The `Rmarkdown` file containing all commands and written text that produces\n",
    "your problem set responses. [the `R` file]\n",
    "* A hardcopy of the pdf version produced after running your do file\n",
    "[the hardcopy]\n",
    "* The only exception to this rule is for questions involving proofs or other\n",
    "equation heavy assigments where handwritten responses can be\n",
    "attached to the hardcopy problem set response.\n",
    "\n",
    "\n",
    "# Some Features of `RMarkdown`\n",
    "RMarkdown allows for most features of\n",
    "[Markdown](https://daringfireball.net/projects/markdown/syntax),\n",
    "which is a liteweight and readable **text-based** language that allows\n",
    "files to be easily converted to nice looking pdf, html, or even word\n",
    "documents. Some features you will likely want to use:\n",
    "\n",
    "* Equations and Math Notation using latex math\n",
    "* Headers\n",
    "* Emphasizing text (bold and italics)\n",
    "* Numeric and bulletted lists\n",
    "* Turning stata output on and off\n",
    "\n",
    "# A simple example analysis using `Rmarkdown`\n",
    "\n",
    "Below we'll be modeling the following regression equation for cars back in the day:\n",
    "\n",
    "$$\n",
    "price_i = \\beta_0 + \\beta_1 mpg_i + \\beta_2 foreign_i + \\epsilon_i\n",
    "$$\n",
    "\n",
    "\n",
    "## Load Packages, Data and Summarize"
   ]
  },
  {
   "cell_type": "code",
   "execution_count": 64,
   "metadata": {
    "collapsed": false
   },
   "outputs": [
    {
     "data": {
      "text/html": [
       "<div>\n",
       "<table border=\"1\" class=\"dataframe\">\n",
       "  <thead>\n",
       "    <tr style=\"text-align: right;\">\n",
       "      <th></th>\n",
       "      <th>price</th>\n",
       "      <th>mpg</th>\n",
       "      <th>rep78</th>\n",
       "      <th>headroom</th>\n",
       "      <th>trunk</th>\n",
       "      <th>weight</th>\n",
       "      <th>length</th>\n",
       "      <th>turn</th>\n",
       "      <th>displacement</th>\n",
       "      <th>gear_ratio</th>\n",
       "    </tr>\n",
       "  </thead>\n",
       "  <tbody>\n",
       "    <tr>\n",
       "      <th>count</th>\n",
       "      <td>74.000000</td>\n",
       "      <td>74.000000</td>\n",
       "      <td>69.000000</td>\n",
       "      <td>74.000000</td>\n",
       "      <td>74.000000</td>\n",
       "      <td>74.000000</td>\n",
       "      <td>74.000000</td>\n",
       "      <td>74.000000</td>\n",
       "      <td>74.000000</td>\n",
       "      <td>74.000000</td>\n",
       "    </tr>\n",
       "    <tr>\n",
       "      <th>mean</th>\n",
       "      <td>6165.256757</td>\n",
       "      <td>21.297297</td>\n",
       "      <td>3.405797</td>\n",
       "      <td>2.993243</td>\n",
       "      <td>13.756757</td>\n",
       "      <td>3019.459459</td>\n",
       "      <td>187.932432</td>\n",
       "      <td>39.648649</td>\n",
       "      <td>197.297297</td>\n",
       "      <td>3.014865</td>\n",
       "    </tr>\n",
       "    <tr>\n",
       "      <th>std</th>\n",
       "      <td>2949.495885</td>\n",
       "      <td>5.785503</td>\n",
       "      <td>0.989932</td>\n",
       "      <td>0.845995</td>\n",
       "      <td>4.277404</td>\n",
       "      <td>777.193567</td>\n",
       "      <td>22.266340</td>\n",
       "      <td>4.399354</td>\n",
       "      <td>91.837219</td>\n",
       "      <td>0.456287</td>\n",
       "    </tr>\n",
       "    <tr>\n",
       "      <th>min</th>\n",
       "      <td>3291.000000</td>\n",
       "      <td>12.000000</td>\n",
       "      <td>1.000000</td>\n",
       "      <td>1.500000</td>\n",
       "      <td>5.000000</td>\n",
       "      <td>1760.000000</td>\n",
       "      <td>142.000000</td>\n",
       "      <td>31.000000</td>\n",
       "      <td>79.000000</td>\n",
       "      <td>2.190000</td>\n",
       "    </tr>\n",
       "    <tr>\n",
       "      <th>25%</th>\n",
       "      <td>4220.250000</td>\n",
       "      <td>18.000000</td>\n",
       "      <td>3.000000</td>\n",
       "      <td>2.500000</td>\n",
       "      <td>10.250000</td>\n",
       "      <td>2250.000000</td>\n",
       "      <td>170.000000</td>\n",
       "      <td>36.000000</td>\n",
       "      <td>119.000000</td>\n",
       "      <td>2.730000</td>\n",
       "    </tr>\n",
       "    <tr>\n",
       "      <th>50%</th>\n",
       "      <td>5006.500000</td>\n",
       "      <td>20.000000</td>\n",
       "      <td>3.000000</td>\n",
       "      <td>3.000000</td>\n",
       "      <td>14.000000</td>\n",
       "      <td>3190.000000</td>\n",
       "      <td>192.500000</td>\n",
       "      <td>40.000000</td>\n",
       "      <td>196.000000</td>\n",
       "      <td>2.955000</td>\n",
       "    </tr>\n",
       "    <tr>\n",
       "      <th>75%</th>\n",
       "      <td>6332.250000</td>\n",
       "      <td>24.750000</td>\n",
       "      <td>4.000000</td>\n",
       "      <td>3.500000</td>\n",
       "      <td>16.750000</td>\n",
       "      <td>3600.000000</td>\n",
       "      <td>203.750000</td>\n",
       "      <td>43.000000</td>\n",
       "      <td>245.250000</td>\n",
       "      <td>3.352500</td>\n",
       "    </tr>\n",
       "    <tr>\n",
       "      <th>max</th>\n",
       "      <td>15906.000000</td>\n",
       "      <td>41.000000</td>\n",
       "      <td>5.000000</td>\n",
       "      <td>5.000000</td>\n",
       "      <td>23.000000</td>\n",
       "      <td>4840.000000</td>\n",
       "      <td>233.000000</td>\n",
       "      <td>51.000000</td>\n",
       "      <td>425.000000</td>\n",
       "      <td>3.890000</td>\n",
       "    </tr>\n",
       "  </tbody>\n",
       "</table>\n",
       "</div>"
      ],
      "text/plain": [
       "              price        mpg      rep78   headroom      trunk       weight  \\\n",
       "count     74.000000  74.000000  69.000000  74.000000  74.000000    74.000000   \n",
       "mean    6165.256757  21.297297   3.405797   2.993243  13.756757  3019.459459   \n",
       "std     2949.495885   5.785503   0.989932   0.845995   4.277404   777.193567   \n",
       "min     3291.000000  12.000000   1.000000   1.500000   5.000000  1760.000000   \n",
       "25%     4220.250000  18.000000   3.000000   2.500000  10.250000  2250.000000   \n",
       "50%     5006.500000  20.000000   3.000000   3.000000  14.000000  3190.000000   \n",
       "75%     6332.250000  24.750000   4.000000   3.500000  16.750000  3600.000000   \n",
       "max    15906.000000  41.000000   5.000000   5.000000  23.000000  4840.000000   \n",
       "\n",
       "           length       turn  displacement  gear_ratio  \n",
       "count   74.000000  74.000000     74.000000   74.000000  \n",
       "mean   187.932432  39.648649    197.297297    3.014865  \n",
       "std     22.266340   4.399354     91.837219    0.456287  \n",
       "min    142.000000  31.000000     79.000000    2.190000  \n",
       "25%    170.000000  36.000000    119.000000    2.730000  \n",
       "50%    192.500000  40.000000    196.000000    2.955000  \n",
       "75%    203.750000  43.000000    245.250000    3.352500  \n",
       "max    233.000000  51.000000    425.000000    3.890000  "
      ]
     },
     "execution_count": 64,
     "metadata": {},
     "output_type": "execute_result"
    }
   ],
   "source": [
    "import pandas as pd\n",
    "import numpy as np\n",
    "%matplotlib inline\n",
    "import matplotlib.pylab as plt\n",
    "from matplotlib.pylab import rcParams\n",
    "rcParams['figure.figsize'] = 18.5, 10.5\n",
    "import seaborn as sns\n",
    "import statsmodels.formula.api as smf\n",
    "import statsmodels.api as sm\n",
    "\n",
    "auto = pd.read_csv(\"http://rlhick.people.wm.edu/econ407/data/auto.csv\")\n",
    "auto.describe()"
   ]
  },
  {
   "cell_type": "code",
   "execution_count": 65,
   "metadata": {
    "collapsed": false
   },
   "outputs": [
    {
     "data": {
      "image/png": "[encoded data removed]",
      "text/plain": [
       "<matplotlib.figure.Figure at 0x11e171050>"
      ]
     },
     "metadata": {},
     "output_type": "display_data"
    }
   ],
   "source": [
    "fig, ax = plt.subplots()\n",
    "plt.xlabel('Price')\n",
    "auto['price'].hist(bins = 15, ax = ax); ax.set_title('Auto Price', {'fontsize': 28}); "
   ]
  },
  {
   "cell_type": "markdown",
   "metadata": {},
   "source": [
    "### Regression Model\n",
    "\n",
    "These are the regression results, with the foreign column converted to binary"
   ]
  },
  {
   "cell_type": "code",
   "execution_count": 66,
   "metadata": {
    "collapsed": false
   },
   "outputs": [],
   "source": [
    "auto['foreign'] = pd.get_dummies(auto['foreign'])['Foreign']\n",
    "x = auto[['mpg', 'foreign']]\n",
    "x_const = sm.add_constant(x)\n",
    "y = auto['price']\n"
   ]
  },
  {
   "cell_type": "code",
   "execution_count": 61,
   "metadata": {
    "collapsed": false
   },
   "outputs": [
    {
     "name": "stdout",
     "output_type": "stream",
     "text": [
      "                            OLS Regression Results                            \n",
      "==============================================================================\n",
      "Dep. Variable:                  price   R-squared:                       0.284\n",
      "Model:                            OLS   Adj. R-squared:                  0.264\n",
      "Method:                 Least Squares   F-statistic:                     14.07\n",
      "Date:                Tue, 30 Aug 2016   Prob (F-statistic):           7.12e-06\n",
      "Time:                        17:48:39   Log-Likelihood:                -683.36\n",
      "No. Observations:                  74   AIC:                             1373.\n",
      "Df Residuals:                      71   BIC:                             1380.\n",
      "Df Model:                           2                                         \n",
      "Covariance Type:            nonrobust                                         \n",
      "==============================================================================\n",
      "                 coef    std err          t      P>|t|      [95.0% Conf. Int.]\n",
      "------------------------------------------------------------------------------\n",
      "Intercept   1.191e+04   1158.634     10.275      0.000      9595.164  1.42e+04\n",
      "mpg         -294.1955     55.692     -5.283      0.000      -405.242  -183.149\n",
      "foreign     1767.2922    700.158      2.524      0.014       371.217  3163.368\n",
      "==============================================================================\n",
      "Omnibus:                       31.227   Durbin-Watson:                   1.451\n",
      "Prob(Omnibus):                  0.000   Jarque-Bera (JB):               56.318\n",
      "Skew:                           1.586   Prob(JB):                     5.90e-13\n",
      "Kurtosis:                       5.864   Cond. No.                         88.2\n",
      "==============================================================================\n",
      "\n",
      "Warnings:\n",
      "[1] Standard Errors assume that the covariance matrix of the errors is correctly specified.\n"
     ]
    }
   ],
   "source": [
    "results = sm.OLS(y, x_const).fit()\n",
    "print(results.summary())"
   ]
  },
  {
   "cell_type": "markdown",
   "metadata": {},
   "source": [
    "### Discussion and Results\n",
    "\n",
    "Wow, looks like foreign cars have a much higher premium in 1978 than domestically made ones. If a car is foreign, it's valued on average at 1767 dollars more than a domestic car.\n",
    "\n",
    "Miles to the gallon is negatively correlated with the price of the car. Looks like gas guzzlers costed more money, not just to own but also to drive."
   ]
  },
  {
   "cell_type": "code",
   "execution_count": null,
   "metadata": {
    "collapsed": false
   },
   "outputs": [],
   "source": []
  },
  {
   "cell_type": "code",
   "execution_count": null,
   "metadata": {
    "collapsed": true
   },
   "outputs": [],
   "source": []
  }
 ],
 "metadata": {
  "kernelspec": {
   "display_name": "Python 2",
   "language": "python",
   "name": "python2"
  },
  "language_info": {
   "codemirror_mode": {
    "name": "ipython",
    "version": 2
   },
   "file_extension": ".py",
   "mimetype": "text/x-python",
   "name": "python",
   "nbconvert_exporter": "python",
   "pygments_lexer": "ipython2",
   "version": "2.7.11"
  }
 },
 "nbformat": 4,
 "nbformat_minor": 0
}
