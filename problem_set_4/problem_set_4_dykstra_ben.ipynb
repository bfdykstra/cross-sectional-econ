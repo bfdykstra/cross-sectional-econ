{
 "cells": [
  {
   "cell_type": "code",
   "execution_count": 1,
   "metadata": {
    "collapsed": true
   },
   "outputs": [],
   "source": [
    "import pandas as pd\n",
    "import numpy as np\n",
    "import statsmodels.api as sm\n",
    "\n",
    "from __future__ import division\n",
    "import seaborn as sns\n",
    "\n",
    "%matplotlib inline\n",
    "import matplotlib.pylab as plt\n",
    "from matplotlib.pylab import rcParams\n",
    "rcParams['figure.figsize'] = 18.5, 10.5"
   ]
  },
  {
   "cell_type": "code",
   "execution_count": 39,
   "metadata": {
    "collapsed": true
   },
   "outputs": [],
   "source": [
    "def print_resids(preds, resids):\n",
    "    ax = sns.regplot(preds, resids);\n",
    "    ax.set(xlabel = 'Predicted values', ylabel = 'errors', title = 'Predicted values vs. Errors')\n",
    "    plt.show();"
   ]
  },
  {
   "cell_type": "markdown",
   "metadata": {},
   "source": [
    "# Panel Data Analysis\n",
    "\n",
    "## Question 1\n",
    "\n",
    "The minimum wage policy in the paper raises the minimum wage in the state of New Jersey from \\$4.25 to \\$5.05. The researchers followed 410 stores in Pennsylvania and New Jersery before the rise in minimum wage in early 1992, and after the rise 7-8 months later. Almost 100 percent of the stores from the first wave of interviews continued on with the survery. They take in to account closing stores and employement changes, therefore they can measure the overall effect of the rise in minimum wage of unemployment.   "
   ]
  },
  {
   "cell_type": "markdown",
   "metadata": {},
   "source": [
    "## Question 2\n",
    "\n",
    "Estimate a Pooled OLS regression. The model I specify is:\n",
    "\n",
    "$$ FTE = \\beta_0 + \\beta_1 year + + \\beta_2 state  + \\beta_3 state*year + \\beta_4 GAP + \\beta_5 price\\_full\\_meal + \\epsilon $$\n",
    "\n",
    "I will change year so that it is a binary variable. This way, the coefficient on it will be marginal effect of the minimum wage law on full time employment equivalent. As stated in the paper, the region experienced a small recession between 1991 and 1993, so I expect this to negatively affect FTE. I also expect the coefficient on state to be negative because of the greater mean number of employees in PA. As for the state \\* year interaction, which gives the marginal effect of being in NJ after the wage hike, I also expect it to have a positive effect on employment.\n",
    "\n",
    "The wage gap (GAP) is the proportional increase in wages at store i necessary to meet the new minimum rate. The reason I include this variable as a control is that if a store has to relatively increase wages a lot, then the costs of employment rise, thereby affecting how many employees that that store can have. I expect that this will have a negative effect on FTE. The price of a full meal includes a drink, small fries and an entree. I expect that the price of a meal is not strongly tied to how many employees work at that store. However, if sales stay the same after the wage hike, then stores with higher prices may be able to better sustain their workforce. Therefore, I expect a negative correlation with FTE."
   ]
  },
  {
   "cell_type": "code",
   "execution_count": 25,
   "metadata": {
    "collapsed": true
   },
   "outputs": [],
   "source": [
    "min_wage = pd.read_stata('http://rlhick.people.wm.edu/econ407/data/Card_Kreuger_long.dta')"
   ]
  },
  {
   "cell_type": "code",
   "execution_count": 26,
   "metadata": {
    "collapsed": false
   },
   "outputs": [
    {
     "data": {
      "text/html": [
       "<div>\n",
       "<table border=\"1\" class=\"dataframe\">\n",
       "  <thead>\n",
       "    <tr style=\"text-align: right;\">\n",
       "      <th></th>\n",
       "      <th>sheet</th>\n",
       "      <th>year</th>\n",
       "      <th>chain</th>\n",
       "      <th>co_owned</th>\n",
       "      <th>state</th>\n",
       "      <th>southj</th>\n",
       "      <th>centralj</th>\n",
       "      <th>northj</th>\n",
       "      <th>pa1</th>\n",
       "      <th>pa2</th>\n",
       "      <th>...</th>\n",
       "      <th>hrsopen</th>\n",
       "      <th>psoda</th>\n",
       "      <th>pfry</th>\n",
       "      <th>pentree</th>\n",
       "      <th>nregs</th>\n",
       "      <th>nregs11</th>\n",
       "      <th>firstinc</th>\n",
       "      <th>bonus</th>\n",
       "      <th>pctaff</th>\n",
       "      <th>open</th>\n",
       "    </tr>\n",
       "  </thead>\n",
       "  <tbody>\n",
       "    <tr>\n",
       "      <th>0</th>\n",
       "      <td>1</td>\n",
       "      <td>1</td>\n",
       "      <td>1</td>\n",
       "      <td>0</td>\n",
       "      <td>1</td>\n",
       "      <td>0</td>\n",
       "      <td>1</td>\n",
       "      <td>0</td>\n",
       "      <td>0</td>\n",
       "      <td>0</td>\n",
       "      <td>...</td>\n",
       "      <td>16.0</td>\n",
       "      <td>0.93</td>\n",
       "      <td>0.83</td>\n",
       "      <td>0.85</td>\n",
       "      <td>4.0</td>\n",
       "      <td>3.0</td>\n",
       "      <td>0.25</td>\n",
       "      <td>0.0</td>\n",
       "      <td>80.0</td>\n",
       "      <td>7.0</td>\n",
       "    </tr>\n",
       "    <tr>\n",
       "      <th>1</th>\n",
       "      <td>1</td>\n",
       "      <td>2</td>\n",
       "      <td>1</td>\n",
       "      <td>0</td>\n",
       "      <td>1</td>\n",
       "      <td>0</td>\n",
       "      <td>1</td>\n",
       "      <td>0</td>\n",
       "      <td>0</td>\n",
       "      <td>0</td>\n",
       "      <td>...</td>\n",
       "      <td>16.0</td>\n",
       "      <td>1.05</td>\n",
       "      <td>0.79</td>\n",
       "      <td>0.90</td>\n",
       "      <td>4.0</td>\n",
       "      <td>3.0</td>\n",
       "      <td>NaN</td>\n",
       "      <td>NaN</td>\n",
       "      <td>NaN</td>\n",
       "      <td>NaN</td>\n",
       "    </tr>\n",
       "    <tr>\n",
       "      <th>2</th>\n",
       "      <td>2</td>\n",
       "      <td>1</td>\n",
       "      <td>1</td>\n",
       "      <td>0</td>\n",
       "      <td>1</td>\n",
       "      <td>0</td>\n",
       "      <td>1</td>\n",
       "      <td>0</td>\n",
       "      <td>0</td>\n",
       "      <td>0</td>\n",
       "      <td>...</td>\n",
       "      <td>14.0</td>\n",
       "      <td>1.06</td>\n",
       "      <td>0.91</td>\n",
       "      <td>0.96</td>\n",
       "      <td>2.0</td>\n",
       "      <td>2.0</td>\n",
       "      <td>0.50</td>\n",
       "      <td>1.0</td>\n",
       "      <td>80.0</td>\n",
       "      <td>7.0</td>\n",
       "    </tr>\n",
       "    <tr>\n",
       "      <th>3</th>\n",
       "      <td>2</td>\n",
       "      <td>2</td>\n",
       "      <td>1</td>\n",
       "      <td>0</td>\n",
       "      <td>1</td>\n",
       "      <td>0</td>\n",
       "      <td>1</td>\n",
       "      <td>0</td>\n",
       "      <td>0</td>\n",
       "      <td>0</td>\n",
       "      <td>...</td>\n",
       "      <td>15.0</td>\n",
       "      <td>1.05</td>\n",
       "      <td>1.01</td>\n",
       "      <td>0.94</td>\n",
       "      <td>2.0</td>\n",
       "      <td>2.0</td>\n",
       "      <td>NaN</td>\n",
       "      <td>NaN</td>\n",
       "      <td>NaN</td>\n",
       "      <td>NaN</td>\n",
       "    </tr>\n",
       "    <tr>\n",
       "      <th>4</th>\n",
       "      <td>3</td>\n",
       "      <td>1</td>\n",
       "      <td>2</td>\n",
       "      <td>0</td>\n",
       "      <td>1</td>\n",
       "      <td>0</td>\n",
       "      <td>1</td>\n",
       "      <td>0</td>\n",
       "      <td>0</td>\n",
       "      <td>0</td>\n",
       "      <td>...</td>\n",
       "      <td>10.0</td>\n",
       "      <td>1.06</td>\n",
       "      <td>0.95</td>\n",
       "      <td>3.09</td>\n",
       "      <td>5.0</td>\n",
       "      <td>3.0</td>\n",
       "      <td>0.25</td>\n",
       "      <td>1.0</td>\n",
       "      <td>50.0</td>\n",
       "      <td>11.0</td>\n",
       "    </tr>\n",
       "  </tbody>\n",
       "</table>\n",
       "<p>5 rows × 35 columns</p>\n",
       "</div>"
      ],
      "text/plain": [
       "   sheet  year  chain  co_owned  state  southj  centralj  northj  pa1  pa2  \\\n",
       "0      1     1      1         0      1       0         1       0    0    0   \n",
       "1      1     2      1         0      1       0         1       0    0    0   \n",
       "2      2     1      1         0      1       0         1       0    0    0   \n",
       "3      2     2      1         0      1       0         1       0    0    0   \n",
       "4      3     1      2         0      1       0         1       0    0    0   \n",
       "\n",
       "   ...   hrsopen  psoda  pfry  pentree  nregs  nregs11  firstinc  bonus  \\\n",
       "0  ...      16.0   0.93  0.83     0.85    4.0      3.0      0.25    0.0   \n",
       "1  ...      16.0   1.05  0.79     0.90    4.0      3.0       NaN    NaN   \n",
       "2  ...      14.0   1.06  0.91     0.96    2.0      2.0      0.50    1.0   \n",
       "3  ...      15.0   1.05  1.01     0.94    2.0      2.0       NaN    NaN   \n",
       "4  ...      10.0   1.06  0.95     3.09    5.0      3.0      0.25    1.0   \n",
       "\n",
       "   pctaff  open  \n",
       "0    80.0   7.0  \n",
       "1     NaN   NaN  \n",
       "2    80.0   7.0  \n",
       "3     NaN   NaN  \n",
       "4    50.0  11.0  \n",
       "\n",
       "[5 rows x 35 columns]"
      ]
     },
     "execution_count": 26,
     "metadata": {},
     "output_type": "execute_result"
    }
   ],
   "source": [
    "min_wage.head()"
   ]
  },
  {
   "cell_type": "code",
   "execution_count": null,
   "metadata": {
    "collapsed": false
   },
   "outputs": [],
   "source": [
    "#min_wage = pd.read_stata('http://rlhick.people.wm.edu/econ407/data/Card_Kreuger_wide.dta')"
   ]
  },
  {
   "cell_type": "code",
   "execution_count": 27,
   "metadata": {
    "collapsed": false
   },
   "outputs": [
    {
     "data": {
      "text/plain": [
       "array(['sheet', 'year', 'chain', 'co_owned', 'state', 'southj', 'centralj',\n",
       "       'northj', 'pa1', 'pa2', 'shore', 'ncalls1', 'type2', 'status2',\n",
       "       'date2', 'ncalls2', 'empft', 'emppt', 'nmgrs', 'wage_st', 'inctime',\n",
       "       'firstin2', 'special2', 'meals', 'open2r', 'hrsopen', 'psoda',\n",
       "       'pfry', 'pentree', 'nregs', 'nregs11', 'firstinc', 'bonus',\n",
       "       'pctaff', 'open'], dtype=object)"
      ]
     },
     "execution_count": 27,
     "metadata": {},
     "output_type": "execute_result"
    }
   ],
   "source": [
    "min_wage.columns.values"
   ]
  },
  {
   "cell_type": "markdown",
   "metadata": {},
   "source": [
    "I create a variable \"FET\" that is full time equivalent employment. it is # full time workers + 0.5 * part time workers. I also get the price of a full meal, which is the sum of the prices of a drink, small fry and entree."
   ]
  },
  {
   "cell_type": "code",
   "execution_count": 28,
   "metadata": {
    "collapsed": false
   },
   "outputs": [],
   "source": [
    "min_wage['FTE'] = min_wage.empft + 0.5 * min_wage.emppt\n",
    "# min_wage['FTE1'] = min_wage.empft1 + 0.5 * min_wage.emppt1 #T = 1 FTE\n",
    "# min_wage['FTE2'] = min_wage.empft2 + 0.5 * min_wage.emppt2 #T = 2 FTE\n",
    "# min_wage['price_full_meal1'] = min_wage['psoda1'] +  min_wage['pfry1'] +  min_wage['pentree1']\n",
    "# min_wage['price_full_meal2'] = min_wage['psoda2'] +  min_wage['pfry2'] +  min_wage['pentree2']\n"
   ]
  },
  {
   "cell_type": "markdown",
   "metadata": {},
   "source": [
    "GAP, is the proportional increase in wages at store i necessary to meet the new minimum rate. It only applies to stores located in NJ. Convert year to binary variable and get price of a full meal"
   ]
  },
  {
   "cell_type": "code",
   "execution_count": 31,
   "metadata": {
    "collapsed": false
   },
   "outputs": [],
   "source": [
    "def get_GAP(row):\n",
    "    if (row[0] == 0) or (row[0] == 1 and row[1] >= 5.05):\n",
    "        return 0\n",
    "    else:\n",
    "        return (5.05 - row[1]) / row[1]\n",
    "def year_to_binary(x):\n",
    "    if x == 1:\n",
    "        return 0\n",
    "    else:\n",
    "        return 1\n",
    "    \n",
    "min_wage['GAP'] = min_wage[['state', 'wage_st']].apply(get_GAP, axis = 1)\n",
    "min_wage['year'] = min_wage.year.apply(year_to_binary)\n",
    "min_wage['price_full_meal'] = min_wage.psoda + min_wage.pfry + min_wage.pentree\n",
    "min_wage['state_year'] = min_wage.state * min_wage.year"
   ]
  },
  {
   "cell_type": "markdown",
   "metadata": {},
   "source": [
    "Examine the distribution of FTE, praying for normality"
   ]
  },
  {
   "cell_type": "code",
   "execution_count": 32,
   "metadata": {
    "collapsed": false
   },
   "outputs": [
    {
     "data": {
      "text/plain": [
       "count    801.000000\n",
       "mean      17.594570\n",
       "std        9.022515\n",
       "min        0.000000\n",
       "25%       11.500000\n",
       "50%       16.500000\n",
       "75%       22.000000\n",
       "max       80.000000\n",
       "Name: FTE, dtype: float64"
      ]
     },
     "execution_count": 32,
     "metadata": {},
     "output_type": "execute_result"
    },
    {
     "data": {
      "image/png": "[encoded data removed]",
      "text/plain": [
       "<matplotlib.figure.Figure at 0x119bb8a50>"
      ]
     },
     "metadata": {},
     "output_type": "display_data"
    }
   ],
   "source": [
    "sns.distplot(min_wage[min_wage.FTE.notnull()]['FTE']); min_wage.FTE.describe()"
   ]
  },
  {
   "cell_type": "markdown",
   "metadata": {},
   "source": [
    "So FTE is pretty normal, if a bit skewed left. There are also a couple of large values. Next we add a constant on and run the regression, dropping any observations that contain missin values."
   ]
  },
  {
   "cell_type": "code",
   "execution_count": 52,
   "metadata": {
    "collapsed": false
   },
   "outputs": [
    {
     "data": {
      "text/html": [
       "<table class=\"simpletable\">\n",
       "<caption>OLS Regression Results</caption>\n",
       "<tr>\n",
       "  <th>Dep. Variable:</th>           <td>FTE</td>       <th>  R-squared:         </th> <td>   0.159</td>\n",
       "</tr>\n",
       "<tr>\n",
       "  <th>Model:</th>                   <td>OLS</td>       <th>  Adj. R-squared:    </th> <td>   0.154</td>\n",
       "</tr>\n",
       "<tr>\n",
       "  <th>Method:</th>             <td>Least Squares</td>  <th>  F-statistic:       </th> <td>   27.58</td>\n",
       "</tr>\n",
       "<tr>\n",
       "  <th>Date:</th>             <td>Sun, 30 Oct 2016</td> <th>  Prob (F-statistic):</th> <td>1.28e-25</td>\n",
       "</tr>\n",
       "<tr>\n",
       "  <th>Time:</th>                 <td>15:55:01</td>     <th>  Log-Likelihood:    </th> <td> -2550.9</td>\n",
       "</tr>\n",
       "<tr>\n",
       "  <th>No. Observations:</th>      <td>   733</td>      <th>  AIC:               </th> <td>   5114.</td>\n",
       "</tr>\n",
       "<tr>\n",
       "  <th>Df Residuals:</th>          <td>   727</td>      <th>  BIC:               </th> <td>   5141.</td>\n",
       "</tr>\n",
       "<tr>\n",
       "  <th>Df Model:</th>              <td>     5</td>      <th>                     </th>     <td> </td>   \n",
       "</tr>\n",
       "<tr>\n",
       "  <th>Covariance Type:</th>      <td>nonrobust</td>    <th>                     </th>     <td> </td>   \n",
       "</tr>\n",
       "</table>\n",
       "<table class=\"simpletable\">\n",
       "<tr>\n",
       "         <td></td>            <th>coef</th>     <th>std err</th>      <th>t</th>      <th>P>|t|</th> <th>[95.0% Conf. Int.]</th> \n",
       "</tr>\n",
       "<tr>\n",
       "  <th>const</th>           <td>   35.5014</td> <td>    1.669</td> <td>   21.268</td> <td> 0.000</td> <td>   32.224    38.779</td>\n",
       "</tr>\n",
       "<tr>\n",
       "  <th>year</th>            <td>   -2.1313</td> <td>    1.311</td> <td>   -1.626</td> <td> 0.104</td> <td>   -4.705     0.442</td>\n",
       "</tr>\n",
       "<tr>\n",
       "  <th>state</th>           <td>   -0.3041</td> <td>    1.239</td> <td>   -0.245</td> <td> 0.806</td> <td>   -2.737     2.129</td>\n",
       "</tr>\n",
       "<tr>\n",
       "  <th>state_year</th>      <td>    2.2260</td> <td>    1.615</td> <td>    1.378</td> <td> 0.169</td> <td>   -0.945     5.397</td>\n",
       "</tr>\n",
       "<tr>\n",
       "  <th>GAP</th>             <td>  -11.9613</td> <td>    6.461</td> <td>   -1.851</td> <td> 0.065</td> <td>  -24.647     0.724</td>\n",
       "</tr>\n",
       "<tr>\n",
       "  <th>price_full_meal</th> <td>   -5.1294</td> <td>    0.459</td> <td>  -11.167</td> <td> 0.000</td> <td>   -6.031    -4.228</td>\n",
       "</tr>\n",
       "</table>\n",
       "<table class=\"simpletable\">\n",
       "<tr>\n",
       "  <th>Omnibus:</th>       <td>227.946</td> <th>  Durbin-Watson:     </th> <td>   1.684</td> \n",
       "</tr>\n",
       "<tr>\n",
       "  <th>Prob(Omnibus):</th> <td> 0.000</td>  <th>  Jarque-Bera (JB):  </th> <td> 786.038</td> \n",
       "</tr>\n",
       "<tr>\n",
       "  <th>Skew:</th>          <td> 1.462</td>  <th>  Prob(JB):          </th> <td>2.06e-171</td>\n",
       "</tr>\n",
       "<tr>\n",
       "  <th>Kurtosis:</th>      <td> 7.146</td>  <th>  Cond. No.          </th> <td>    82.6</td> \n",
       "</tr>\n",
       "</table>"
      ],
      "text/plain": [
       "<class 'statsmodels.iolib.summary.Summary'>\n",
       "\"\"\"\n",
       "                            OLS Regression Results                            \n",
       "==============================================================================\n",
       "Dep. Variable:                    FTE   R-squared:                       0.159\n",
       "Model:                            OLS   Adj. R-squared:                  0.154\n",
       "Method:                 Least Squares   F-statistic:                     27.58\n",
       "Date:                Sun, 30 Oct 2016   Prob (F-statistic):           1.28e-25\n",
       "Time:                        15:55:01   Log-Likelihood:                -2550.9\n",
       "No. Observations:                 733   AIC:                             5114.\n",
       "Df Residuals:                     727   BIC:                             5141.\n",
       "Df Model:                           5                                         \n",
       "Covariance Type:            nonrobust                                         \n",
       "===================================================================================\n",
       "                      coef    std err          t      P>|t|      [95.0% Conf. Int.]\n",
       "-----------------------------------------------------------------------------------\n",
       "const              35.5014      1.669     21.268      0.000        32.224    38.779\n",
       "year               -2.1313      1.311     -1.626      0.104        -4.705     0.442\n",
       "state              -0.3041      1.239     -0.245      0.806        -2.737     2.129\n",
       "state_year          2.2260      1.615      1.378      0.169        -0.945     5.397\n",
       "GAP               -11.9613      6.461     -1.851      0.065       -24.647     0.724\n",
       "price_full_meal    -5.1294      0.459    -11.167      0.000        -6.031    -4.228\n",
       "==============================================================================\n",
       "Omnibus:                      227.946   Durbin-Watson:                   1.684\n",
       "Prob(Omnibus):                  0.000   Jarque-Bera (JB):              786.038\n",
       "Skew:                           1.462   Prob(JB):                    2.06e-171\n",
       "Kurtosis:                       7.146   Cond. No.                         82.6\n",
       "==============================================================================\n",
       "\n",
       "Warnings:\n",
       "[1] Standard Errors assume that the covariance matrix of the errors is correctly specified.\n",
       "\"\"\""
      ]
     },
     "execution_count": 52,
     "metadata": {},
     "output_type": "execute_result"
    }
   ],
   "source": [
    "pooled_ols_results = sm.OLS(min_wage['FTE'], \n",
    "                            sm.add_constant(min_wage[['year', 'state', 'state_year', 'GAP', 'price_full_meal']]), \n",
    "                            missing = 'drop').fit()\n",
    "\n",
    "pooled_ols_results.summary()"
   ]
  },
  {
   "cell_type": "code",
   "execution_count": 53,
   "metadata": {
    "collapsed": false
   },
   "outputs": [
    {
     "data": {
      "image/png": "[encoded data removed]",
      "text/plain": [
       "<matplotlib.figure.Figure at 0x11d8a0890>"
      ]
     },
     "metadata": {},
     "output_type": "display_data"
    }
   ],
   "source": [
    "print_resids(pooled_ols_results.predict(), pooled_ols_results.resid)"
   ]
  },
  {
   "cell_type": "markdown",
   "metadata": {},
   "source": [
    "The marginal effect on employment with respect to the new minimum wage policy is positive. On average, there were 2.226 more full time equivalent employees after the wage hike in NJ."
   ]
  },
  {
   "cell_type": "markdown",
   "metadata": {},
   "source": [
    "## Question 3\n",
    "\n",
    "Estimate a random effects model. I will estimate a random intercept for each state.\n"
   ]
  },
  {
   "cell_type": "code",
   "execution_count": 55,
   "metadata": {
    "collapsed": true
   },
   "outputs": [],
   "source": [
    "from statsmodels.regression.mixed_linear_model import MixedLM"
   ]
  },
  {
   "cell_type": "code",
   "execution_count": 99,
   "metadata": {
    "collapsed": false
   },
   "outputs": [
    {
     "ename": "ValueError",
     "evalue": "zero-size array to reduction operation maximum which has no identity",
     "output_type": "error",
     "traceback": [
      "\u001b[0;31m---------------------------------------------------------------------------\u001b[0m",
      "\u001b[0;31mValueError\u001b[0m                                Traceback (most recent call last)",
      "\u001b[0;32m<ipython-input-99-4b2746a2bff0>\u001b[0m in \u001b[0;36m<module>\u001b[0;34m()\u001b[0m\n\u001b[1;32m      4\u001b[0m \u001b[0;31m#             groups = no_nulls['state'], missing = 'drop').fit()\u001b[0m\u001b[0;34m\u001b[0m\u001b[0;34m\u001b[0m\u001b[0m\n\u001b[1;32m      5\u001b[0m re_results = MixedLM.from_formula(\"FTE ~ 0 + year + state + state_year + GAP + price_full_meal\", data = no_nulls, \n\u001b[0;32m----> 6\u001b[0;31m                                   groups = no_nulls.sheet, missing = 'drop')\n\u001b[0m",
      "\u001b[0;32m//anaconda/lib/python2.7/site-packages/statsmodels/regression/mixed_linear_model.pyc\u001b[0m in \u001b[0;36mfrom_formula\u001b[0;34m(cls, formula, data, re_formula, subset, *args, **kwargs)\u001b[0m\n\u001b[1;32m    651\u001b[0m                                                \u001b[0msubset\u001b[0m\u001b[0;34m=\u001b[0m\u001b[0mNone\u001b[0m\u001b[0;34m,\u001b[0m\u001b[0;34m\u001b[0m\u001b[0m\n\u001b[1;32m    652\u001b[0m                                                \u001b[0mexog_re\u001b[0m\u001b[0;34m=\u001b[0m\u001b[0mexog_re\u001b[0m\u001b[0;34m,\u001b[0m\u001b[0;34m\u001b[0m\u001b[0m\n\u001b[0;32m--> 653\u001b[0;31m                                                *args, **kwargs)\n\u001b[0m\u001b[1;32m    654\u001b[0m \u001b[0;34m\u001b[0m\u001b[0m\n\u001b[1;32m    655\u001b[0m         \u001b[0;31m# expand re names to account for pairs of RE\u001b[0m\u001b[0;34m\u001b[0m\u001b[0;34m\u001b[0m\u001b[0m\n",
      "\u001b[0;32m//anaconda/lib/python2.7/site-packages/statsmodels/base/model.pyc\u001b[0m in \u001b[0;36mfrom_formula\u001b[0;34m(cls, formula, data, subset, *args, **kwargs)\u001b[0m\n\u001b[1;32m    148\u001b[0m         kwargs.update({'missing_idx': missing_idx,\n\u001b[1;32m    149\u001b[0m                        'missing': missing})\n\u001b[0;32m--> 150\u001b[0;31m         \u001b[0mmod\u001b[0m \u001b[0;34m=\u001b[0m \u001b[0mcls\u001b[0m\u001b[0;34m(\u001b[0m\u001b[0mendog\u001b[0m\u001b[0;34m,\u001b[0m \u001b[0mexog\u001b[0m\u001b[0;34m,\u001b[0m \u001b[0;34m*\u001b[0m\u001b[0margs\u001b[0m\u001b[0;34m,\u001b[0m \u001b[0;34m**\u001b[0m\u001b[0mkwargs\u001b[0m\u001b[0;34m)\u001b[0m\u001b[0;34m\u001b[0m\u001b[0m\n\u001b[0m\u001b[1;32m    151\u001b[0m         \u001b[0mmod\u001b[0m\u001b[0;34m.\u001b[0m\u001b[0mformula\u001b[0m \u001b[0;34m=\u001b[0m \u001b[0mformula\u001b[0m\u001b[0;34m\u001b[0m\u001b[0m\n\u001b[1;32m    152\u001b[0m \u001b[0;34m\u001b[0m\u001b[0m\n",
      "\u001b[0;32m//anaconda/lib/python2.7/site-packages/statsmodels/regression/mixed_linear_model.pyc\u001b[0m in \u001b[0;36m__init__\u001b[0;34m(self, endog, exog, groups, exog_re, use_sqrt, missing, **kwargs)\u001b[0m\n\u001b[1;32m    487\u001b[0m         super(MixedLM, self).__init__(endog, exog, groups=groups,\n\u001b[1;32m    488\u001b[0m                                       \u001b[0mexog_re\u001b[0m\u001b[0;34m=\u001b[0m\u001b[0mexog_re\u001b[0m\u001b[0;34m,\u001b[0m \u001b[0mmissing\u001b[0m\u001b[0;34m=\u001b[0m\u001b[0mmissing\u001b[0m\u001b[0;34m,\u001b[0m\u001b[0;34m\u001b[0m\u001b[0m\n\u001b[0;32m--> 489\u001b[0;31m                                       **kwargs)\n\u001b[0m\u001b[1;32m    490\u001b[0m \u001b[0;34m\u001b[0m\u001b[0m\n\u001b[1;32m    491\u001b[0m         \u001b[0mself\u001b[0m\u001b[0;34m.\u001b[0m\u001b[0m_init_keys\u001b[0m\u001b[0;34m.\u001b[0m\u001b[0mextend\u001b[0m\u001b[0;34m(\u001b[0m\u001b[0;34m[\u001b[0m\u001b[0;34m\"use_sqrt\"\u001b[0m\u001b[0;34m]\u001b[0m\u001b[0;34m)\u001b[0m\u001b[0;34m\u001b[0m\u001b[0m\n",
      "\u001b[0;32m//anaconda/lib/python2.7/site-packages/statsmodels/base/model.pyc\u001b[0m in \u001b[0;36m__init__\u001b[0;34m(self, endog, exog, **kwargs)\u001b[0m\n\u001b[1;32m    184\u001b[0m \u001b[0;34m\u001b[0m\u001b[0m\n\u001b[1;32m    185\u001b[0m     \u001b[0;32mdef\u001b[0m \u001b[0m__init__\u001b[0m\u001b[0;34m(\u001b[0m\u001b[0mself\u001b[0m\u001b[0;34m,\u001b[0m \u001b[0mendog\u001b[0m\u001b[0;34m,\u001b[0m \u001b[0mexog\u001b[0m\u001b[0;34m=\u001b[0m\u001b[0mNone\u001b[0m\u001b[0;34m,\u001b[0m \u001b[0;34m**\u001b[0m\u001b[0mkwargs\u001b[0m\u001b[0;34m)\u001b[0m\u001b[0;34m:\u001b[0m\u001b[0;34m\u001b[0m\u001b[0m\n\u001b[0;32m--> 186\u001b[0;31m         \u001b[0msuper\u001b[0m\u001b[0;34m(\u001b[0m\u001b[0mLikelihoodModel\u001b[0m\u001b[0;34m,\u001b[0m \u001b[0mself\u001b[0m\u001b[0;34m)\u001b[0m\u001b[0;34m.\u001b[0m\u001b[0m__init__\u001b[0m\u001b[0;34m(\u001b[0m\u001b[0mendog\u001b[0m\u001b[0;34m,\u001b[0m \u001b[0mexog\u001b[0m\u001b[0;34m,\u001b[0m \u001b[0;34m**\u001b[0m\u001b[0mkwargs\u001b[0m\u001b[0;34m)\u001b[0m\u001b[0;34m\u001b[0m\u001b[0m\n\u001b[0m\u001b[1;32m    187\u001b[0m         \u001b[0mself\u001b[0m\u001b[0;34m.\u001b[0m\u001b[0minitialize\u001b[0m\u001b[0;34m(\u001b[0m\u001b[0;34m)\u001b[0m\u001b[0;34m\u001b[0m\u001b[0m\n\u001b[1;32m    188\u001b[0m \u001b[0;34m\u001b[0m\u001b[0m\n",
      "\u001b[0;32m//anaconda/lib/python2.7/site-packages/statsmodels/base/model.pyc\u001b[0m in \u001b[0;36m__init__\u001b[0;34m(self, endog, exog, **kwargs)\u001b[0m\n\u001b[1;32m     58\u001b[0m         \u001b[0mhasconst\u001b[0m \u001b[0;34m=\u001b[0m \u001b[0mkwargs\u001b[0m\u001b[0;34m.\u001b[0m\u001b[0mpop\u001b[0m\u001b[0;34m(\u001b[0m\u001b[0;34m'hasconst'\u001b[0m\u001b[0;34m,\u001b[0m \u001b[0mNone\u001b[0m\u001b[0;34m)\u001b[0m\u001b[0;34m\u001b[0m\u001b[0m\n\u001b[1;32m     59\u001b[0m         self.data = self._handle_data(endog, exog, missing, hasconst,\n\u001b[0;32m---> 60\u001b[0;31m                                       **kwargs)\n\u001b[0m\u001b[1;32m     61\u001b[0m         \u001b[0mself\u001b[0m\u001b[0;34m.\u001b[0m\u001b[0mk_constant\u001b[0m \u001b[0;34m=\u001b[0m \u001b[0mself\u001b[0m\u001b[0;34m.\u001b[0m\u001b[0mdata\u001b[0m\u001b[0;34m.\u001b[0m\u001b[0mk_constant\u001b[0m\u001b[0;34m\u001b[0m\u001b[0m\n\u001b[1;32m     62\u001b[0m         \u001b[0mself\u001b[0m\u001b[0;34m.\u001b[0m\u001b[0mexog\u001b[0m \u001b[0;34m=\u001b[0m \u001b[0mself\u001b[0m\u001b[0;34m.\u001b[0m\u001b[0mdata\u001b[0m\u001b[0;34m.\u001b[0m\u001b[0mexog\u001b[0m\u001b[0;34m\u001b[0m\u001b[0m\n",
      "\u001b[0;32m//anaconda/lib/python2.7/site-packages/statsmodels/base/model.pyc\u001b[0m in \u001b[0;36m_handle_data\u001b[0;34m(self, endog, exog, missing, hasconst, **kwargs)\u001b[0m\n\u001b[1;32m     82\u001b[0m \u001b[0;34m\u001b[0m\u001b[0m\n\u001b[1;32m     83\u001b[0m     \u001b[0;32mdef\u001b[0m \u001b[0m_handle_data\u001b[0m\u001b[0;34m(\u001b[0m\u001b[0mself\u001b[0m\u001b[0;34m,\u001b[0m \u001b[0mendog\u001b[0m\u001b[0;34m,\u001b[0m \u001b[0mexog\u001b[0m\u001b[0;34m,\u001b[0m \u001b[0mmissing\u001b[0m\u001b[0;34m,\u001b[0m \u001b[0mhasconst\u001b[0m\u001b[0;34m,\u001b[0m \u001b[0;34m**\u001b[0m\u001b[0mkwargs\u001b[0m\u001b[0;34m)\u001b[0m\u001b[0;34m:\u001b[0m\u001b[0;34m\u001b[0m\u001b[0m\n\u001b[0;32m---> 84\u001b[0;31m         \u001b[0mdata\u001b[0m \u001b[0;34m=\u001b[0m \u001b[0mhandle_data\u001b[0m\u001b[0;34m(\u001b[0m\u001b[0mendog\u001b[0m\u001b[0;34m,\u001b[0m \u001b[0mexog\u001b[0m\u001b[0;34m,\u001b[0m \u001b[0mmissing\u001b[0m\u001b[0;34m,\u001b[0m \u001b[0mhasconst\u001b[0m\u001b[0;34m,\u001b[0m \u001b[0;34m**\u001b[0m\u001b[0mkwargs\u001b[0m\u001b[0;34m)\u001b[0m\u001b[0;34m\u001b[0m\u001b[0m\n\u001b[0m\u001b[1;32m     85\u001b[0m         \u001b[0;31m# kwargs arrays could have changed, easier to just attach here\u001b[0m\u001b[0;34m\u001b[0m\u001b[0;34m\u001b[0m\u001b[0m\n\u001b[1;32m     86\u001b[0m         \u001b[0;32mfor\u001b[0m \u001b[0mkey\u001b[0m \u001b[0;32min\u001b[0m \u001b[0mkwargs\u001b[0m\u001b[0;34m:\u001b[0m\u001b[0;34m\u001b[0m\u001b[0m\n",
      "\u001b[0;32m//anaconda/lib/python2.7/site-packages/statsmodels/base/data.pyc\u001b[0m in \u001b[0;36mhandle_data\u001b[0;34m(endog, exog, missing, hasconst, **kwargs)\u001b[0m\n\u001b[1;32m    564\u001b[0m     \u001b[0mklass\u001b[0m \u001b[0;34m=\u001b[0m \u001b[0mhandle_data_class_factory\u001b[0m\u001b[0;34m(\u001b[0m\u001b[0mendog\u001b[0m\u001b[0;34m,\u001b[0m \u001b[0mexog\u001b[0m\u001b[0;34m)\u001b[0m\u001b[0;34m\u001b[0m\u001b[0m\n\u001b[1;32m    565\u001b[0m     return klass(endog, exog=exog, missing=missing, hasconst=hasconst,\n\u001b[0;32m--> 566\u001b[0;31m                  **kwargs)\n\u001b[0m",
      "\u001b[0;32m//anaconda/lib/python2.7/site-packages/statsmodels/base/data.pyc\u001b[0m in \u001b[0;36m__init__\u001b[0;34m(self, endog, exog, missing, hasconst, **kwargs)\u001b[0m\n\u001b[1;32m     73\u001b[0m \u001b[0;34m\u001b[0m\u001b[0m\n\u001b[1;32m     74\u001b[0m         \u001b[0;31m# this has side-effects, attaches k_constant and const_idx\u001b[0m\u001b[0;34m\u001b[0m\u001b[0;34m\u001b[0m\u001b[0m\n\u001b[0;32m---> 75\u001b[0;31m         \u001b[0mself\u001b[0m\u001b[0;34m.\u001b[0m\u001b[0m_handle_constant\u001b[0m\u001b[0;34m(\u001b[0m\u001b[0mhasconst\u001b[0m\u001b[0;34m)\u001b[0m\u001b[0;34m\u001b[0m\u001b[0m\n\u001b[0m\u001b[1;32m     76\u001b[0m         \u001b[0mself\u001b[0m\u001b[0;34m.\u001b[0m\u001b[0m_check_integrity\u001b[0m\u001b[0;34m(\u001b[0m\u001b[0;34m)\u001b[0m\u001b[0;34m\u001b[0m\u001b[0m\n\u001b[1;32m     77\u001b[0m         \u001b[0mself\u001b[0m\u001b[0;34m.\u001b[0m\u001b[0m_cache\u001b[0m \u001b[0;34m=\u001b[0m \u001b[0mresettable_cache\u001b[0m\u001b[0;34m(\u001b[0m\u001b[0;34m)\u001b[0m\u001b[0;34m\u001b[0m\u001b[0m\n",
      "\u001b[0;32m//anaconda/lib/python2.7/site-packages/statsmodels/base/data.pyc\u001b[0m in \u001b[0;36m_handle_constant\u001b[0;34m(self, hasconst)\u001b[0m\n\u001b[1;32m     91\u001b[0m             \u001b[0;31m# detect where the constant is\u001b[0m\u001b[0;34m\u001b[0m\u001b[0;34m\u001b[0m\u001b[0m\n\u001b[1;32m     92\u001b[0m             \u001b[0mcheck_implicit\u001b[0m \u001b[0;34m=\u001b[0m \u001b[0mFalse\u001b[0m\u001b[0;34m\u001b[0m\u001b[0m\n\u001b[0;32m---> 93\u001b[0;31m             \u001b[0mconst_idx\u001b[0m \u001b[0;34m=\u001b[0m \u001b[0mnp\u001b[0m\u001b[0;34m.\u001b[0m\u001b[0mwhere\u001b[0m\u001b[0;34m(\u001b[0m\u001b[0mself\u001b[0m\u001b[0;34m.\u001b[0m\u001b[0mexog\u001b[0m\u001b[0;34m.\u001b[0m\u001b[0mptp\u001b[0m\u001b[0;34m(\u001b[0m\u001b[0maxis\u001b[0m\u001b[0;34m=\u001b[0m\u001b[0;36m0\u001b[0m\u001b[0;34m)\u001b[0m \u001b[0;34m==\u001b[0m \u001b[0;36m0\u001b[0m\u001b[0;34m)\u001b[0m\u001b[0;34m[\u001b[0m\u001b[0;36m0\u001b[0m\u001b[0;34m]\u001b[0m\u001b[0;34m.\u001b[0m\u001b[0msqueeze\u001b[0m\u001b[0;34m(\u001b[0m\u001b[0;34m)\u001b[0m\u001b[0;34m\u001b[0m\u001b[0m\n\u001b[0m\u001b[1;32m     94\u001b[0m             \u001b[0mself\u001b[0m\u001b[0;34m.\u001b[0m\u001b[0mk_constant\u001b[0m \u001b[0;34m=\u001b[0m \u001b[0mconst_idx\u001b[0m\u001b[0;34m.\u001b[0m\u001b[0msize\u001b[0m\u001b[0;34m\u001b[0m\u001b[0m\n\u001b[1;32m     95\u001b[0m \u001b[0;34m\u001b[0m\u001b[0m\n",
      "\u001b[0;31mValueError\u001b[0m: zero-size array to reduction operation maximum which has no identity"
     ]
    }
   ],
   "source": [
    "no_nulls = min_wage[min_wage[['FTE','year', 'sheet', 'state_year', 'GAP', 'price_full_meal']].notnull()]\n",
    "no_nulls['sheet'] = no_nulls.sheet.astype('int64')\n",
    "# re_results = MixedLM(no_nulls['FTE'], sm.add_constant(no_nulls[['year', 'state_year', 'GAP', 'price_full_meal']]), \n",
    "#             groups = no_nulls['state'], missing = 'drop').fit()\n",
    "re_results = MixedLM.from_formula(\"FTE ~ 0 + year + state + state_year + GAP + price_full_meal\", data = no_nulls, \n",
    "                                  groups = no_nulls.sheet, missing = 'drop')"
   ]
  },
  {
   "cell_type": "code",
   "execution_count": 87,
   "metadata": {
    "collapsed": false
   },
   "outputs": [],
   "source": [
    "fname = \"http://vincentarelbundock.github.io/Rdatasets/csv/Ecdat/VietNamI.csv\"\n",
    "data = pd.read_csv(fname)\n",
    "data[\"age\"] = np.exp(data[\"age\"])\n",
    "data[\"educ\"] = (data[\"educ\"] - data[\"educ\"].mean()) / data[\"educ\"].std()\n",
    "\n",
    "fml = \"lnhhexp ~ age + sex + married + educ + insurance + injury + actdays\"\n",
    "mod_gee = MixedLM.from_formula(fml, groups=data[\"commune\"], data=data).fit().summary()\n",
    "\n"
   ]
  },
  {
   "cell_type": "code",
   "execution_count": 98,
   "metadata": {
    "collapsed": false
   },
   "outputs": [
    {
     "data": {
      "text/plain": [
       "0         1\n",
       "1         1\n",
       "2         2\n",
       "3         2\n",
       "4         3\n",
       "5         3\n",
       "6         4\n",
       "7         4\n",
       "8         5\n",
       "9         5\n",
       "10        6\n",
       "11        6\n",
       "12        8\n",
       "13        8\n",
       "14        9\n",
       "15        9\n",
       "16       10\n",
       "17       10\n",
       "18       11\n",
       "19       11\n",
       "20       12\n",
       "21       12\n",
       "22       13\n",
       "23       13\n",
       "24       14\n",
       "25       14\n",
       "26       15\n",
       "27       15\n",
       "28       16\n",
       "29       16\n",
       "       ... \n",
       "790     497\n",
       "791     497\n",
       "792     498\n",
       "793     498\n",
       "794     499\n",
       "795     499\n",
       "796     501\n",
       "797     501\n",
       "798     503\n",
       "799     503\n",
       "800     506\n",
       "801     506\n",
       "802     509\n",
       "803     509\n",
       "804     510\n",
       "805     510\n",
       "806     511\n",
       "807     511\n",
       "808     514\n",
       "809     514\n",
       "810     515\n",
       "811     515\n",
       "812     516\n",
       "813     516\n",
       "814     521\n",
       "815     521\n",
       "816     522\n",
       "817     522\n",
       "818    4070\n",
       "819    4070\n",
       "Name: sheet, dtype: int64"
      ]
     },
     "execution_count": 98,
     "metadata": {},
     "output_type": "execute_result"
    }
   ],
   "source": []
  },
  {
   "cell_type": "code",
   "execution_count": 94,
   "metadata": {
    "collapsed": false
   },
   "outputs": [
    {
     "data": {
      "text/plain": [
       "numpy.int64"
      ]
     },
     "execution_count": 94,
     "metadata": {},
     "output_type": "execute_result"
    }
   ],
   "source": []
  },
  {
   "cell_type": "markdown",
   "metadata": {},
   "source": [
    "First, I need to specify time invariant variables, and then the ones that change over each time period. The ones that change, I take the difference between the two time periods. For those differenced variables, I create a new differenced dataframe."
   ]
  },
  {
   "cell_type": "code",
   "execution_count": null,
   "metadata": {
    "collapsed": false
   },
   "outputs": [],
   "source": [
    "time_invar = ['sheet', 'chain', 'co_owned', 'state', 'southj', 'centralj',\n",
    "       'northj', 'pa1', 'pa2', 'shore', 'GAP', 'pctaff1']\n",
    "t1_vars = ['ncalls1', 'empft1', 'emppt1','nmgrs1', 'wage_st1', 'inctime1', 'firstinc1',  \n",
    "           'open1', 'hrsopen1', 'psoda1', 'pfry1', 'pentree1', 'nregs1', 'nregs111', \n",
    "           'FTE1', 'price_full_meal1']\n",
    "\n",
    "t2_vars = ['ncalls2','empft2', 'emppt2', 'nmgrs2', 'wage_st2', 'inctime2', 'firstin2',\n",
    "           'open2r', 'hrsopen2', 'psoda2', 'pfry2', 'pentree2', 'nregs2', 'nregs112', \n",
    "           'FTE2', 'price_full_meal2']\n",
    "\n",
    "len(t1_vars), len(t2_vars)"
   ]
  },
  {
   "cell_type": "code",
   "execution_count": null,
   "metadata": {
    "collapsed": false
   },
   "outputs": [],
   "source": [
    "diff_wage = pd.DataFrame()\n",
    "for i in xrange(len(t1_vars)):\n",
    "    label = t1_vars[i][:-1] + '_diff'\n",
    "    diff_wage[label] = min_wage[t2_vars[i]] - min_wage[t1_vars[i]]"
   ]
  },
  {
   "cell_type": "code",
   "execution_count": null,
   "metadata": {
    "collapsed": false
   },
   "outputs": [],
   "source": [
    "diff_wage.head()"
   ]
  },
  {
   "cell_type": "markdown",
   "metadata": {},
   "source": [
    "Now that I have the differenced variables, add back our time invariant variables so that we can control for location etc."
   ]
  },
  {
   "cell_type": "code",
   "execution_count": null,
   "metadata": {
    "collapsed": false
   },
   "outputs": [],
   "source": [
    "diff_wage = diff_wage.join(min_wage[time_invar])"
   ]
  },
  {
   "cell_type": "code",
   "execution_count": null,
   "metadata": {
    "collapsed": false
   },
   "outputs": [],
   "source": [
    "diff_wage.columns.values"
   ]
  },
  {
   "cell_type": "markdown",
   "metadata": {},
   "source": [
    "## Question 2\n",
    "\n",
    "The model specification I will use is:\n",
    "\n",
    "$$ \\Delta FTE_{it} = \\beta_0 +  \\beta_1 empft\\_diff + \\beta_2 emppt\\_diff + \\beta_3 firstinc\\_diff + \\beta4 hrsopen\\_diff + \\beta_5 price\\_full\\_meal\\_diff + \\beta_6 GAP + \\epsilon$$\n",
    "\n"
   ]
  },
  {
   "cell_type": "markdown",
   "metadata": {},
   "source": [
    "year will be our before/after variable, and state is control/treatment group. 1 indicates treatment (NJ)\n",
    "\n",
    "The model that we will estimate is a Difference in Difference model:\n",
    "\n",
    "$$ \\Delta FTE_{it} = \\beta_0 + \\delta_0 year + \\beta_1 State + \\delta_1 ( year * state) + C_i + \\epsilon_{it} $$\n",
    "\n",
    "Where $\\delta_1$ is the treatment effect of the wage hike"
   ]
  },
  {
   "cell_type": "code",
   "execution_count": null,
   "metadata": {
    "collapsed": true
   },
   "outputs": [],
   "source": [
    "min_wage['year_state'] = min_wage.year * min_wage.state\n",
    "min_wage_constant = sm.add_constant(min_wage)"
   ]
  },
  {
   "cell_type": "code",
   "execution_count": null,
   "metadata": {
    "collapsed": false,
    "scrolled": true
   },
   "outputs": [],
   "source": [
    "min_wage_constant.head()"
   ]
  },
  {
   "cell_type": "code",
   "execution_count": null,
   "metadata": {
    "collapsed": false
   },
   "outputs": [],
   "source": [
    "sm.OLS(min_wage_constant['FTE'], min_wage_constant[['const', 'state']], missing = 'drop').fit().summary()"
   ]
  },
  {
   "cell_type": "code",
   "execution_count": null,
   "metadata": {
    "collapsed": false
   },
   "outputs": [],
   "source": [
    "sm.OLS(min_wage_constant['FTE'], min_wage_constant[['const', 'year', 'state', 'year_state']], missing = 'drop').fit().summary()"
   ]
  },
  {
   "cell_type": "code",
   "execution_count": null,
   "metadata": {
    "collapsed": false
   },
   "outputs": [],
   "source": [
    "control_before = min_wage[(min_wage.year == 1) & (min_wage.state == 0)] # PA, before wage hike\n",
    "control_after = min_wage[(min_wage.year == 2) & (min_wage.state == 0)] #PA, after wage hike\n",
    "\n",
    "treat_before = min_wage[(min_wage.year == 1) & (min_wage.state == 1)] #NJ, before wage hike\n",
    "treat_after = min_wage[(min_wage.year == 2) & (min_wage.state == 1)] #"
   ]
  },
  {
   "cell_type": "code",
   "execution_count": null,
   "metadata": {
    "collapsed": false
   },
   "outputs": [],
   "source": []
  },
  {
   "cell_type": "code",
   "execution_count": null,
   "metadata": {
    "collapsed": false
   },
   "outputs": [],
   "source": []
  },
  {
   "cell_type": "code",
   "execution_count": null,
   "metadata": {
    "collapsed": true
   },
   "outputs": [],
   "source": []
  }
 ],
 "metadata": {
  "anaconda-cloud": {},
  "kernelspec": {
   "display_name": "Python [conda root]",
   "language": "python",
   "name": "conda-root-py"
  },
  "language_info": {
   "codemirror_mode": {
    "name": "ipython",
    "version": 2
   },
   "file_extension": ".py",
   "mimetype": "text/x-python",
   "name": "python",
   "nbconvert_exporter": "python",
   "pygments_lexer": "ipython2",
   "version": "2.7.12"
  }
 },
 "nbformat": 4,
 "nbformat_minor": 1
}
