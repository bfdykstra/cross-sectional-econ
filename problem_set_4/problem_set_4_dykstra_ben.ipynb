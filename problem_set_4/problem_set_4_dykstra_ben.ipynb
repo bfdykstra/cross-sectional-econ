{
 "cells": [
  {
   "cell_type": "code",
   "execution_count": 1,
   "metadata": {
    "collapsed": true
   },
   "outputs": [],
   "source": [
    "import pandas as pd\n",
    "import numpy as np\n",
    "import statsmodels.api as sm\n",
    "\n",
    "from __future__ import division\n",
    "import seaborn as sns\n",
    "\n",
    "%matplotlib inline\n",
    "import matplotlib.pylab as plt\n",
    "from matplotlib.pylab import rcParams\n",
    "rcParams['figure.figsize'] = 18.5, 10.5\n",
    "\n",
    "from statsmodels.regression.mixed_linear_model import MixedLM"
   ]
  },
  {
   "cell_type": "code",
   "execution_count": 2,
   "metadata": {
    "collapsed": true
   },
   "outputs": [],
   "source": [
    "def print_resids(preds, resids):\n",
    "    ax = sns.regplot(preds, resids);\n",
    "    ax.set(xlabel = 'Predicted values', ylabel = 'errors', title = 'Predicted values vs. Errors')\n",
    "    plt.show();"
   ]
  },
  {
   "cell_type": "markdown",
   "metadata": {},
   "source": [
    "# Panel Data Analysis\n",
    "\n",
    "## Question 1\n",
    "\n",
    "The minimum wage policy in the paper raises the minimum wage in the state of New Jersey from \\$4.25 to \\$5.05. The researchers followed 410 stores in Pennsylvania and New Jersery before the rise in minimum wage in early 1992, and after the rise 7-8 months later. Almost 100 percent of the stores from the first wave of interviews continued on with the survery. They take in to account closing stores and employement changes, therefore they can measure the overall effect of the rise in minimum wage of unemployment.   "
   ]
  },
  {
   "cell_type": "markdown",
   "metadata": {},
   "source": [
    "## Question 2\n",
    "\n",
    "Estimate a Pooled OLS regression. The model I specify is:\n",
    "\n",
    "$$ FTE = \\beta_0 + \\beta_1 year + + \\beta_2 state  + \\beta_3 state*year + \\beta_4 GAP + \\beta_5 price\\_full\\_meal + \\epsilon $$\n",
    "\n",
    "I will change year so that it is a binary variable. This way, the coefficient on it will be marginal effect of the minimum wage law on full time employment equivalent. As stated in the paper, the region experienced a small recession between 1991 and 1993, so I expect this to negatively affect FTE. I also expect the coefficient on state to be negative because of the greater mean number of employees in PA. As for the state \\* year interaction, which gives the marginal effect of being in NJ after the wage hike, I also expect it to have a positive effect on employment.\n",
    "\n",
    "The wage gap (GAP) is the proportional increase in wages at store i necessary to meet the new minimum rate. The reason I include this variable as a control is that if a store has to relatively increase wages a lot, then the costs of employment rise, thereby affecting how many employees that that store can have. I expect that this will have a negative effect on FTE. The price of a full meal includes a drink, small fries and an entree. I expect that the price of a meal is not strongly tied to how many employees work at that store. However, if sales stay the same after the wage hike, then stores with higher prices may be able to better sustain their workforce. Therefore, I expect a negative correlation with FTE."
   ]
  },
  {
   "cell_type": "code",
   "execution_count": 3,
   "metadata": {
    "collapsed": true
   },
   "outputs": [],
   "source": [
    "min_wage = pd.read_stata('http://rlhick.people.wm.edu/econ407/data/Card_Kreuger_long.dta')"
   ]
  },
  {
   "cell_type": "code",
   "execution_count": 4,
   "metadata": {
    "collapsed": false
   },
   "outputs": [
    {
     "data": {
      "text/html": [
       "<div>\n",
       "<table border=\"1\" class=\"dataframe\">\n",
       "  <thead>\n",
       "    <tr style=\"text-align: right;\">\n",
       "      <th></th>\n",
       "      <th>sheet</th>\n",
       "      <th>year</th>\n",
       "      <th>chain</th>\n",
       "      <th>co_owned</th>\n",
       "      <th>state</th>\n",
       "      <th>southj</th>\n",
       "      <th>centralj</th>\n",
       "      <th>northj</th>\n",
       "      <th>pa1</th>\n",
       "      <th>pa2</th>\n",
       "      <th>...</th>\n",
       "      <th>hrsopen</th>\n",
       "      <th>psoda</th>\n",
       "      <th>pfry</th>\n",
       "      <th>pentree</th>\n",
       "      <th>nregs</th>\n",
       "      <th>nregs11</th>\n",
       "      <th>firstinc</th>\n",
       "      <th>bonus</th>\n",
       "      <th>pctaff</th>\n",
       "      <th>open</th>\n",
       "    </tr>\n",
       "  </thead>\n",
       "  <tbody>\n",
       "    <tr>\n",
       "      <th>0</th>\n",
       "      <td>1</td>\n",
       "      <td>1</td>\n",
       "      <td>1</td>\n",
       "      <td>0</td>\n",
       "      <td>1</td>\n",
       "      <td>0</td>\n",
       "      <td>1</td>\n",
       "      <td>0</td>\n",
       "      <td>0</td>\n",
       "      <td>0</td>\n",
       "      <td>...</td>\n",
       "      <td>16.0</td>\n",
       "      <td>0.93</td>\n",
       "      <td>0.83</td>\n",
       "      <td>0.85</td>\n",
       "      <td>4.0</td>\n",
       "      <td>3.0</td>\n",
       "      <td>0.25</td>\n",
       "      <td>0.0</td>\n",
       "      <td>80.0</td>\n",
       "      <td>7.0</td>\n",
       "    </tr>\n",
       "    <tr>\n",
       "      <th>1</th>\n",
       "      <td>1</td>\n",
       "      <td>2</td>\n",
       "      <td>1</td>\n",
       "      <td>0</td>\n",
       "      <td>1</td>\n",
       "      <td>0</td>\n",
       "      <td>1</td>\n",
       "      <td>0</td>\n",
       "      <td>0</td>\n",
       "      <td>0</td>\n",
       "      <td>...</td>\n",
       "      <td>16.0</td>\n",
       "      <td>1.05</td>\n",
       "      <td>0.79</td>\n",
       "      <td>0.90</td>\n",
       "      <td>4.0</td>\n",
       "      <td>3.0</td>\n",
       "      <td>NaN</td>\n",
       "      <td>NaN</td>\n",
       "      <td>NaN</td>\n",
       "      <td>NaN</td>\n",
       "    </tr>\n",
       "    <tr>\n",
       "      <th>2</th>\n",
       "      <td>2</td>\n",
       "      <td>1</td>\n",
       "      <td>1</td>\n",
       "      <td>0</td>\n",
       "      <td>1</td>\n",
       "      <td>0</td>\n",
       "      <td>1</td>\n",
       "      <td>0</td>\n",
       "      <td>0</td>\n",
       "      <td>0</td>\n",
       "      <td>...</td>\n",
       "      <td>14.0</td>\n",
       "      <td>1.06</td>\n",
       "      <td>0.91</td>\n",
       "      <td>0.96</td>\n",
       "      <td>2.0</td>\n",
       "      <td>2.0</td>\n",
       "      <td>0.50</td>\n",
       "      <td>1.0</td>\n",
       "      <td>80.0</td>\n",
       "      <td>7.0</td>\n",
       "    </tr>\n",
       "    <tr>\n",
       "      <th>3</th>\n",
       "      <td>2</td>\n",
       "      <td>2</td>\n",
       "      <td>1</td>\n",
       "      <td>0</td>\n",
       "      <td>1</td>\n",
       "      <td>0</td>\n",
       "      <td>1</td>\n",
       "      <td>0</td>\n",
       "      <td>0</td>\n",
       "      <td>0</td>\n",
       "      <td>...</td>\n",
       "      <td>15.0</td>\n",
       "      <td>1.05</td>\n",
       "      <td>1.01</td>\n",
       "      <td>0.94</td>\n",
       "      <td>2.0</td>\n",
       "      <td>2.0</td>\n",
       "      <td>NaN</td>\n",
       "      <td>NaN</td>\n",
       "      <td>NaN</td>\n",
       "      <td>NaN</td>\n",
       "    </tr>\n",
       "    <tr>\n",
       "      <th>4</th>\n",
       "      <td>3</td>\n",
       "      <td>1</td>\n",
       "      <td>2</td>\n",
       "      <td>0</td>\n",
       "      <td>1</td>\n",
       "      <td>0</td>\n",
       "      <td>1</td>\n",
       "      <td>0</td>\n",
       "      <td>0</td>\n",
       "      <td>0</td>\n",
       "      <td>...</td>\n",
       "      <td>10.0</td>\n",
       "      <td>1.06</td>\n",
       "      <td>0.95</td>\n",
       "      <td>3.09</td>\n",
       "      <td>5.0</td>\n",
       "      <td>3.0</td>\n",
       "      <td>0.25</td>\n",
       "      <td>1.0</td>\n",
       "      <td>50.0</td>\n",
       "      <td>11.0</td>\n",
       "    </tr>\n",
       "  </tbody>\n",
       "</table>\n",
       "<p>5 rows × 35 columns</p>\n",
       "</div>"
      ],
      "text/plain": [
       "   sheet  year  chain  co_owned  state  southj  centralj  northj  pa1  pa2  \\\n",
       "0      1     1      1         0      1       0         1       0    0    0   \n",
       "1      1     2      1         0      1       0         1       0    0    0   \n",
       "2      2     1      1         0      1       0         1       0    0    0   \n",
       "3      2     2      1         0      1       0         1       0    0    0   \n",
       "4      3     1      2         0      1       0         1       0    0    0   \n",
       "\n",
       "   ...   hrsopen  psoda  pfry  pentree  nregs  nregs11  firstinc  bonus  \\\n",
       "0  ...      16.0   0.93  0.83     0.85    4.0      3.0      0.25    0.0   \n",
       "1  ...      16.0   1.05  0.79     0.90    4.0      3.0       NaN    NaN   \n",
       "2  ...      14.0   1.06  0.91     0.96    2.0      2.0      0.50    1.0   \n",
       "3  ...      15.0   1.05  1.01     0.94    2.0      2.0       NaN    NaN   \n",
       "4  ...      10.0   1.06  0.95     3.09    5.0      3.0      0.25    1.0   \n",
       "\n",
       "   pctaff  open  \n",
       "0    80.0   7.0  \n",
       "1     NaN   NaN  \n",
       "2    80.0   7.0  \n",
       "3     NaN   NaN  \n",
       "4    50.0  11.0  \n",
       "\n",
       "[5 rows x 35 columns]"
      ]
     },
     "execution_count": 4,
     "metadata": {},
     "output_type": "execute_result"
    }
   ],
   "source": [
    "min_wage.head()"
   ]
  },
  {
   "cell_type": "code",
   "execution_count": 5,
   "metadata": {
    "collapsed": false
   },
   "outputs": [],
   "source": [
    "#min_wage = pd.read_stata('http://rlhick.people.wm.edu/econ407/data/Card_Kreuger_wide.dta')"
   ]
  },
  {
   "cell_type": "code",
   "execution_count": 6,
   "metadata": {
    "collapsed": false
   },
   "outputs": [
    {
     "data": {
      "text/plain": [
       "array(['sheet', 'year', 'chain', 'co_owned', 'state', 'southj', 'centralj',\n",
       "       'northj', 'pa1', 'pa2', 'shore', 'ncalls1', 'type2', 'status2',\n",
       "       'date2', 'ncalls2', 'empft', 'emppt', 'nmgrs', 'wage_st', 'inctime',\n",
       "       'firstin2', 'special2', 'meals', 'open2r', 'hrsopen', 'psoda',\n",
       "       'pfry', 'pentree', 'nregs', 'nregs11', 'firstinc', 'bonus',\n",
       "       'pctaff', 'open'], dtype=object)"
      ]
     },
     "execution_count": 6,
     "metadata": {},
     "output_type": "execute_result"
    }
   ],
   "source": [
    "min_wage.columns.values"
   ]
  },
  {
   "cell_type": "markdown",
   "metadata": {},
   "source": [
    "I create a variable \"FET\" that is full time equivalent employment. it is # full time workers + 0.5 * part time workers. I also get the price of a full meal, which is the sum of the prices of a drink, small fry and entree."
   ]
  },
  {
   "cell_type": "code",
   "execution_count": 7,
   "metadata": {
    "collapsed": false
   },
   "outputs": [],
   "source": [
    "min_wage['FTE'] = min_wage.empft + 0.5 * min_wage.emppt\n",
    "# min_wage['FTE1'] = min_wage.empft1 + 0.5 * min_wage.emppt1 #T = 1 FTE\n",
    "# min_wage['FTE2'] = min_wage.empft2 + 0.5 * min_wage.emppt2 #T = 2 FTE\n",
    "# min_wage['price_full_meal1'] = min_wage['psoda1'] +  min_wage['pfry1'] +  min_wage['pentree1']\n",
    "# min_wage['price_full_meal2'] = min_wage['psoda2'] +  min_wage['pfry2'] +  min_wage['pentree2']\n"
   ]
  },
  {
   "cell_type": "markdown",
   "metadata": {},
   "source": [
    "GAP, is the proportional increase in wages at store i necessary to meet the new minimum rate. It only applies to stores located in NJ. Convert year to binary variable and get price of a full meal"
   ]
  },
  {
   "cell_type": "code",
   "execution_count": 8,
   "metadata": {
    "collapsed": false
   },
   "outputs": [],
   "source": [
    "def get_GAP(row):\n",
    "    if (row[0] == 0) or (row[0] == 1 and row[1] >= 5.05):\n",
    "        return 0\n",
    "    else:\n",
    "        return (5.05 - row[1]) / row[1]\n",
    "def year_to_binary(x):\n",
    "    if x == 1:\n",
    "        return 0\n",
    "    else:\n",
    "        return 1\n",
    "    \n",
    "min_wage['GAP'] = min_wage[['state', 'wage_st']].apply(get_GAP, axis = 1)\n",
    "min_wage['year'] = min_wage.year.apply(year_to_binary)\n",
    "min_wage['price_full_meal'] = min_wage.psoda + min_wage.pfry + min_wage.pentree\n",
    "min_wage['state_year'] = min_wage.state * min_wage.year"
   ]
  },
  {
   "cell_type": "markdown",
   "metadata": {},
   "source": [
    "Examine the distribution of FTE, praying for normality"
   ]
  },
  {
   "cell_type": "code",
   "execution_count": 9,
   "metadata": {
    "collapsed": false
   },
   "outputs": [
    {
     "data": {
      "text/plain": [
       "count    801.000000\n",
       "mean      17.594570\n",
       "std        9.022515\n",
       "min        0.000000\n",
       "25%       11.500000\n",
       "50%       16.500000\n",
       "75%       22.000000\n",
       "max       80.000000\n",
       "Name: FTE, dtype: float64"
      ]
     },
     "execution_count": 9,
     "metadata": {},
     "output_type": "execute_result"
    },
    {
     "data": {
      "image/png": "[encoded data removed]",
      "text/plain": [
       "<matplotlib.figure.Figure at 0x117828110>"
      ]
     },
     "metadata": {},
     "output_type": "display_data"
    }
   ],
   "source": [
    "sns.distplot(min_wage[min_wage.FTE.notnull()]['FTE']); min_wage.FTE.describe()"
   ]
  },
  {
   "cell_type": "markdown",
   "metadata": {},
   "source": [
    "So FTE is pretty normal, if a bit skewed left. There are also a couple of large values. Next we add a constant on and run the regression, dropping any observations that contain missin values."
   ]
  },
  {
   "cell_type": "code",
   "execution_count": 10,
   "metadata": {
    "collapsed": false
   },
   "outputs": [
    {
     "data": {
      "text/html": [
       "<table class=\"simpletable\">\n",
       "<caption>OLS Regression Results</caption>\n",
       "<tr>\n",
       "  <th>Dep. Variable:</th>           <td>FTE</td>       <th>  R-squared:         </th> <td>   0.159</td>\n",
       "</tr>\n",
       "<tr>\n",
       "  <th>Model:</th>                   <td>OLS</td>       <th>  Adj. R-squared:    </th> <td>   0.154</td>\n",
       "</tr>\n",
       "<tr>\n",
       "  <th>Method:</th>             <td>Least Squares</td>  <th>  F-statistic:       </th> <td>   27.58</td>\n",
       "</tr>\n",
       "<tr>\n",
       "  <th>Date:</th>             <td>Sun, 30 Oct 2016</td> <th>  Prob (F-statistic):</th> <td>1.28e-25</td>\n",
       "</tr>\n",
       "<tr>\n",
       "  <th>Time:</th>                 <td>22:20:55</td>     <th>  Log-Likelihood:    </th> <td> -2550.9</td>\n",
       "</tr>\n",
       "<tr>\n",
       "  <th>No. Observations:</th>      <td>   733</td>      <th>  AIC:               </th> <td>   5114.</td>\n",
       "</tr>\n",
       "<tr>\n",
       "  <th>Df Residuals:</th>          <td>   727</td>      <th>  BIC:               </th> <td>   5141.</td>\n",
       "</tr>\n",
       "<tr>\n",
       "  <th>Df Model:</th>              <td>     5</td>      <th>                     </th>     <td> </td>   \n",
       "</tr>\n",
       "<tr>\n",
       "  <th>Covariance Type:</th>      <td>nonrobust</td>    <th>                     </th>     <td> </td>   \n",
       "</tr>\n",
       "</table>\n",
       "<table class=\"simpletable\">\n",
       "<tr>\n",
       "         <td></td>            <th>coef</th>     <th>std err</th>      <th>t</th>      <th>P>|t|</th> <th>[95.0% Conf. Int.]</th> \n",
       "</tr>\n",
       "<tr>\n",
       "  <th>const</th>           <td>   35.5014</td> <td>    1.669</td> <td>   21.268</td> <td> 0.000</td> <td>   32.224    38.779</td>\n",
       "</tr>\n",
       "<tr>\n",
       "  <th>year</th>            <td>   -2.1313</td> <td>    1.311</td> <td>   -1.626</td> <td> 0.104</td> <td>   -4.705     0.442</td>\n",
       "</tr>\n",
       "<tr>\n",
       "  <th>state</th>           <td>   -0.3041</td> <td>    1.239</td> <td>   -0.245</td> <td> 0.806</td> <td>   -2.737     2.129</td>\n",
       "</tr>\n",
       "<tr>\n",
       "  <th>state_year</th>      <td>    2.2260</td> <td>    1.615</td> <td>    1.378</td> <td> 0.169</td> <td>   -0.945     5.397</td>\n",
       "</tr>\n",
       "<tr>\n",
       "  <th>GAP</th>             <td>  -11.9613</td> <td>    6.461</td> <td>   -1.851</td> <td> 0.065</td> <td>  -24.647     0.724</td>\n",
       "</tr>\n",
       "<tr>\n",
       "  <th>price_full_meal</th> <td>   -5.1294</td> <td>    0.459</td> <td>  -11.167</td> <td> 0.000</td> <td>   -6.031    -4.228</td>\n",
       "</tr>\n",
       "</table>\n",
       "<table class=\"simpletable\">\n",
       "<tr>\n",
       "  <th>Omnibus:</th>       <td>227.946</td> <th>  Durbin-Watson:     </th> <td>   1.684</td> \n",
       "</tr>\n",
       "<tr>\n",
       "  <th>Prob(Omnibus):</th> <td> 0.000</td>  <th>  Jarque-Bera (JB):  </th> <td> 786.038</td> \n",
       "</tr>\n",
       "<tr>\n",
       "  <th>Skew:</th>          <td> 1.462</td>  <th>  Prob(JB):          </th> <td>2.06e-171</td>\n",
       "</tr>\n",
       "<tr>\n",
       "  <th>Kurtosis:</th>      <td> 7.146</td>  <th>  Cond. No.          </th> <td>    82.6</td> \n",
       "</tr>\n",
       "</table>"
      ],
      "text/plain": [
       "<class 'statsmodels.iolib.summary.Summary'>\n",
       "\"\"\"\n",
       "                            OLS Regression Results                            \n",
       "==============================================================================\n",
       "Dep. Variable:                    FTE   R-squared:                       0.159\n",
       "Model:                            OLS   Adj. R-squared:                  0.154\n",
       "Method:                 Least Squares   F-statistic:                     27.58\n",
       "Date:                Sun, 30 Oct 2016   Prob (F-statistic):           1.28e-25\n",
       "Time:                        22:20:55   Log-Likelihood:                -2550.9\n",
       "No. Observations:                 733   AIC:                             5114.\n",
       "Df Residuals:                     727   BIC:                             5141.\n",
       "Df Model:                           5                                         \n",
       "Covariance Type:            nonrobust                                         \n",
       "===================================================================================\n",
       "                      coef    std err          t      P>|t|      [95.0% Conf. Int.]\n",
       "-----------------------------------------------------------------------------------\n",
       "const              35.5014      1.669     21.268      0.000        32.224    38.779\n",
       "year               -2.1313      1.311     -1.626      0.104        -4.705     0.442\n",
       "state              -0.3041      1.239     -0.245      0.806        -2.737     2.129\n",
       "state_year          2.2260      1.615      1.378      0.169        -0.945     5.397\n",
       "GAP               -11.9613      6.461     -1.851      0.065       -24.647     0.724\n",
       "price_full_meal    -5.1294      0.459    -11.167      0.000        -6.031    -4.228\n",
       "==============================================================================\n",
       "Omnibus:                      227.946   Durbin-Watson:                   1.684\n",
       "Prob(Omnibus):                  0.000   Jarque-Bera (JB):              786.038\n",
       "Skew:                           1.462   Prob(JB):                    2.06e-171\n",
       "Kurtosis:                       7.146   Cond. No.                         82.6\n",
       "==============================================================================\n",
       "\n",
       "Warnings:\n",
       "[1] Standard Errors assume that the covariance matrix of the errors is correctly specified.\n",
       "\"\"\""
      ]
     },
     "execution_count": 10,
     "metadata": {},
     "output_type": "execute_result"
    }
   ],
   "source": [
    "pooled_ols_results = sm.OLS(min_wage['FTE'], \n",
    "                            sm.add_constant(min_wage[['year', 'state', 'state_year', 'GAP', 'price_full_meal']]), \n",
    "                            missing = 'drop').fit()\n",
    "\n",
    "pooled_ols_results.summary()"
   ]
  },
  {
   "cell_type": "code",
   "execution_count": 11,
   "metadata": {
    "collapsed": false
   },
   "outputs": [
    {
     "data": {
      "image/png": "[encoded data removed]",
      "text/plain": [
       "<matplotlib.figure.Figure at 0x117924250>"
      ]
     },
     "metadata": {},
     "output_type": "display_data"
    }
   ],
   "source": [
    "print_resids(pooled_ols_results.predict(), pooled_ols_results.resid)"
   ]
  },
  {
   "cell_type": "markdown",
   "metadata": {},
   "source": [
    "The marginal effect on employment with respect to the new minimum wage policy is positive. On average, there were 2.226 more full time equivalent employees after the wage hike in NJ."
   ]
  },
  {
   "cell_type": "markdown",
   "metadata": {},
   "source": [
    "## Question 3\n",
    "\n",
    "Estimate a random effects model. I will estimate a random intercept for each state.\n"
   ]
  },
  {
   "cell_type": "code",
   "execution_count": 41,
   "metadata": {
    "collapsed": false
   },
   "outputs": [],
   "source": [
    "no_nulls = min_wage[['FTE','year', 'state', 'state_year', 'GAP', 'price_full_meal']].dropna()\n",
    "re_results = MixedLM(no_nulls['FTE'], sm.add_constant(no_nulls[['state', 'state_year', 'GAP', 'price_full_meal']]), \n",
    "            groups = no_nulls['year'], missing = 'drop').fit()\n",
    "# re_results = MixedLM.from_formula(\"FTE ~ year + state_year + GAP + price_full_meal\", data = no_nulls, \n",
    "#                                   groups = no_nulls.state, missing = 'drop')"
   ]
  },
  {
   "cell_type": "code",
   "execution_count": 42,
   "metadata": {
    "collapsed": false
   },
   "outputs": [
    {
     "data": {
      "text/html": [
       "<table class=\"simpletable\">\n",
       "<tr>\n",
       "       <td>Model:</td>       <td>MixedLM</td> <td>Dependent Variable:</td>     <td>FTE</td>   \n",
       "</tr>\n",
       "<tr>\n",
       "  <td>No. Observations:</td>   <td>733</td>         <td>Method:</td>          <td>REML</td>   \n",
       "</tr>\n",
       "<tr>\n",
       "     <td>No. Groups:</td>       <td>2</td>          <td>Scale:</td>          <td>62.2025</td> \n",
       "</tr>\n",
       "<tr>\n",
       "  <td>Min. group size:</td>    <td>366</td>       <td>Likelihood:</td>     <td>-2548.1518</td>\n",
       "</tr>\n",
       "<tr>\n",
       "  <td>Max. group size:</td>    <td>367</td>       <td>Converged:</td>          <td>Yes</td>   \n",
       "</tr>\n",
       "<tr>\n",
       "  <td>Mean group size:</td>   <td>366.5</td>           <td></td>                <td></td>     \n",
       "</tr>\n",
       "</table>\n",
       "<table class=\"simpletable\">\n",
       "<tr>\n",
       "         <td></td>          <th>Coef.</th>  <th>Std.Err.</th>    <th>z</th>    <th>P>|z|</th> <th>[0.025</th>  <th>0.975]</th>\n",
       "</tr>\n",
       "<tr>\n",
       "  <th>const</th>           <td>34.422</td>    <td>1.756</td>  <td>19.606</td>  <td>0.000</td> <td>30.981</td>  <td>37.863</td>\n",
       "</tr>\n",
       "<tr>\n",
       "  <th>state</th>            <td>0.108</td>    <td>1.098</td>   <td>0.098</td>  <td>0.922</td> <td>-2.045</td>   <td>2.260</td>\n",
       "</tr>\n",
       "<tr>\n",
       "  <th>state_year</th>       <td>1.398</td>    <td>1.091</td>   <td>1.281</td>  <td>0.200</td> <td>-0.740</td>   <td>3.535</td>\n",
       "</tr>\n",
       "<tr>\n",
       "  <th>GAP</th>             <td>-12.156</td>   <td>6.461</td>  <td>-1.881</td>  <td>0.060</td> <td>-24.820</td>  <td>0.508</td>\n",
       "</tr>\n",
       "<tr>\n",
       "  <th>price_full_meal</th> <td>-5.123</td>    <td>0.459</td>  <td>-11.153</td> <td>0.000</td> <td>-6.023</td>  <td>-4.223</td>\n",
       "</tr>\n",
       "<tr>\n",
       "  <th>Intercept RE</th>     <td>1.411</td>      <td></td>        <td></td>       <td></td>       <td></td>        <td></td>   \n",
       "</tr>\n",
       "</table>"
      ],
      "text/plain": [
       "<class 'statsmodels.iolib.summary2.Summary'>\n",
       "\"\"\"\n",
       "            Mixed Linear Model Regression Results\n",
       "=============================================================\n",
       "Model:               MixedLM  Dependent Variable:  FTE       \n",
       "No. Observations:    733      Method:              REML      \n",
       "No. Groups:          2        Scale:               62.2025   \n",
       "Min. group size:     366      Likelihood:          -2548.1518\n",
       "Max. group size:     367      Converged:           Yes       \n",
       "Mean group size:     366.5                                   \n",
       "-------------------------------------------------------------\n",
       "                 Coef.  Std.Err.    z    P>|z|  [0.025 0.975]\n",
       "-------------------------------------------------------------\n",
       "const            34.422    1.756  19.606 0.000  30.981 37.863\n",
       "state             0.108    1.098   0.098 0.922  -2.045  2.260\n",
       "state_year        1.398    1.091   1.281 0.200  -0.740  3.535\n",
       "GAP             -12.156    6.461  -1.881 0.060 -24.820  0.508\n",
       "price_full_meal  -5.123    0.459 -11.153 0.000  -6.023 -4.223\n",
       "Intercept RE      1.411                                      \n",
       "=============================================================\n",
       "\n",
       "\"\"\""
      ]
     },
     "execution_count": 42,
     "metadata": {},
     "output_type": "execute_result"
    }
   ],
   "source": [
    "re_results.summary()"
   ]
  },
  {
   "cell_type": "code",
   "execution_count": 31,
   "metadata": {
    "collapsed": false
   },
   "outputs": [
    {
     "ename": "NotImplementedError",
     "evalue": "",
     "output_type": "error",
     "traceback": [
      "\u001b[0;31m---------------------------------------------------------------------------\u001b[0m",
      "\u001b[0;31mNotImplementedError\u001b[0m                       Traceback (most recent call last)",
      "\u001b[0;32m<ipython-input-31-f35948334ab1>\u001b[0m in \u001b[0;36m<module>\u001b[0;34m()\u001b[0m\n\u001b[1;32m      1\u001b[0m \u001b[0;32mfrom\u001b[0m \u001b[0mstatsmodels\u001b[0m\u001b[0;34m.\u001b[0m\u001b[0mstats\u001b[0m\u001b[0;34m.\u001b[0m\u001b[0mdiagnostic\u001b[0m \u001b[0;32mimport\u001b[0m \u001b[0mhet_breushpagan\u001b[0m\u001b[0;34m\u001b[0m\u001b[0m\n\u001b[1;32m      2\u001b[0m \u001b[0;34m\u001b[0m\u001b[0m\n\u001b[0;32m----> 3\u001b[0;31m \u001b[0mresids\u001b[0m \u001b[0;34m=\u001b[0m \u001b[0mre_results\u001b[0m\u001b[0;34m.\u001b[0m\u001b[0mpredict\u001b[0m\u001b[0;34m(\u001b[0m\u001b[0;34m)\u001b[0m \u001b[0;34m-\u001b[0m \u001b[0mno_nulls\u001b[0m\u001b[0;34m[\u001b[0m\u001b[0;34m'FTE'\u001b[0m\u001b[0;34m]\u001b[0m\u001b[0;34m\u001b[0m\u001b[0m\n\u001b[0m\u001b[1;32m      4\u001b[0m \u001b[0;34m\u001b[0m\u001b[0m\n\u001b[1;32m      5\u001b[0m \u001b[0mhet_breushpagan\u001b[0m\u001b[0;34m(\u001b[0m\u001b[0mresids\u001b[0m\u001b[0;34m,\u001b[0m\u001b[0mno_nulls\u001b[0m\u001b[0;34m[\u001b[0m\u001b[0;34m[\u001b[0m\u001b[0;34m'year'\u001b[0m\u001b[0;34m,\u001b[0m \u001b[0;34m'state_year'\u001b[0m\u001b[0;34m,\u001b[0m \u001b[0;34m'GAP'\u001b[0m\u001b[0;34m,\u001b[0m \u001b[0;34m'price_full_meal'\u001b[0m\u001b[0;34m]\u001b[0m\u001b[0;34m]\u001b[0m \u001b[0;34m)\u001b[0m\u001b[0;34m\u001b[0m\u001b[0m\n",
      "\u001b[0;32m//anaconda/lib/python2.7/site-packages/statsmodels/base/model.pyc\u001b[0m in \u001b[0;36mpredict\u001b[0;34m(self, exog, transform, *args, **kwargs)\u001b[0m\n\u001b[1;32m    747\u001b[0m             \u001b[0mexog\u001b[0m \u001b[0;34m=\u001b[0m \u001b[0mnp\u001b[0m\u001b[0;34m.\u001b[0m\u001b[0matleast_2d\u001b[0m\u001b[0;34m(\u001b[0m\u001b[0mexog\u001b[0m\u001b[0;34m)\u001b[0m  \u001b[0;31m# needed in count model shape[1]\u001b[0m\u001b[0;34m\u001b[0m\u001b[0m\n\u001b[1;32m    748\u001b[0m \u001b[0;34m\u001b[0m\u001b[0m\n\u001b[0;32m--> 749\u001b[0;31m         \u001b[0;32mreturn\u001b[0m \u001b[0mself\u001b[0m\u001b[0;34m.\u001b[0m\u001b[0mmodel\u001b[0m\u001b[0;34m.\u001b[0m\u001b[0mpredict\u001b[0m\u001b[0;34m(\u001b[0m\u001b[0mself\u001b[0m\u001b[0;34m.\u001b[0m\u001b[0mparams\u001b[0m\u001b[0;34m,\u001b[0m \u001b[0mexog\u001b[0m\u001b[0;34m,\u001b[0m \u001b[0;34m*\u001b[0m\u001b[0margs\u001b[0m\u001b[0;34m,\u001b[0m \u001b[0;34m**\u001b[0m\u001b[0mkwargs\u001b[0m\u001b[0;34m)\u001b[0m\u001b[0;34m\u001b[0m\u001b[0m\n\u001b[0m\u001b[1;32m    750\u001b[0m \u001b[0;34m\u001b[0m\u001b[0m\n\u001b[1;32m    751\u001b[0m \u001b[0;34m\u001b[0m\u001b[0m\n",
      "\u001b[0;32m//anaconda/lib/python2.7/site-packages/statsmodels/base/model.pyc\u001b[0m in \u001b[0;36mpredict\u001b[0;34m(self, params, exog, *args, **kwargs)\u001b[0m\n\u001b[1;32m    175\u001b[0m         \u001b[0mThis\u001b[0m \u001b[0;32mis\u001b[0m \u001b[0ma\u001b[0m \u001b[0mplaceholder\u001b[0m \u001b[0mintended\u001b[0m \u001b[0mto\u001b[0m \u001b[0mbe\u001b[0m \u001b[0moverwritten\u001b[0m \u001b[0mby\u001b[0m \u001b[0mindividual\u001b[0m \u001b[0mmodels\u001b[0m\u001b[0;34m.\u001b[0m\u001b[0;34m\u001b[0m\u001b[0m\n\u001b[1;32m    176\u001b[0m         \"\"\"\n\u001b[0;32m--> 177\u001b[0;31m         \u001b[0;32mraise\u001b[0m \u001b[0mNotImplementedError\u001b[0m\u001b[0;34m\u001b[0m\u001b[0m\n\u001b[0m\u001b[1;32m    178\u001b[0m \u001b[0;34m\u001b[0m\u001b[0m\n\u001b[1;32m    179\u001b[0m \u001b[0;34m\u001b[0m\u001b[0m\n",
      "\u001b[0;31mNotImplementedError\u001b[0m: "
     ]
    }
   ],
   "source": [
    "from statsmodels.stats.diagnostic import het_breushpagan\n",
    "\n",
    "resids = re_results.predict() - no_nulls['FTE']\n",
    "\n",
    "het_breushpagan(resids,no_nulls[['year', 'state_year', 'GAP', 'price_full_meal']] )"
   ]
  },
  {
   "cell_type": "code",
   "execution_count": 40,
   "metadata": {
    "collapsed": false
   },
   "outputs": [
    {
     "name": "stdout",
     "output_type": "stream",
     "text": [
      "\n",
      "INSTALLED VERSIONS\n",
      "------------------\n",
      "Python: 2.7.12.final.0\n",
      "OS: Darwin 15.6.0 Darwin Kernel Version 15.6.0: Thu Jun 23 18:25:34 PDT 2016; root:xnu-3248.60.10~1/RELEASE_X86_64 x86_64\n",
      "byteorder: little\n",
      "LC_ALL: None\n",
      "LANG: en_US.UTF-8\n",
      "\n",
      "Statsmodels\n",
      "===========\n",
      "\n",
      "Installed: 0.6.1 (//anaconda/lib/python2.7/site-packages/statsmodels)\n",
      "\n",
      "Required Dependencies\n",
      "=====================\n",
      "\n",
      "cython: 0.24.1 (//anaconda/lib/python2.7/site-packages/Cython)\n",
      "numpy: 1.11.2 (//anaconda/lib/python2.7/site-packages/numpy)\n",
      "scipy: 0.18.1 (//anaconda/lib/python2.7/site-packages/scipy)\n",
      "pandas: Cannot detect version (//anaconda/lib/python2.7/site-packages/pandas)\n",
      "    dateutil: 2.5.3 (//anaconda/lib/python2.7/site-packages/dateutil)\n",
      "patsy: 0.4.1 (//anaconda/lib/python2.7/site-packages/patsy)\n",
      "\n",
      "Optional Dependencies\n",
      "=====================\n",
      "\n",
      "matplotlib: 1.5.1 (//anaconda/lib/python2.7/site-packages/matplotlib)\n",
      "cvxopt: Not installed\n",
      "\n",
      "Developer Tools\n",
      "================\n",
      "\n",
      "IPython: 5.1.0 (//anaconda/lib/python2.7/site-packages/IPython)\n",
      "    jinja2: 2.8 (//anaconda/lib/python2.7/site-packages/jinja2)\n",
      "sphinx: 1.4.8 (//anaconda/lib/python2.7/site-packages/Sphinx-1.4.8-py2.7.egg/sphinx)\n",
      "    pygments: 2.1.3 (//anaconda/lib/python2.7/site-packages/pygments)\n",
      "nose: 1.3.7 (//anaconda/lib/python2.7/site-packages/nose)\n",
      "virtualenv: Not installed\n",
      "\n",
      "\n",
      "None\n"
     ]
    }
   ],
   "source": [
    "print sm.show_versions()\n"
   ]
  },
  {
   "cell_type": "markdown",
   "metadata": {},
   "source": [
    "First, I need to specify time invariant variables, and then the ones that change over each time period. The ones that change, I take the difference between the two time periods. For those differenced variables, I create a new differenced dataframe."
   ]
  },
  {
   "cell_type": "code",
   "execution_count": null,
   "metadata": {
    "collapsed": false
   },
   "outputs": [],
   "source": [
    "time_invar = ['sheet', 'chain', 'co_owned', 'state', 'southj', 'centralj',\n",
    "       'northj', 'pa1', 'pa2', 'shore', 'GAP', 'pctaff1']\n",
    "t1_vars = ['ncalls1', 'empft1', 'emppt1','nmgrs1', 'wage_st1', 'inctime1', 'firstinc1',  \n",
    "           'open1', 'hrsopen1', 'psoda1', 'pfry1', 'pentree1', 'nregs1', 'nregs111', \n",
    "           'FTE1', 'price_full_meal1']\n",
    "\n",
    "t2_vars = ['ncalls2','empft2', 'emppt2', 'nmgrs2', 'wage_st2', 'inctime2', 'firstin2',\n",
    "           'open2r', 'hrsopen2', 'psoda2', 'pfry2', 'pentree2', 'nregs2', 'nregs112', \n",
    "           'FTE2', 'price_full_meal2']\n",
    "\n",
    "len(t1_vars), len(t2_vars)"
   ]
  },
  {
   "cell_type": "code",
   "execution_count": null,
   "metadata": {
    "collapsed": false
   },
   "outputs": [],
   "source": [
    "diff_wage = pd.DataFrame()\n",
    "for i in xrange(len(t1_vars)):\n",
    "    label = t1_vars[i][:-1] + '_diff'\n",
    "    diff_wage[label] = min_wage[t2_vars[i]] - min_wage[t1_vars[i]]"
   ]
  },
  {
   "cell_type": "code",
   "execution_count": null,
   "metadata": {
    "collapsed": false
   },
   "outputs": [],
   "source": [
    "diff_wage.head()"
   ]
  },
  {
   "cell_type": "markdown",
   "metadata": {},
   "source": [
    "Now that I have the differenced variables, add back our time invariant variables so that we can control for location etc."
   ]
  },
  {
   "cell_type": "code",
   "execution_count": null,
   "metadata": {
    "collapsed": false
   },
   "outputs": [],
   "source": [
    "diff_wage = diff_wage.join(min_wage[time_invar])"
   ]
  },
  {
   "cell_type": "code",
   "execution_count": null,
   "metadata": {
    "collapsed": false
   },
   "outputs": [],
   "source": [
    "diff_wage.columns.values"
   ]
  },
  {
   "cell_type": "markdown",
   "metadata": {},
   "source": [
    "## Question 2\n",
    "\n",
    "The model specification I will use is:\n",
    "\n",
    "$$ \\Delta FTE_{it} = \\beta_0 +  \\beta_1 empft\\_diff + \\beta_2 emppt\\_diff + \\beta_3 firstinc\\_diff + \\beta4 hrsopen\\_diff + \\beta_5 price\\_full\\_meal\\_diff + \\beta_6 GAP + \\epsilon$$\n",
    "\n"
   ]
  },
  {
   "cell_type": "markdown",
   "metadata": {},
   "source": [
    "year will be our before/after variable, and state is control/treatment group. 1 indicates treatment (NJ)\n",
    "\n",
    "The model that we will estimate is a Difference in Difference model:\n",
    "\n",
    "$$ \\Delta FTE_{it} = \\beta_0 + \\delta_0 year + \\beta_1 State + \\delta_1 ( year * state) + C_i + \\epsilon_{it} $$\n",
    "\n",
    "Where $\\delta_1$ is the treatment effect of the wage hike"
   ]
  },
  {
   "cell_type": "code",
   "execution_count": null,
   "metadata": {
    "collapsed": true
   },
   "outputs": [],
   "source": [
    "min_wage['year_state'] = min_wage.year * min_wage.state\n",
    "min_wage_constant = sm.add_constant(min_wage)"
   ]
  },
  {
   "cell_type": "code",
   "execution_count": null,
   "metadata": {
    "collapsed": false,
    "scrolled": true
   },
   "outputs": [],
   "source": [
    "min_wage_constant.head()"
   ]
  },
  {
   "cell_type": "code",
   "execution_count": null,
   "metadata": {
    "collapsed": false
   },
   "outputs": [],
   "source": [
    "sm.OLS(min_wage_constant['FTE'], min_wage_constant[['const', 'state']], missing = 'drop').fit().summary()"
   ]
  },
  {
   "cell_type": "code",
   "execution_count": null,
   "metadata": {
    "collapsed": false
   },
   "outputs": [],
   "source": [
    "sm.OLS(min_wage_constant['FTE'], min_wage_constant[['const', 'year', 'state', 'year_state']], missing = 'drop').fit().summary()"
   ]
  },
  {
   "cell_type": "code",
   "execution_count": null,
   "metadata": {
    "collapsed": false
   },
   "outputs": [],
   "source": [
    "control_before = min_wage[(min_wage.year == 1) & (min_wage.state == 0)] # PA, before wage hike\n",
    "control_after = min_wage[(min_wage.year == 2) & (min_wage.state == 0)] #PA, after wage hike\n",
    "\n",
    "treat_before = min_wage[(min_wage.year == 1) & (min_wage.state == 1)] #NJ, before wage hike\n",
    "treat_after = min_wage[(min_wage.year == 2) & (min_wage.state == 1)] #"
   ]
  },
  {
   "cell_type": "code",
   "execution_count": null,
   "metadata": {
    "collapsed": false
   },
   "outputs": [],
   "source": []
  },
  {
   "cell_type": "code",
   "execution_count": null,
   "metadata": {
    "collapsed": false
   },
   "outputs": [],
   "source": []
  },
  {
   "cell_type": "code",
   "execution_count": null,
   "metadata": {
    "collapsed": true
   },
   "outputs": [],
   "source": []
  }
 ],
 "metadata": {
  "anaconda-cloud": {},
  "kernelspec": {
   "display_name": "Python [conda root]",
   "language": "python",
   "name": "conda-root-py"
  },
  "language_info": {
   "codemirror_mode": {
    "name": "ipython",
    "version": 2
   },
   "file_extension": ".py",
   "mimetype": "text/x-python",
   "name": "python",
   "nbconvert_exporter": "python",
   "pygments_lexer": "ipython2",
   "version": "2.7.12"
  }
 },
 "nbformat": 4,
 "nbformat_minor": 1
}
