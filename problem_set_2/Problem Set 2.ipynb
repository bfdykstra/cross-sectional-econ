{
 "cells": [
  {
   "cell_type": "markdown",
   "metadata": {},
   "source": [
    "# Problem set 2\n",
    "\n",
    "## Author: Ben Dykstra\n",
    "\n"
   ]
  },
  {
   "cell_type": "code",
   "execution_count": 1,
   "metadata": {
    "collapsed": false
   },
   "outputs": [
    {
     "name": "stderr",
     "output_type": "stream",
     "text": [
      "//anaconda/lib/python2.7/site-packages/matplotlib/font_manager.py:273: UserWarning: Matplotlib is building the font cache using fc-list. This may take a moment.\n",
      "  warnings.warn('Matplotlib is building the font cache using fc-list. This may take a moment.')\n"
     ]
    }
   ],
   "source": [
    "import pandas as pd\n",
    "import numpy as np\n",
    "import statsmodels.api as sm\n",
    "\n",
    "import seaborn as sns\n",
    "\n",
    "%matplotlib inline\n",
    "import matplotlib.pylab as plt\n",
    "from matplotlib.pylab import rcParams\n",
    "rcParams['figure.figsize'] = 18.5, 10.5"
   ]
  },
  {
   "cell_type": "markdown",
   "metadata": {},
   "source": [
    "## Linear Algebra"
   ]
  },
  {
   "cell_type": "code",
   "execution_count": 2,
   "metadata": {
    "collapsed": false
   },
   "outputs": [],
   "source": [
    "x = np.array([2,3,2,1,1])"
   ]
  },
  {
   "cell_type": "markdown",
   "metadata": {},
   "source": [
    "Problem 1. a)"
   ]
  },
  {
   "cell_type": "code",
   "execution_count": 3,
   "metadata": {
    "collapsed": false
   },
   "outputs": [
    {
     "name": "stdout",
     "output_type": "stream",
     "text": [
      "     1    2    3  const\n",
      "0  0.0  1.0  0.0    1.0\n",
      "1  0.0  0.0  1.0    1.0\n",
      "2  0.0  1.0  0.0    1.0\n",
      "3  1.0  0.0  0.0    1.0\n",
      "4  1.0  0.0  0.0    1.0\n"
     ]
    }
   ],
   "source": [
    "x = pd.get_dummies(x)\n",
    "x['const'] = np.ones((5))\n",
    "print x"
   ]
  },
  {
   "cell_type": "markdown",
   "metadata": {},
   "source": [
    "Column 1 identifies the samples where the sample has less than a high school education. Column 2 identifies the samples that have at least a high school degree and less than a college degree. Column 3 gives the samples where they have a 4 year degree or more. The constant column is just ones that will be fitted via OLS.\n",
    "\n",
    "The rank of the matrix is 3, meaning that there are 3 independent columns present."
   ]
  },
  {
   "cell_type": "code",
   "execution_count": 4,
   "metadata": {
    "collapsed": false
   },
   "outputs": [
    {
     "data": {
      "text/plain": [
       "3"
      ]
     },
     "execution_count": 4,
     "metadata": {},
     "output_type": "execute_result"
    }
   ],
   "source": [
    "np.linalg.matrix_rank(x)"
   ]
  },
  {
   "cell_type": "markdown",
   "metadata": {},
   "source": [
    "Problem 2.\n"
   ]
  },
  {
   "cell_type": "code",
   "execution_count": 5,
   "metadata": {
    "collapsed": false
   },
   "outputs": [],
   "source": [
    "z = np.matrix([[2,6],[9,2]])\n",
    "m = np.matrix([[4],[8]])\n",
    "d = np.matrix([[2],[11]])"
   ]
  },
  {
   "cell_type": "code",
   "execution_count": 6,
   "metadata": {
    "collapsed": false
   },
   "outputs": [
    {
     "data": {
      "text/plain": [
       "((2, 2), (2, 1), (2, 1))"
      ]
     },
     "execution_count": 6,
     "metadata": {},
     "output_type": "execute_result"
    }
   ],
   "source": [
    "z.shape,m.shape,d.shape"
   ]
  },
  {
   "cell_type": "markdown",
   "metadata": {},
   "source": [
    "2.a)"
   ]
  },
  {
   "cell_type": "code",
   "execution_count": 7,
   "metadata": {
    "collapsed": false
   },
   "outputs": [
    {
     "name": "stdout",
     "output_type": "stream",
     "text": [
      "[[-0.04  0.12]\n",
      " [ 0.18 -0.04]]\n"
     ]
    }
   ],
   "source": [
    "print np.linalg.inv(z)"
   ]
  },
  {
   "cell_type": "markdown",
   "metadata": {},
   "source": [
    "2.b)"
   ]
  },
  {
   "cell_type": "code",
   "execution_count": 8,
   "metadata": {
    "collapsed": false
   },
   "outputs": [
    {
     "data": {
      "text/plain": [
       "(2, 2)"
      ]
     },
     "execution_count": 8,
     "metadata": {},
     "output_type": "execute_result"
    }
   ],
   "source": [
    "z_product = z.T * z\n",
    "z_product.shape"
   ]
  },
  {
   "cell_type": "code",
   "execution_count": 9,
   "metadata": {
    "collapsed": false
   },
   "outputs": [
    {
     "data": {
      "text/plain": [
       "matrix([[85, 30],\n",
       "        [30, 40]])"
      ]
     },
     "execution_count": 9,
     "metadata": {},
     "output_type": "execute_result"
    }
   ],
   "source": [
    "z_product"
   ]
  },
  {
   "cell_type": "markdown",
   "metadata": {},
   "source": [
    "2.c)"
   ]
  },
  {
   "cell_type": "code",
   "execution_count": 10,
   "metadata": {
    "collapsed": false
   },
   "outputs": [
    {
     "data": {
      "text/plain": [
       "matrix([[ True,  True]], dtype=bool)"
      ]
     },
     "execution_count": 10,
     "metadata": {},
     "output_type": "execute_result"
    }
   ],
   "source": [
    "m.T * z.T  == (z*m).T"
   ]
  },
  {
   "cell_type": "markdown",
   "metadata": {},
   "source": [
    "2.d)"
   ]
  },
  {
   "cell_type": "code",
   "execution_count": 11,
   "metadata": {
    "collapsed": false
   },
   "outputs": [
    {
     "data": {
      "text/plain": [
       "(matrix([[600]]), matrix([[600]]))"
      ]
     },
     "execution_count": 11,
     "metadata": {},
     "output_type": "execute_result"
    }
   ],
   "source": [
    "np.dot(np.dot(m.T, z),d), np.dot(np.dot(d.T,z.T),m)"
   ]
  },
  {
   "cell_type": "markdown",
   "metadata": {},
   "source": [
    "## The Ordinary Least Squares Model"
   ]
  },
  {
   "cell_type": "code",
   "execution_count": 12,
   "metadata": {
    "collapsed": false
   },
   "outputs": [],
   "source": [
    "mroz = pd.read_stata(\"http://rlhick.people.wm.edu/econ407/data/mroz.dta\")"
   ]
  },
  {
   "cell_type": "code",
   "execution_count": 13,
   "metadata": {
    "collapsed": false
   },
   "outputs": [
    {
     "data": {
      "text/html": [
       "<div>\n",
       "<table border=\"1\" class=\"dataframe\">\n",
       "  <thead>\n",
       "    <tr style=\"text-align: right;\">\n",
       "      <th></th>\n",
       "      <th>lfp</th>\n",
       "      <th>whrs</th>\n",
       "      <th>kl6</th>\n",
       "      <th>k618</th>\n",
       "      <th>wa</th>\n",
       "      <th>we</th>\n",
       "      <th>ww</th>\n",
       "      <th>rpwg</th>\n",
       "      <th>hhrs</th>\n",
       "      <th>ha</th>\n",
       "      <th>he</th>\n",
       "      <th>hw</th>\n",
       "      <th>faminc</th>\n",
       "      <th>mtr</th>\n",
       "      <th>wmed</th>\n",
       "      <th>wfed</th>\n",
       "      <th>un</th>\n",
       "      <th>cit</th>\n",
       "      <th>ax</th>\n",
       "    </tr>\n",
       "  </thead>\n",
       "  <tbody>\n",
       "    <tr>\n",
       "      <th>count</th>\n",
       "      <td>753.000000</td>\n",
       "      <td>753.000000</td>\n",
       "      <td>753.000000</td>\n",
       "      <td>753.000000</td>\n",
       "      <td>753.000000</td>\n",
       "      <td>753.000000</td>\n",
       "      <td>753.000000</td>\n",
       "      <td>753.000000</td>\n",
       "      <td>753.000000</td>\n",
       "      <td>753.000000</td>\n",
       "      <td>753.000000</td>\n",
       "      <td>753.000000</td>\n",
       "      <td>753.000000</td>\n",
       "      <td>753.000000</td>\n",
       "      <td>753.000000</td>\n",
       "      <td>753.000000</td>\n",
       "      <td>753.000000</td>\n",
       "      <td>753.000000</td>\n",
       "      <td>753.00000</td>\n",
       "    </tr>\n",
       "    <tr>\n",
       "      <th>mean</th>\n",
       "      <td>0.568393</td>\n",
       "      <td>740.576361</td>\n",
       "      <td>0.237716</td>\n",
       "      <td>1.353254</td>\n",
       "      <td>42.537849</td>\n",
       "      <td>12.286853</td>\n",
       "      <td>2.374565</td>\n",
       "      <td>1.849734</td>\n",
       "      <td>2267.270916</td>\n",
       "      <td>45.120850</td>\n",
       "      <td>12.491368</td>\n",
       "      <td>7.482180</td>\n",
       "      <td>23080.594954</td>\n",
       "      <td>0.678862</td>\n",
       "      <td>9.250996</td>\n",
       "      <td>8.808765</td>\n",
       "      <td>8.623506</td>\n",
       "      <td>0.642762</td>\n",
       "      <td>10.63081</td>\n",
       "    </tr>\n",
       "    <tr>\n",
       "      <th>std</th>\n",
       "      <td>0.495630</td>\n",
       "      <td>871.314216</td>\n",
       "      <td>0.523959</td>\n",
       "      <td>1.319874</td>\n",
       "      <td>8.072574</td>\n",
       "      <td>2.280246</td>\n",
       "      <td>3.241837</td>\n",
       "      <td>2.419891</td>\n",
       "      <td>595.566649</td>\n",
       "      <td>8.058793</td>\n",
       "      <td>3.020804</td>\n",
       "      <td>4.230559</td>\n",
       "      <td>12190.202026</td>\n",
       "      <td>0.083495</td>\n",
       "      <td>3.367468</td>\n",
       "      <td>3.572290</td>\n",
       "      <td>3.114935</td>\n",
       "      <td>0.479504</td>\n",
       "      <td>8.06913</td>\n",
       "    </tr>\n",
       "    <tr>\n",
       "      <th>min</th>\n",
       "      <td>0.000000</td>\n",
       "      <td>0.000000</td>\n",
       "      <td>0.000000</td>\n",
       "      <td>0.000000</td>\n",
       "      <td>30.000000</td>\n",
       "      <td>5.000000</td>\n",
       "      <td>0.000000</td>\n",
       "      <td>0.000000</td>\n",
       "      <td>175.000000</td>\n",
       "      <td>30.000000</td>\n",
       "      <td>3.000000</td>\n",
       "      <td>0.412100</td>\n",
       "      <td>1500.000000</td>\n",
       "      <td>0.441500</td>\n",
       "      <td>0.000000</td>\n",
       "      <td>0.000000</td>\n",
       "      <td>3.000000</td>\n",
       "      <td>0.000000</td>\n",
       "      <td>0.00000</td>\n",
       "    </tr>\n",
       "    <tr>\n",
       "      <th>25%</th>\n",
       "      <td>0.000000</td>\n",
       "      <td>0.000000</td>\n",
       "      <td>0.000000</td>\n",
       "      <td>0.000000</td>\n",
       "      <td>36.000000</td>\n",
       "      <td>12.000000</td>\n",
       "      <td>0.000000</td>\n",
       "      <td>0.000000</td>\n",
       "      <td>1928.000000</td>\n",
       "      <td>38.000000</td>\n",
       "      <td>11.000000</td>\n",
       "      <td>4.788300</td>\n",
       "      <td>15428.000000</td>\n",
       "      <td>0.621500</td>\n",
       "      <td>7.000000</td>\n",
       "      <td>7.000000</td>\n",
       "      <td>7.500000</td>\n",
       "      <td>0.000000</td>\n",
       "      <td>4.00000</td>\n",
       "    </tr>\n",
       "    <tr>\n",
       "      <th>50%</th>\n",
       "      <td>1.000000</td>\n",
       "      <td>288.000000</td>\n",
       "      <td>0.000000</td>\n",
       "      <td>1.000000</td>\n",
       "      <td>43.000000</td>\n",
       "      <td>12.000000</td>\n",
       "      <td>1.625000</td>\n",
       "      <td>0.000000</td>\n",
       "      <td>2164.000000</td>\n",
       "      <td>46.000000</td>\n",
       "      <td>12.000000</td>\n",
       "      <td>6.975800</td>\n",
       "      <td>20880.000000</td>\n",
       "      <td>0.691500</td>\n",
       "      <td>10.000000</td>\n",
       "      <td>7.000000</td>\n",
       "      <td>7.500000</td>\n",
       "      <td>1.000000</td>\n",
       "      <td>9.00000</td>\n",
       "    </tr>\n",
       "    <tr>\n",
       "      <th>75%</th>\n",
       "      <td>1.000000</td>\n",
       "      <td>1516.000000</td>\n",
       "      <td>0.000000</td>\n",
       "      <td>2.000000</td>\n",
       "      <td>49.000000</td>\n",
       "      <td>13.000000</td>\n",
       "      <td>3.787900</td>\n",
       "      <td>3.580000</td>\n",
       "      <td>2553.000000</td>\n",
       "      <td>52.000000</td>\n",
       "      <td>15.000000</td>\n",
       "      <td>9.166700</td>\n",
       "      <td>28200.000000</td>\n",
       "      <td>0.721500</td>\n",
       "      <td>12.000000</td>\n",
       "      <td>12.000000</td>\n",
       "      <td>11.000000</td>\n",
       "      <td>1.000000</td>\n",
       "      <td>15.00000</td>\n",
       "    </tr>\n",
       "    <tr>\n",
       "      <th>max</th>\n",
       "      <td>1.000000</td>\n",
       "      <td>4950.000000</td>\n",
       "      <td>3.000000</td>\n",
       "      <td>8.000000</td>\n",
       "      <td>60.000000</td>\n",
       "      <td>17.000000</td>\n",
       "      <td>25.000000</td>\n",
       "      <td>9.980000</td>\n",
       "      <td>5010.000000</td>\n",
       "      <td>60.000000</td>\n",
       "      <td>17.000000</td>\n",
       "      <td>40.508999</td>\n",
       "      <td>96000.000000</td>\n",
       "      <td>0.941500</td>\n",
       "      <td>17.000000</td>\n",
       "      <td>17.000000</td>\n",
       "      <td>14.000000</td>\n",
       "      <td>1.000000</td>\n",
       "      <td>45.00000</td>\n",
       "    </tr>\n",
       "  </tbody>\n",
       "</table>\n",
       "</div>"
      ],
      "text/plain": [
       "              lfp         whrs         kl6        k618          wa  \\\n",
       "count  753.000000   753.000000  753.000000  753.000000  753.000000   \n",
       "mean     0.568393   740.576361    0.237716    1.353254   42.537849   \n",
       "std      0.495630   871.314216    0.523959    1.319874    8.072574   \n",
       "min      0.000000     0.000000    0.000000    0.000000   30.000000   \n",
       "25%      0.000000     0.000000    0.000000    0.000000   36.000000   \n",
       "50%      1.000000   288.000000    0.000000    1.000000   43.000000   \n",
       "75%      1.000000  1516.000000    0.000000    2.000000   49.000000   \n",
       "max      1.000000  4950.000000    3.000000    8.000000   60.000000   \n",
       "\n",
       "               we          ww        rpwg         hhrs          ha  \\\n",
       "count  753.000000  753.000000  753.000000   753.000000  753.000000   \n",
       "mean    12.286853    2.374565    1.849734  2267.270916   45.120850   \n",
       "std      2.280246    3.241837    2.419891   595.566649    8.058793   \n",
       "min      5.000000    0.000000    0.000000   175.000000   30.000000   \n",
       "25%     12.000000    0.000000    0.000000  1928.000000   38.000000   \n",
       "50%     12.000000    1.625000    0.000000  2164.000000   46.000000   \n",
       "75%     13.000000    3.787900    3.580000  2553.000000   52.000000   \n",
       "max     17.000000   25.000000    9.980000  5010.000000   60.000000   \n",
       "\n",
       "               he          hw        faminc         mtr        wmed  \\\n",
       "count  753.000000  753.000000    753.000000  753.000000  753.000000   \n",
       "mean    12.491368    7.482180  23080.594954    0.678862    9.250996   \n",
       "std      3.020804    4.230559  12190.202026    0.083495    3.367468   \n",
       "min      3.000000    0.412100   1500.000000    0.441500    0.000000   \n",
       "25%     11.000000    4.788300  15428.000000    0.621500    7.000000   \n",
       "50%     12.000000    6.975800  20880.000000    0.691500   10.000000   \n",
       "75%     15.000000    9.166700  28200.000000    0.721500   12.000000   \n",
       "max     17.000000   40.508999  96000.000000    0.941500   17.000000   \n",
       "\n",
       "             wfed          un         cit         ax  \n",
       "count  753.000000  753.000000  753.000000  753.00000  \n",
       "mean     8.808765    8.623506    0.642762   10.63081  \n",
       "std      3.572290    3.114935    0.479504    8.06913  \n",
       "min      0.000000    3.000000    0.000000    0.00000  \n",
       "25%      7.000000    7.500000    0.000000    4.00000  \n",
       "50%      7.000000    7.500000    1.000000    9.00000  \n",
       "75%     12.000000   11.000000    1.000000   15.00000  \n",
       "max     17.000000   14.000000    1.000000   45.00000  "
      ]
     },
     "execution_count": 13,
     "metadata": {},
     "output_type": "execute_result"
    }
   ],
   "source": [
    "mroz.describe()"
   ]
  },
  {
   "cell_type": "code",
   "execution_count": 14,
   "metadata": {
    "collapsed": false
   },
   "outputs": [
    {
     "data": {
      "image/png": "[encoded data removed]",
      "text/plain": [
       "<matplotlib.figure.Figure at 0x11c738850>"
      ]
     },
     "metadata": {},
     "output_type": "display_data"
    }
   ],
   "source": [
    "mroz[['lfp', 'whrs', 'kl6', 'k618']].hist();"
   ]
  },
  {
   "cell_type": "code",
   "execution_count": 15,
   "metadata": {
    "collapsed": false
   },
   "outputs": [
    {
     "data": {
      "image/png": "[encoded data removed]",
      "text/plain": [
       "<matplotlib.figure.Figure at 0x11d104310>"
      ]
     },
     "metadata": {},
     "output_type": "display_data"
    }
   ],
   "source": [
    "mroz[mroz.columns.values[4:8]].hist();"
   ]
  },
  {
   "cell_type": "code",
   "execution_count": 16,
   "metadata": {
    "collapsed": false
   },
   "outputs": [
    {
     "data": {
      "image/png": "[encoded data removed]",
      "text/plain": [
       "<matplotlib.figure.Figure at 0x11d7b8750>"
      ]
     },
     "metadata": {},
     "output_type": "display_data"
    }
   ],
   "source": [
    "mroz[mroz.columns.values[9:13]].hist();"
   ]
  },
  {
   "cell_type": "code",
   "execution_count": 17,
   "metadata": {
    "collapsed": false
   },
   "outputs": [
    {
     "data": {
      "image/png": "[encoded data removed]",
      "text/plain": [
       "<matplotlib.figure.Figure at 0x11e16c4d0>"
      ]
     },
     "metadata": {},
     "output_type": "display_data"
    }
   ],
   "source": [
    "mroz[mroz.columns.values[14:19]].hist();"
   ]
  },
  {
   "cell_type": "code",
   "execution_count": 18,
   "metadata": {
    "collapsed": false
   },
   "outputs": [],
   "source": [
    "workers_only = mroz[mroz.lfp == 1]\n",
    "x = workers_only[['kl6', 'k618', 'wa', 'we', 'ww', 'he', 'hw', 'ax']]\n",
    "y = workers_only['whrs']"
   ]
  },
  {
   "cell_type": "markdown",
   "metadata": {},
   "source": [
    "In the sample, there were 328 wives who did not work at all."
   ]
  },
  {
   "cell_type": "code",
   "execution_count": 19,
   "metadata": {
    "collapsed": false
   },
   "outputs": [
    {
     "data": {
      "text/plain": [
       "((753, 19), (428, 19))"
      ]
     },
     "execution_count": 19,
     "metadata": {},
     "output_type": "execute_result"
    }
   ],
   "source": [
    "mroz.shape, workers_only.shape"
   ]
  },
  {
   "cell_type": "markdown",
   "metadata": {},
   "source": [
    "Lets examine some interesting variables:\n",
    "\n",
    "We'll start with the number of kids under 6, the number of kids between 6 and 18 and their relationship to working hours. I expect that as the number of kids increases, the number of hours worked will decrease."
   ]
  },
  {
   "cell_type": "code",
   "execution_count": 20,
   "metadata": {
    "collapsed": false
   },
   "outputs": [
    {
     "data": {
      "image/png": "[encoded data removed]",
      "text/plain": [
       "<matplotlib.figure.Figure at 0x11ec5bf90>"
      ]
     },
     "metadata": {},
     "output_type": "display_data"
    },
    {
     "data": {
      "image/png": "[encoded data removed]",
      "text/plain": [
       "<matplotlib.figure.Figure at 0x11ec24650>"
      ]
     },
     "metadata": {},
     "output_type": "display_data"
    }
   ],
   "source": [
    "workers_only.plot(x = 'kl6', y = 'whrs', kind = 'scatter');workers_only.plot(x = 'k618', y = 'whrs', kind = 'scatter');"
   ]
  },
  {
   "cell_type": "markdown",
   "metadata": {},
   "source": [
    "As you can see, there is a definite negative trend in the number of kids in a family and the number of hours a woman worked. This is probably because a woman was expected to be the caretaker of the kids. \n",
    "\n",
    "The other variables I have included the wife's age, educational attainment, average hourly earnings, husbands education, husband's wage and years of experience that the wife has. I expect that the wife's age, husbands education and wage to have a negative effect on the number of hours worked. The rationale being that as age increases, the wife is able to work less, and as husband's wage increases, there is less need to work for the wife. As for the wife's educational attainment, hourly earnings, and years of experience, I think that those will positively influence the number of hours worked. If someone earns more per hour, they are likely to work more (to a certain extent). More years of experience indicates establishment in the workforce, so on average they probably work more than someone who does not have as much experience.\n",
    "\n",
    "Lets see how the regression goes"
   ]
  },
  {
   "cell_type": "code",
   "execution_count": 21,
   "metadata": {
    "collapsed": false
   },
   "outputs": [
    {
     "data": {
      "text/html": [
       "<table class=\"simpletable\">\n",
       "<caption>OLS Regression Results</caption>\n",
       "<tr>\n",
       "  <th>Dep. Variable:</th>          <td>whrs</td>       <th>  R-squared:         </th> <td>   0.149</td>\n",
       "</tr>\n",
       "<tr>\n",
       "  <th>Model:</th>                   <td>OLS</td>       <th>  Adj. R-squared:    </th> <td>   0.133</td>\n",
       "</tr>\n",
       "<tr>\n",
       "  <th>Method:</th>             <td>Least Squares</td>  <th>  F-statistic:       </th> <td>   9.171</td>\n",
       "</tr>\n",
       "<tr>\n",
       "  <th>Date:</th>             <td>Tue, 20 Sep 2016</td> <th>  Prob (F-statistic):</th> <td>1.18e-11</td>\n",
       "</tr>\n",
       "<tr>\n",
       "  <th>Time:</th>                 <td>00:10:39</td>     <th>  Log-Likelihood:    </th> <td> -3420.4</td>\n",
       "</tr>\n",
       "<tr>\n",
       "  <th>No. Observations:</th>      <td>   428</td>      <th>  AIC:               </th> <td>   6859.</td>\n",
       "</tr>\n",
       "<tr>\n",
       "  <th>Df Residuals:</th>          <td>   419</td>      <th>  BIC:               </th> <td>   6895.</td>\n",
       "</tr>\n",
       "<tr>\n",
       "  <th>Df Model:</th>              <td>     8</td>      <th>                     </th>     <td> </td>   \n",
       "</tr>\n",
       "<tr>\n",
       "  <th>Covariance Type:</th>      <td>nonrobust</td>    <th>                     </th>     <td> </td>   \n",
       "</tr>\n",
       "</table>\n",
       "<table class=\"simpletable\">\n",
       "<tr>\n",
       "    <td></td>       <th>coef</th>     <th>std err</th>      <th>t</th>      <th>P>|t|</th> <th>[95.0% Conf. Int.]</th> \n",
       "</tr>\n",
       "<tr>\n",
       "  <th>const</th> <td> 2138.9036</td> <td>  329.091</td> <td>    6.499</td> <td> 0.000</td> <td> 1492.028  2785.779</td>\n",
       "</tr>\n",
       "<tr>\n",
       "  <th>kl6</th>   <td> -315.9507</td> <td>   95.772</td> <td>   -3.299</td> <td> 0.001</td> <td> -504.205  -127.696</td>\n",
       "</tr>\n",
       "<tr>\n",
       "  <th>k618</th>  <td>  -75.5532</td> <td>   30.145</td> <td>   -2.506</td> <td> 0.013</td> <td> -134.808   -16.298</td>\n",
       "</tr>\n",
       "<tr>\n",
       "  <th>wa</th>    <td>  -20.0659</td> <td>    5.704</td> <td>   -3.518</td> <td> 0.000</td> <td>  -31.278    -8.854</td>\n",
       "</tr>\n",
       "<tr>\n",
       "  <th>we</th>    <td>    0.7035</td> <td>   20.187</td> <td>    0.035</td> <td> 0.972</td> <td>  -38.978    40.385</td>\n",
       "</tr>\n",
       "<tr>\n",
       "  <th>ww</th>    <td>  -24.1790</td> <td>   11.416</td> <td>   -2.118</td> <td> 0.035</td> <td>  -46.619    -1.738</td>\n",
       "</tr>\n",
       "<tr>\n",
       "  <th>he</th>    <td>   -8.5808</td> <td>   15.057</td> <td>   -0.570</td> <td> 0.569</td> <td>  -38.178    21.016</td>\n",
       "</tr>\n",
       "<tr>\n",
       "  <th>hw</th>    <td>   -6.1519</td> <td>   11.112</td> <td>   -0.554</td> <td> 0.580</td> <td>  -27.994    15.690</td>\n",
       "</tr>\n",
       "<tr>\n",
       "  <th>ax</th>    <td>   30.4771</td> <td>    5.219</td> <td>    5.840</td> <td> 0.000</td> <td>   20.219    40.735</td>\n",
       "</tr>\n",
       "</table>\n",
       "<table class=\"simpletable\">\n",
       "<tr>\n",
       "  <th>Omnibus:</th>       <td>26.262</td> <th>  Durbin-Watson:     </th> <td>   2.026</td>\n",
       "</tr>\n",
       "<tr>\n",
       "  <th>Prob(Omnibus):</th> <td> 0.000</td> <th>  Jarque-Bera (JB):  </th> <td>  39.094</td>\n",
       "</tr>\n",
       "<tr>\n",
       "  <th>Skew:</th>          <td> 0.457</td> <th>  Prob(JB):          </th> <td>3.24e-09</td>\n",
       "</tr>\n",
       "<tr>\n",
       "  <th>Kurtosis:</th>      <td> 4.165</td> <th>  Cond. No.          </th> <td>    462.</td>\n",
       "</tr>\n",
       "</table>"
      ],
      "text/plain": [
       "<class 'statsmodels.iolib.summary.Summary'>\n",
       "\"\"\"\n",
       "                            OLS Regression Results                            \n",
       "==============================================================================\n",
       "Dep. Variable:                   whrs   R-squared:                       0.149\n",
       "Model:                            OLS   Adj. R-squared:                  0.133\n",
       "Method:                 Least Squares   F-statistic:                     9.171\n",
       "Date:                Tue, 20 Sep 2016   Prob (F-statistic):           1.18e-11\n",
       "Time:                        00:10:39   Log-Likelihood:                -3420.4\n",
       "No. Observations:                 428   AIC:                             6859.\n",
       "Df Residuals:                     419   BIC:                             6895.\n",
       "Df Model:                           8                                         \n",
       "Covariance Type:            nonrobust                                         \n",
       "==============================================================================\n",
       "                 coef    std err          t      P>|t|      [95.0% Conf. Int.]\n",
       "------------------------------------------------------------------------------\n",
       "const       2138.9036    329.091      6.499      0.000      1492.028  2785.779\n",
       "kl6         -315.9507     95.772     -3.299      0.001      -504.205  -127.696\n",
       "k618         -75.5532     30.145     -2.506      0.013      -134.808   -16.298\n",
       "wa           -20.0659      5.704     -3.518      0.000       -31.278    -8.854\n",
       "we             0.7035     20.187      0.035      0.972       -38.978    40.385\n",
       "ww           -24.1790     11.416     -2.118      0.035       -46.619    -1.738\n",
       "he            -8.5808     15.057     -0.570      0.569       -38.178    21.016\n",
       "hw            -6.1519     11.112     -0.554      0.580       -27.994    15.690\n",
       "ax            30.4771      5.219      5.840      0.000        20.219    40.735\n",
       "==============================================================================\n",
       "Omnibus:                       26.262   Durbin-Watson:                   2.026\n",
       "Prob(Omnibus):                  0.000   Jarque-Bera (JB):               39.094\n",
       "Skew:                           0.457   Prob(JB):                     3.24e-09\n",
       "Kurtosis:                       4.165   Cond. No.                         462.\n",
       "==============================================================================\n",
       "\n",
       "Warnings:\n",
       "[1] Standard Errors assume that the covariance matrix of the errors is correctly specified.\n",
       "\"\"\""
      ]
     },
     "execution_count": 21,
     "metadata": {},
     "output_type": "execute_result"
    }
   ],
   "source": [
    "x_const = sm.add_constant(x)\n",
    "\n",
    "results = sm.OLS(y, x_const).fit()\n",
    "results.summary()"
   ]
  },
  {
   "cell_type": "markdown",
   "metadata": {},
   "source": [
    "The robust results"
   ]
  },
  {
   "cell_type": "code",
   "execution_count": 22,
   "metadata": {
    "collapsed": false
   },
   "outputs": [
    {
     "data": {
      "text/html": [
       "<table class=\"simpletable\">\n",
       "<caption>OLS Regression Results</caption>\n",
       "<tr>\n",
       "  <th>Dep. Variable:</th>          <td>whrs</td>       <th>  R-squared:         </th> <td>   0.149</td>\n",
       "</tr>\n",
       "<tr>\n",
       "  <th>Model:</th>                   <td>OLS</td>       <th>  Adj. R-squared:    </th> <td>   0.133</td>\n",
       "</tr>\n",
       "<tr>\n",
       "  <th>Method:</th>             <td>Least Squares</td>  <th>  F-statistic:       </th> <td>   9.969</td>\n",
       "</tr>\n",
       "<tr>\n",
       "  <th>Date:</th>             <td>Tue, 20 Sep 2016</td> <th>  Prob (F-statistic):</th> <td>9.75e-13</td>\n",
       "</tr>\n",
       "<tr>\n",
       "  <th>Time:</th>                 <td>00:10:39</td>     <th>  Log-Likelihood:    </th> <td> -3420.4</td>\n",
       "</tr>\n",
       "<tr>\n",
       "  <th>No. Observations:</th>      <td>   428</td>      <th>  AIC:               </th> <td>   6859.</td>\n",
       "</tr>\n",
       "<tr>\n",
       "  <th>Df Residuals:</th>          <td>   419</td>      <th>  BIC:               </th> <td>   6895.</td>\n",
       "</tr>\n",
       "<tr>\n",
       "  <th>Df Model:</th>              <td>     8</td>      <th>                     </th>     <td> </td>   \n",
       "</tr>\n",
       "<tr>\n",
       "  <th>Covariance Type:</th>         <td>HC1</td>       <th>                     </th>     <td> </td>   \n",
       "</tr>\n",
       "</table>\n",
       "<table class=\"simpletable\">\n",
       "<tr>\n",
       "    <td></td>       <th>coef</th>     <th>std err</th>      <th>t</th>      <th>P>|t|</th> <th>[95.0% Conf. Int.]</th> \n",
       "</tr>\n",
       "<tr>\n",
       "  <th>const</th> <td> 2138.9036</td> <td>  336.539</td> <td>    6.356</td> <td> 0.000</td> <td> 1477.387  2800.420</td>\n",
       "</tr>\n",
       "<tr>\n",
       "  <th>kl6</th>   <td> -315.9507</td> <td>  124.818</td> <td>   -2.531</td> <td> 0.012</td> <td> -561.298   -70.603</td>\n",
       "</tr>\n",
       "<tr>\n",
       "  <th>k618</th>  <td>  -75.5532</td> <td>   31.065</td> <td>   -2.432</td> <td> 0.015</td> <td> -136.616   -14.491</td>\n",
       "</tr>\n",
       "<tr>\n",
       "  <th>wa</th>    <td>  -20.0659</td> <td>    5.752</td> <td>   -3.488</td> <td> 0.001</td> <td>  -31.373    -8.759</td>\n",
       "</tr>\n",
       "<tr>\n",
       "  <th>we</th>    <td>    0.7035</td> <td>   20.838</td> <td>    0.034</td> <td> 0.973</td> <td>  -40.257    41.664</td>\n",
       "</tr>\n",
       "<tr>\n",
       "  <th>ww</th>    <td>  -24.1790</td> <td>   10.078</td> <td>   -2.399</td> <td> 0.017</td> <td>  -43.988    -4.370</td>\n",
       "</tr>\n",
       "<tr>\n",
       "  <th>he</th>    <td>   -8.5808</td> <td>   16.270</td> <td>   -0.527</td> <td> 0.598</td> <td>  -40.562    23.400</td>\n",
       "</tr>\n",
       "<tr>\n",
       "  <th>hw</th>    <td>   -6.1519</td> <td>   10.577</td> <td>   -0.582</td> <td> 0.561</td> <td>  -26.943    14.639</td>\n",
       "</tr>\n",
       "<tr>\n",
       "  <th>ax</th>    <td>   30.4771</td> <td>    5.378</td> <td>    5.667</td> <td> 0.000</td> <td>   19.906    41.048</td>\n",
       "</tr>\n",
       "</table>\n",
       "<table class=\"simpletable\">\n",
       "<tr>\n",
       "  <th>Omnibus:</th>       <td>26.262</td> <th>  Durbin-Watson:     </th> <td>   2.026</td>\n",
       "</tr>\n",
       "<tr>\n",
       "  <th>Prob(Omnibus):</th> <td> 0.000</td> <th>  Jarque-Bera (JB):  </th> <td>  39.094</td>\n",
       "</tr>\n",
       "<tr>\n",
       "  <th>Skew:</th>          <td> 0.457</td> <th>  Prob(JB):          </th> <td>3.24e-09</td>\n",
       "</tr>\n",
       "<tr>\n",
       "  <th>Kurtosis:</th>      <td> 4.165</td> <th>  Cond. No.          </th> <td>    462.</td>\n",
       "</tr>\n",
       "</table>"
      ],
      "text/plain": [
       "<class 'statsmodels.iolib.summary.Summary'>\n",
       "\"\"\"\n",
       "                            OLS Regression Results                            \n",
       "==============================================================================\n",
       "Dep. Variable:                   whrs   R-squared:                       0.149\n",
       "Model:                            OLS   Adj. R-squared:                  0.133\n",
       "Method:                 Least Squares   F-statistic:                     9.969\n",
       "Date:                Tue, 20 Sep 2016   Prob (F-statistic):           9.75e-13\n",
       "Time:                        00:10:39   Log-Likelihood:                -3420.4\n",
       "No. Observations:                 428   AIC:                             6859.\n",
       "Df Residuals:                     419   BIC:                             6895.\n",
       "Df Model:                           8                                         \n",
       "Covariance Type:                  HC1                                         \n",
       "==============================================================================\n",
       "                 coef    std err          t      P>|t|      [95.0% Conf. Int.]\n",
       "------------------------------------------------------------------------------\n",
       "const       2138.9036    336.539      6.356      0.000      1477.387  2800.420\n",
       "kl6         -315.9507    124.818     -2.531      0.012      -561.298   -70.603\n",
       "k618         -75.5532     31.065     -2.432      0.015      -136.616   -14.491\n",
       "wa           -20.0659      5.752     -3.488      0.001       -31.373    -8.759\n",
       "we             0.7035     20.838      0.034      0.973       -40.257    41.664\n",
       "ww           -24.1790     10.078     -2.399      0.017       -43.988    -4.370\n",
       "he            -8.5808     16.270     -0.527      0.598       -40.562    23.400\n",
       "hw            -6.1519     10.577     -0.582      0.561       -26.943    14.639\n",
       "ax            30.4771      5.378      5.667      0.000        19.906    41.048\n",
       "==============================================================================\n",
       "Omnibus:                       26.262   Durbin-Watson:                   2.026\n",
       "Prob(Omnibus):                  0.000   Jarque-Bera (JB):               39.094\n",
       "Skew:                           0.457   Prob(JB):                     3.24e-09\n",
       "Kurtosis:                       4.165   Cond. No.                         462.\n",
       "==============================================================================\n",
       "\n",
       "Warnings:\n",
       "[1] Standard Errors are heteroscedasticity robust (HC1)\n",
       "\"\"\""
      ]
     },
     "execution_count": 22,
     "metadata": {},
     "output_type": "execute_result"
    }
   ],
   "source": [
    "robust_results = results.get_robustcov_results();\n",
    "\n",
    "robust_results.summary()"
   ]
  },
  {
   "cell_type": "markdown",
   "metadata": {},
   "source": [
    "Okay, so I was right about the variables that I predicted to have a negative coefficient (wa, he, hw, kl6, k618) and wrong about a wife's wage being positively correlated. The robust R2 is pretty abysmal at 0.149. Lets go through the coefficients and their meanings:\n",
    "\n",
    "    -kl6: On average, every new kid less that 6 years old decreases a wife's working hours by about 316 hours(!!)\n",
    "    -k618: Every child between 6 and 18 years old decreases working hours by 75 hours\n",
    "    -wa: For every year older that a woman is, she works on average 20 less hours\n",
    "    -we: For every year of education, a woman only works .7 more hours per a year.\n",
    "    -ww: For every extra dollar that a woman earns, she works 24 less hours. I think that this is interesting, maybe because only a finite amount of money was needed, so only so much work had to be done.\n",
    "    -he: AS SUSPECTED, the amount of education and wage that the husband makes both correspond to 8.5 and 6 less hours of work, respectively.\n",
    "    -ax: Every year in the work force corresponds to an average of 30 more hours of work.\n",
    "\n",
    "\n",
    "Now, lets check out the residual plots now to see if there is any structure in them"
   ]
  },
  {
   "cell_type": "code",
   "execution_count": 23,
   "metadata": {
    "collapsed": false
   },
   "outputs": [
    {
     "data": {
      "image/png": "[encoded data removed]",
      "text/plain": [
       "<matplotlib.figure.Figure at 0x11eb85750>"
      ]
     },
     "metadata": {},
     "output_type": "display_data"
    }
   ],
   "source": [
    "sns.regplot(robust_results.predict(x_const),robust_results.resid); #predicted values versus residuals"
   ]
  },
  {
   "cell_type": "markdown",
   "metadata": {},
   "source": [
    "The errors are pretty normally distributed, so that's good. Tails are a little fat though."
   ]
  },
  {
   "cell_type": "code",
   "execution_count": 24,
   "metadata": {
    "collapsed": false
   },
   "outputs": [
    {
     "data": {
      "image/png": "[encoded data removed]",
      "text/plain": [
       "<matplotlib.figure.Figure at 0x11e569a10>"
      ]
     },
     "metadata": {},
     "output_type": "display_data"
    }
   ],
   "source": [
    "sns.distplot(robust_results.resid);"
   ]
  },
  {
   "cell_type": "markdown",
   "metadata": {},
   "source": [
    "Part C)\n",
    "\n",
    "estimate b, using matrix algebra stuff"
   ]
  },
  {
   "cell_type": "code",
   "execution_count": 25,
   "metadata": {
    "collapsed": false
   },
   "outputs": [
    {
     "name": "stdout",
     "output_type": "stream",
     "text": [
      "[[  2.13890186e+03]\n",
      " [ -3.15950989e+02]\n",
      " [ -7.55534286e+01]\n",
      " [ -2.00659866e+01]\n",
      " [  7.03317642e-01]\n",
      " [ -2.41790237e+01]\n",
      " [ -8.58093739e+00]\n",
      " [ -6.15144396e+00]\n",
      " [  3.04771080e+01]]\n"
     ]
    }
   ],
   "source": [
    "x_mat = np.matrix(x_const)\n",
    "y_mat = np.matrix(y)\n",
    "y_mat = np.reshape(y_mat, (428,1))\n",
    "\n",
    "b = np.linalg.inv(x_mat.T*x_mat)*x_mat.T*y_mat\n",
    "print b"
   ]
  },
  {
   "cell_type": "markdown",
   "metadata": {},
   "source": [
    "It all checks out. Linear algebra isn't broken."
   ]
  },
  {
   "cell_type": "markdown",
   "metadata": {},
   "source": [
    "get model residuals to get rmse, standard error and t-statistics"
   ]
  },
  {
   "cell_type": "code",
   "execution_count": 26,
   "metadata": {
    "collapsed": false
   },
   "outputs": [],
   "source": [
    "\n",
    "y_hat = x_mat*b\n",
    "resids = y_mat - x_mat*b\n",
    "\n",
    "mse = np.sum(np.square(resids))/resids.shape[0]\n",
    "rmse = mse**0.5\n",
    "\n",
    "s2 = (resids.T * resids) / (x_mat.shape[0] - x_mat.shape[1])\n",
    "s2 = np.array(s2)[0][0]\n",
    "std_error_b = np.sqrt(np.diagonal(s2*np.linalg.inv(x_mat.T*x_mat)))\n",
    "\n",
    "t_stats = [np.asarray(b[i])/std_error_b[i] for i in xrange(b.shape[0])]\n"
   ]
  },
  {
   "cell_type": "code",
   "execution_count": 27,
   "metadata": {
    "collapsed": false
   },
   "outputs": [
    {
     "name": "stdout",
     "output_type": "stream",
     "text": [
      "root mean squared error:  715.267076451\n",
      "\n",
      "standard error of betas:  [ 329.09130859   95.77241516   30.14530945    5.70416546   20.18745422\n",
      "   11.41637135   15.05718422   11.11190033    5.21877289]\n",
      "\n",
      "  t-statistics of betas:  [array([[ 6.49941778]], dtype=float32), array([[-3.2989769]], dtype=float32), array([[-2.50630784]], dtype=float32), array([[-3.51777792]], dtype=float32), array([[ 0.03483934]], dtype=float32), array([[-2.11792541]], dtype=float32), array([[-0.5698899]], dtype=float32), array([[-0.55359066]], dtype=float32), array([[ 5.83989906]], dtype=float32)]\n"
     ]
    }
   ],
   "source": [
    "print \"root mean squared error: \", rmse\n",
    "print\n",
    "print \"standard error of betas: \", std_error_b\n",
    "print\n",
    "print \"  t-statistics of betas: \", t_stats"
   ]
  },
  {
   "cell_type": "markdown",
   "metadata": {},
   "source": [
    "part 2)\n",
    "\n",
    "Calculate model R2 and interpret"
   ]
  },
  {
   "cell_type": "code",
   "execution_count": 28,
   "metadata": {
    "collapsed": false
   },
   "outputs": [
    {
     "name": "stdout",
     "output_type": "stream",
     "text": [
      "R2:  0.149015102084\n"
     ]
    }
   ],
   "source": [
    "sse = np.sum(np.square(resids))\n",
    "sst = np.sum(np.square(y - np.mean(y)))\n",
    "\n",
    "r2 = 1 - sse/sst\n",
    "print \"R2: \", r2"
   ]
  },
  {
   "cell_type": "markdown",
   "metadata": {},
   "source": [
    "About 15 % of the variation in y is accounted for by the independent variables"
   ]
  },
  {
   "cell_type": "markdown",
   "metadata": {},
   "source": [
    "part 3)\n",
    "\n",
    "Calculate the robust standard errors"
   ]
  },
  {
   "cell_type": "code",
   "execution_count": 29,
   "metadata": {
    "collapsed": false
   },
   "outputs": [],
   "source": [
    "#1. recover model residuals and predictions\n",
    "pred = x_mat*b #resids already defined\n"
   ]
  },
  {
   "cell_type": "code",
   "execution_count": 30,
   "metadata": {
    "collapsed": false
   },
   "outputs": [],
   "source": [
    "#2.\n",
    "r = np.diagonal(resids*resids.T) / mse #best estimate for variance of e_i / average of sum of squared "
   ]
  },
  {
   "cell_type": "code",
   "execution_count": 31,
   "metadata": {
    "collapsed": false
   },
   "outputs": [
    {
     "data": {
      "text/plain": [
       "(428,)"
      ]
     },
     "execution_count": 31,
     "metadata": {},
     "output_type": "execute_result"
    }
   ],
   "source": [
    "r.shape"
   ]
  },
  {
   "cell_type": "code",
   "execution_count": 32,
   "metadata": {
    "collapsed": false
   },
   "outputs": [
    {
     "name": "stdout",
     "output_type": "stream",
     "text": [
      "These are the robust standard errors:  [ 332.98275757  123.49861145   30.73651505    5.6914854    20.61815071\n",
      "    9.9711895    16.09802628   10.46558762    5.3210268 ]\n"
     ]
    }
   ],
   "source": [
    "e2 = np.square(resids)\n",
    "v = np.diagflat(e2)\n",
    "v = np.matrix(v)\n",
    "robust_err = np.linalg.inv(x_mat.T * x_mat) * x_mat.T * v * x_mat * np.linalg.inv(x_mat.T*x_mat)\n",
    "print \"These are the robust standard errors: \", np.sqrt(np.diagonal(robust_err))"
   ]
  },
  {
   "cell_type": "markdown",
   "metadata": {},
   "source": [
    "Part D)\n",
    "\n",
    "first, the canned breush-pagan test"
   ]
  },
  {
   "cell_type": "code",
   "execution_count": 33,
   "metadata": {
    "collapsed": false
   },
   "outputs": [
    {
     "name": "stdout",
     "output_type": "stream",
     "text": [
      "The f-statistic of the null hypothesis that the error variance \n",
      "does not depend on x:  2.12533195588\n",
      "The p-value for the f-statistic:  0.0324224837531\n",
      "\n",
      "Conclusion: the error variance more than likely depends on x\n"
     ]
    }
   ],
   "source": [
    "het_test = sm.stats.diagnostic.het_breushpagan(results.resid, x_const)\n",
    "print \"The f-statistic of the null hypothesis that the error variance \\ndoes not depend on x: \", het_test[2]\n",
    "print \"The p-value for the f-statistic: \", het_test[3]\n",
    "print \"\\nConclusion: the error variance more than likely depends on x\""
   ]
  },
  {
   "cell_type": "markdown",
   "metadata": {},
   "source": [
    "Now, we do it ***~manually~***\n",
    "\n",
    "here are the steps:\n",
    "    1. Recover model residuals e = y - xb\n",
    "    2. Calculate each observations estimate of the error variance\n",
    "        - s = diagonal(ee') / mse\n",
    "    3. Run the following auxiliary regression: r = g0 + g1*y_hat + v and then recover the model sum of squares\n",
    "    4. Using MSS / 2, run the hypothesis test:\n",
    "        - H_0: variance_i = variance for all i in N\n",
    "        - H_1: vaiance_i != variance for i in N\n",
    "\n",
    "step 1 is already down because I saved that variable as resids way up top."
   ]
  },
  {
   "cell_type": "code",
   "execution_count": 34,
   "metadata": {
    "collapsed": false
   },
   "outputs": [],
   "source": [
    "#1. get predictions\n",
    "pred = x_mat*b #resids already defined\n",
    "#2\n",
    "r = np.diagonal(resids*resids.T)/ mse"
   ]
  },
  {
   "cell_type": "code",
   "execution_count": 35,
   "metadata": {
    "collapsed": true
   },
   "outputs": [],
   "source": [
    "#3. run regression r = g0 + g1*y_hat + u and recover model sum of squares\n",
    "y_hat_const = sm.add_constant(y_hat)\n",
    "het_results = sm.OLS(r, y_hat_const).fit()\n",
    "r_hat = het_results.predict(y_hat_const) #predictions\n",
    "weird = r_hat - np.mean(r_hat) #idk\n",
    "weird = np.reshape(weird, (428,1))\n",
    "weird = np.matrix(weird)\n",
    "mss = weird.T * weird"
   ]
  },
  {
   "cell_type": "code",
   "execution_count": 36,
   "metadata": {
    "collapsed": false
   },
   "outputs": [
    {
     "data": {
      "text/plain": [
       "matrix([[ 1.32276718]])"
      ]
     },
     "execution_count": 36,
     "metadata": {},
     "output_type": "execute_result"
    }
   ],
   "source": [
    "mss / 2"
   ]
  },
  {
   "cell_type": "markdown",
   "metadata": {},
   "source": [
    "The probability of observing that value from a chi-square distribution with 1 degree of freedom is .25. I don't reject the null hypothesis."
   ]
  }
 ],
 "metadata": {
  "kernelspec": {
   "display_name": "Python 2",
   "language": "python",
   "name": "python2"
  },
  "language_info": {
   "codemirror_mode": {
    "name": "ipython",
    "version": 2
   },
   "file_extension": ".py",
   "mimetype": "text/x-python",
   "name": "python",
   "nbconvert_exporter": "python",
   "pygments_lexer": "ipython2",
   "version": "2.7.11"
  }
 },
 "nbformat": 4,
 "nbformat_minor": 0
}
